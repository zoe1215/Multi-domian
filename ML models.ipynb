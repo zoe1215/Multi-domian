{
 "cells": [
  {
   "cell_type": "code",
   "execution_count": 2,
   "metadata": {},
   "outputs": [],
   "source": [
    "# System\n",
    "import os\n",
    "\n",
    "# Time\n",
    "import time\n",
    "import datetime\n",
    "\n",
    "# Numerical\n",
    "import numpy as np\n",
    "import pandas as pd\n",
    "\n",
    "# NLP\n",
    "import string\n",
    "import re\n",
    "from nltk.corpus import stopwords\n",
    "from nltk.tokenize import word_tokenize \n",
    "from nltk.stem import SnowballStemmer\n",
    "from nltk.stem import PorterStemmer\n",
    "from nltk.stem import WordNetLemmatizer\n",
    "# from pywsd.utils import lemmatize_sentence\n",
    "\n",
    "# Preprocessing\n",
    "from sklearn import preprocessing\n",
    "from sklearn.utils import class_weight as cw\n",
    "from sklearn.feature_extraction.text import CountVectorizer\n",
    "from sklearn.preprocessing import StandardScaler\n",
    "from sklearn.preprocessing import LabelEncoder\n",
    "from sklearn.model_selection import train_test_split\n",
    "from sklearn.feature_extraction.text import TfidfVectorizer\n",
    "from bs4 import BeautifulSoup\n",
    "\n",
    "# Model Selection\n",
    "from sklearn.model_selection import train_test_split, cross_val_score, GridSearchCV\n",
    "\n",
    "# Machine Learning Models\n",
    "from sklearn.linear_model import LogisticRegression\n",
    "from sklearn import svm\n",
    "from sklearn.svm import SVC\n",
    "from sklearn.naive_bayes import MultinomialNB\n",
    "from sklearn.neighbors import KNeighborsClassifier\n",
    "from sklearn.ensemble import AdaBoostClassifier, RandomForestClassifier, BaggingClassifier, ExtraTreesClassifier\n",
    "from sklearn.tree import DecisionTreeClassifier\n",
    "\n",
    "# Evaluation Metrics\n",
    "from sklearn import metrics \n",
    "from sklearn.metrics import f1_score, accuracy_score,confusion_matrix,classification_report\n",
    "\n",
    "# Deep Learing Preprocessing - Keras\n",
    "from keras.preprocessing.text import Tokenizer\n",
    "from keras.preprocessing import sequence\n",
    "from keras.utils import to_categorical\n",
    "\n",
    "# Deep Learning Model - Keras\n",
    "from keras.models import Model\n",
    "from keras.models import Sequential\n",
    "# Deep Learning Model - Keras - CNN\n",
    "from keras.layers import Conv1D, Conv2D, Convolution1D, MaxPooling1D, SeparableConv1D, SpatialDropout1D, \\\n",
    "    GlobalAvgPool1D, GlobalMaxPool1D, GlobalMaxPooling1D \n",
    "from keras.layers.pooling import _GlobalPooling1D\n",
    "from keras.layers import MaxPooling2D, GlobalMaxPooling2D, GlobalAveragePooling2D\n",
    "from keras.layers import Embedding\n",
    "from keras.layers import Input, Add, concatenate, Dense, Activation, BatchNormalization, Dropout, Flatten\n",
    "from keras.layers import LeakyReLU, PReLU, Lambda, Multiply\n",
    "\n",
    "\n",
    "\n",
    "# Deep Learning Parameters - Keras\n",
    "from keras.optimizers import RMSprop, Adam\n",
    "\n",
    "# Deep Learning Callbacs - Keras\n",
    "from keras.callbacks import ModelCheckpoint, EarlyStopping, TensorBoard, ReduceLROnPlateau\n",
    "from keras.layers import MaxPooling3D, GlobalMaxPooling3D, GlobalAveragePooling3D\n",
    "# Visualization\n",
    "\n",
    "\n",
    "import matplotlib.pyplot as plt\n",
    "import seaborn as sns\n",
    "\n",
    "%matplotlib inline"
   ]
  },
  {
   "cell_type": "markdown",
   "metadata": {},
   "source": [
    "# Load data"
   ]
  },
  {
   "cell_type": "code",
   "execution_count": 3,
   "metadata": {},
   "outputs": [],
   "source": [
    "books_neg = pd.read_csv(\"sorted_data_acl/books/books_negative.csv\")\n",
    "books_pos = pd.read_csv(\"sorted_data_acl/books/books_positive.csv\")\n",
    "dvd_neg = pd.read_csv(\"sorted_data_acl/dvd/dvd_negative.csv\")\n",
    "dvd_pos = pd.read_csv(\"sorted_data_acl/dvd/dvd_positive.csv\")\n",
    "ele_neg = pd.read_csv(\"sorted_data_acl/electronics/electronics_negative.csv\")\n",
    "ele_pos = pd.read_csv(\"sorted_data_acl/electronics/electronics_positive.csv\")\n",
    "kit_neg = pd.read_csv(\"sorted_data_acl/kitchen_&_housewares/kitchen_negative.csv\")\n",
    "kit_pos = pd.read_csv(\"sorted_data_acl/kitchen_&_housewares/kitchen_positive.csv\")\n",
    "\n",
    "#dvd_test = pd.read_csv(\"sorted_data_acl/dvd/dvd_unlabeled.csv\")\n",
    "ele_test = pd.read_csv(\"sorted_data_acl/electronics/electronics_unlabeled.csv\")\n",
    "kit_test = pd.read_csv(\"sorted_data_acl/kitchen_&_housewares/kitchen_unlabeled.csv\")"
   ]
  },
  {
   "cell_type": "code",
   "execution_count": 4,
   "metadata": {},
   "outputs": [],
   "source": [
    "books_neg['label'] = 0 \n",
    "books_pos['label'] = 1\n",
    "books = pd.concat([books_neg,books_pos],axis = 0)\n",
    "books['domain'] = 'books'\n",
    "dvd_neg['label'] = 0\n",
    "dvd_pos['label'] = 1\n",
    "dvd = pd.concat([dvd_pos, dvd_neg],axis = 0)\n",
    "dvd['domain'] = 'dvd'\n",
    "ele_neg['label'] = 0\n",
    "ele_pos['label'] = 1\n",
    "ele = pd.concat([ele_neg, ele_pos],axis = 0)\n",
    "ele['domain'] = 'electronics'\n",
    "kit_neg['label'] = 0\n",
    "kit_pos['label'] = 1\n",
    "kit = pd.concat([kit_neg, kit_pos],axis = 0)\n",
    "kit['domain'] = 'kitchen'\n",
    "alldata = pd.concat([books,dvd,ele,kit])"
   ]
  },
  {
   "cell_type": "code",
   "execution_count": 5,
   "metadata": {},
   "outputs": [],
   "source": [
    "books =books.reset_index(drop=True)\n",
    "dvd =dvd.reset_index(drop=True)\n",
    "ele =ele.reset_index(drop=True)\n",
    "kit =kit.reset_index(drop=True)"
   ]
  },
  {
   "cell_type": "code",
   "execution_count": 6,
   "metadata": {},
   "outputs": [
    {
     "data": {
      "text/plain": [
       "(             label\n",
       " count  2000.000000\n",
       " mean      0.500000\n",
       " std       0.500125\n",
       " min       0.000000\n",
       " 25%       0.000000\n",
       " 50%       0.500000\n",
       " 75%       1.000000\n",
       " max       1.000000,\n",
       "              label\n",
       " count  2000.000000\n",
       " mean      0.500000\n",
       " std       0.500125\n",
       " min       0.000000\n",
       " 25%       0.000000\n",
       " 50%       0.500000\n",
       " 75%       1.000000\n",
       " max       1.000000,\n",
       "              label\n",
       " count  2000.000000\n",
       " mean      0.500000\n",
       " std       0.500125\n",
       " min       0.000000\n",
       " 25%       0.000000\n",
       " 50%       0.500000\n",
       " 75%       1.000000\n",
       " max       1.000000,\n",
       "              label\n",
       " count  2000.000000\n",
       " mean      0.500000\n",
       " std       0.500125\n",
       " min       0.000000\n",
       " 25%       0.000000\n",
       " 50%       0.500000\n",
       " 75%       1.000000\n",
       " max       1.000000)"
      ]
     },
     "execution_count": 6,
     "metadata": {},
     "output_type": "execute_result"
    }
   ],
   "source": [
    "books.describe(),dvd.describe(),ele.describe(),kit.describe()"
   ]
  },
  {
   "cell_type": "code",
   "execution_count": 7,
   "metadata": {},
   "outputs": [
    {
     "data": {
      "text/html": [
       "<div>\n",
       "<style scoped>\n",
       "    .dataframe tbody tr th:only-of-type {\n",
       "        vertical-align: middle;\n",
       "    }\n",
       "\n",
       "    .dataframe tbody tr th {\n",
       "        vertical-align: top;\n",
       "    }\n",
       "\n",
       "    .dataframe thead th {\n",
       "        text-align: right;\n",
       "    }\n",
       "</style>\n",
       "<table border=\"1\" class=\"dataframe\">\n",
       "  <thead>\n",
       "    <tr style=\"text-align: right;\">\n",
       "      <th></th>\n",
       "      <th>unique_id</th>\n",
       "      <th>asin</th>\n",
       "      <th>product_name</th>\n",
       "      <th>product_type</th>\n",
       "      <th>helpful</th>\n",
       "      <th>rating</th>\n",
       "      <th>title</th>\n",
       "      <th>date</th>\n",
       "      <th>reviewer</th>\n",
       "      <th>reviewer_location</th>\n",
       "      <th>review_text</th>\n",
       "      <th>label</th>\n",
       "      <th>domain</th>\n",
       "    </tr>\n",
       "  </thead>\n",
       "  <tbody>\n",
       "    <tr>\n",
       "      <th>0</th>\n",
       "      <td>\\n0312355645:horrible_book,_horrible.:mark_gos...</td>\n",
       "      <td>\\n0312355645\\n</td>\n",
       "      <td>\\nRunning with Scissors: A Memoir: Books: Augu...</td>\n",
       "      <td>\\nbooks\\n</td>\n",
       "      <td>\\n4 of 9\\n</td>\n",
       "      <td>\\n1.0\\n</td>\n",
       "      <td>\\nHorrible book, horrible.\\n</td>\n",
       "      <td>\\nNovember 14, 2006\\n</td>\n",
       "      <td>\\nMark Gospri\\n</td>\n",
       "      <td>NaN</td>\n",
       "      <td>\\nTHis book was horrible.  If it was possible ...</td>\n",
       "      <td>0</td>\n",
       "      <td>books</td>\n",
       "    </tr>\n",
       "    <tr>\n",
       "      <th>1</th>\n",
       "      <td>\\n1559278676:shallow_self-indulgence:joseph_s....</td>\n",
       "      <td>\\n1559278676\\n</td>\n",
       "      <td>\\nRunning with Scissors: A Memoir: Books: Augu...</td>\n",
       "      <td>\\nbooks\\n</td>\n",
       "      <td>\\n1 of 6\\n</td>\n",
       "      <td>\\n1.0\\n</td>\n",
       "      <td>\\nshallow self-indulgence\\n</td>\n",
       "      <td>\\nNovember 15, 2006\\n</td>\n",
       "      <td>\\nJoseph S. Perrott \"avid reader\"\\n</td>\n",
       "      <td>\\nphiladelphia, pa. United States\\n</td>\n",
       "      <td>\\nI like to use the Amazon reviews when purcha...</td>\n",
       "      <td>0</td>\n",
       "      <td>books</td>\n",
       "    </tr>\n",
       "    <tr>\n",
       "      <th>2</th>\n",
       "      <td>\\n1559278676:horrible_book,_horrible.:mark_gos...</td>\n",
       "      <td>\\n1559278676\\n</td>\n",
       "      <td>\\nRunning with Scissors: A Memoir: Books: Augu...</td>\n",
       "      <td>\\nbooks\\n</td>\n",
       "      <td>\\n4 of 9\\n</td>\n",
       "      <td>\\n1.0\\n</td>\n",
       "      <td>\\nHorrible book, horrible.\\n</td>\n",
       "      <td>\\nNovember 14, 2006\\n</td>\n",
       "      <td>\\nMark Gospri\\n</td>\n",
       "      <td>NaN</td>\n",
       "      <td>\\nTHis book was horrible.  If it was possible ...</td>\n",
       "      <td>0</td>\n",
       "      <td>books</td>\n",
       "    </tr>\n",
       "    <tr>\n",
       "      <th>3</th>\n",
       "      <td>\\n0425193373:disappointment:reader_\"reader\"\\n</td>\n",
       "      <td>\\n0425193373\\n</td>\n",
       "      <td>\\nFierce Conversations: Achieving Sucess at Wo...</td>\n",
       "      <td>\\nbooks\\n</td>\n",
       "      <td>\\n10 of 13\\n</td>\n",
       "      <td>\\n1.0\\n</td>\n",
       "      <td>\\nDisappointment\\n</td>\n",
       "      <td>\\nMarch 13, 2006\\n</td>\n",
       "      <td>\\nReader \"Reader\"\\n</td>\n",
       "      <td>NaN</td>\n",
       "      <td>\\nI'm not sure who's writing these reviews, bu...</td>\n",
       "      <td>0</td>\n",
       "      <td>books</td>\n",
       "    </tr>\n",
       "    <tr>\n",
       "      <th>4</th>\n",
       "      <td>\\n0142004030:a_disappointing_mess:a._ross\\n</td>\n",
       "      <td>\\n0142004030\\n</td>\n",
       "      <td>\\nLost in a Good Book (Thursday Next Novels): ...</td>\n",
       "      <td>\\nbooks\\n</td>\n",
       "      <td>\\n6 of 7\\n</td>\n",
       "      <td>\\n2.0\\n</td>\n",
       "      <td>\\nA Disappointing Mess\\n</td>\n",
       "      <td>\\nMay 17, 2006\\n</td>\n",
       "      <td>\\nA. Ross\\n</td>\n",
       "      <td>\\nWashington, DC\\n</td>\n",
       "      <td>\\nI picked up the first book in this series (T...</td>\n",
       "      <td>0</td>\n",
       "      <td>books</td>\n",
       "    </tr>\n",
       "  </tbody>\n",
       "</table>\n",
       "</div>"
      ],
      "text/plain": [
       "                                           unique_id            asin  \\\n",
       "0  \\n0312355645:horrible_book,_horrible.:mark_gos...  \\n0312355645\\n   \n",
       "1  \\n1559278676:shallow_self-indulgence:joseph_s....  \\n1559278676\\n   \n",
       "2  \\n1559278676:horrible_book,_horrible.:mark_gos...  \\n1559278676\\n   \n",
       "3      \\n0425193373:disappointment:reader_\"reader\"\\n  \\n0425193373\\n   \n",
       "4        \\n0142004030:a_disappointing_mess:a._ross\\n  \\n0142004030\\n   \n",
       "\n",
       "                                        product_name product_type  \\\n",
       "0  \\nRunning with Scissors: A Memoir: Books: Augu...    \\nbooks\\n   \n",
       "1  \\nRunning with Scissors: A Memoir: Books: Augu...    \\nbooks\\n   \n",
       "2  \\nRunning with Scissors: A Memoir: Books: Augu...    \\nbooks\\n   \n",
       "3  \\nFierce Conversations: Achieving Sucess at Wo...    \\nbooks\\n   \n",
       "4  \\nLost in a Good Book (Thursday Next Novels): ...    \\nbooks\\n   \n",
       "\n",
       "        helpful   rating                         title                   date  \\\n",
       "0    \\n4 of 9\\n  \\n1.0\\n  \\nHorrible book, horrible.\\n  \\nNovember 14, 2006\\n   \n",
       "1    \\n1 of 6\\n  \\n1.0\\n   \\nshallow self-indulgence\\n  \\nNovember 15, 2006\\n   \n",
       "2    \\n4 of 9\\n  \\n1.0\\n  \\nHorrible book, horrible.\\n  \\nNovember 14, 2006\\n   \n",
       "3  \\n10 of 13\\n  \\n1.0\\n            \\nDisappointment\\n     \\nMarch 13, 2006\\n   \n",
       "4    \\n6 of 7\\n  \\n2.0\\n      \\nA Disappointing Mess\\n       \\nMay 17, 2006\\n   \n",
       "\n",
       "                              reviewer                    reviewer_location  \\\n",
       "0                      \\nMark Gospri\\n                                  NaN   \n",
       "1  \\nJoseph S. Perrott \"avid reader\"\\n  \\nphiladelphia, pa. United States\\n   \n",
       "2                      \\nMark Gospri\\n                                  NaN   \n",
       "3                  \\nReader \"Reader\"\\n                                  NaN   \n",
       "4                          \\nA. Ross\\n                   \\nWashington, DC\\n   \n",
       "\n",
       "                                         review_text  label domain  \n",
       "0  \\nTHis book was horrible.  If it was possible ...      0  books  \n",
       "1  \\nI like to use the Amazon reviews when purcha...      0  books  \n",
       "2  \\nTHis book was horrible.  If it was possible ...      0  books  \n",
       "3  \\nI'm not sure who's writing these reviews, bu...      0  books  \n",
       "4  \\nI picked up the first book in this series (T...      0  books  "
      ]
     },
     "execution_count": 7,
     "metadata": {},
     "output_type": "execute_result"
    }
   ],
   "source": [
    "books.head()"
   ]
  },
  {
   "cell_type": "code",
   "execution_count": 8,
   "metadata": {},
   "outputs": [
    {
     "data": {
      "text/plain": [
       "<matplotlib.axes._subplots.AxesSubplot at 0x7fd5865b20b8>"
      ]
     },
     "execution_count": 8,
     "metadata": {},
     "output_type": "execute_result"
    },
    {
     "data": {
      "image/png": "[encoded data removed]",
      "text/plain": [
       "<Figure size 432x288 with 1 Axes>"
      ]
     },
     "metadata": {
      "needs_background": "light"
     },
     "output_type": "display_data"
    }
   ],
   "source": [
    "sns.countplot(x='domain',data=alldata)"
   ]
  },
  {
   "cell_type": "code",
   "execution_count": 9,
   "metadata": {},
   "outputs": [
    {
     "data": {
      "text/plain": [
       "<matplotlib.axes._subplots.AxesSubplot at 0x7fd581faee10>"
      ]
     },
     "execution_count": 9,
     "metadata": {},
     "output_type": "execute_result"
    },
    {
     "data": {
      "image/png": "[encoded data removed]",
      "text/plain": [
       "<Figure size 432x288 with 1 Axes>"
      ]
     },
     "metadata": {
      "needs_background": "light"
     },
     "output_type": "display_data"
    }
   ],
   "source": [
    "sns.countplot(x='label',data=dvd,order=[0,1])"
   ]
  },
  {
   "cell_type": "markdown",
   "metadata": {},
   "source": [
    "# data cleaning"
   ]
  },
  {
   "cell_type": "code",
   "execution_count": 10,
   "metadata": {},
   "outputs": [],
   "source": [
    "x_books = books['review_text']\n",
    "y_books = books['label']\n",
    "\n",
    "x_dvd = dvd['review_text']\n",
    "y_dvd = dvd['label']\n",
    "\n",
    "x_ele = ele['review_text']\n",
    "y_ele = ele['label']\n",
    "\n",
    "x_kit = kit['review_text']\n",
    "y_kit = kit['label']"
   ]
  },
  {
   "cell_type": "code",
   "execution_count": 11,
   "metadata": {},
   "outputs": [
    {
     "data": {
      "text/plain": [
       "(2000,)"
      ]
     },
     "execution_count": 11,
     "metadata": {},
     "output_type": "execute_result"
    }
   ],
   "source": [
    "x_books.shape"
   ]
  },
  {
   "cell_type": "code",
   "execution_count": 12,
   "metadata": {},
   "outputs": [],
   "source": [
    "def clean_doc(doc):\n",
    "    #split into words\n",
    "    tokens = word_tokenize(doc)\n",
    "    #convert to lower case\n",
    "    tokens = [w.lower() for w in tokens]\n",
    "    #prepare regex for char filtering\n",
    "    re_punc =re.compile('[%s]'% re.escape(string.punctuation))\n",
    "    #remove punctuation\n",
    "    stripped =[re_punc.sub('',w) for w in tokens]\n",
    "    #filter out stop words\n",
    "    #stop_words = set(stopwords.words('english'))\n",
    "    #words =[w for w in words if not w in stop_words]\n",
    "    #remove remaining tokens that are not alphabetic\n",
    "    words = [w for w in stripped if w.isalpha()]\n",
    "    #filter out short tokens\n",
    "    tokens = [word for word in words if len(word)>1]\n",
    "    return tokens"
   ]
  },
  {
   "cell_type": "code",
   "execution_count": 13,
   "metadata": {},
   "outputs": [],
   "source": [
    "text_books = []\n",
    "for m in range(0,len(x_books)):\n",
    "    X = ''.join(str(i)for i in x_books[m])\n",
    "    te = clean_doc(X)\n",
    "    trainx = \" \".join(te)\n",
    "    text_books.append(trainx)"
   ]
  },
  {
   "cell_type": "code",
   "execution_count": 14,
   "metadata": {},
   "outputs": [],
   "source": [
    "text_dvd = []\n",
    "for m in range(0,len(x_dvd)):\n",
    "    X = ''.join(str(i)for i in x_dvd[m])\n",
    "    te = clean_doc(X)\n",
    "    trainx = \" \".join(te)\n",
    "    text_dvd.append(trainx)"
   ]
  },
  {
   "cell_type": "code",
   "execution_count": 15,
   "metadata": {},
   "outputs": [],
   "source": [
    "text_ele = []\n",
    "for m in range(0,len(x_ele)):\n",
    "    X = ''.join(str(i)for i in x_ele[m])\n",
    "    te = clean_doc(X)\n",
    "    trainx = \" \".join(te)\n",
    "    text_ele.append(trainx)"
   ]
  },
  {
   "cell_type": "code",
   "execution_count": 16,
   "metadata": {},
   "outputs": [],
   "source": [
    "text_kit = []\n",
    "for m in range(0,len(x_kit)):\n",
    "    X = ''.join(str(i)for i in x_kit[m])\n",
    "    te = clean_doc(X)\n",
    "    trainx = \" \".join(te)\n",
    "    text_kit.append(trainx)"
   ]
  },
  {
   "cell_type": "markdown",
   "metadata": {},
   "source": [
    "#### TF-iDF& ML models"
   ]
  },
  {
   "cell_type": "code",
   "execution_count": 17,
   "metadata": {},
   "outputs": [],
   "source": [
    "vectorizer = TfidfVectorizer()"
   ]
  },
  {
   "cell_type": "code",
   "execution_count": 18,
   "metadata": {},
   "outputs": [],
   "source": [
    "X_books = vectorizer.fit_transform(text_books)\n",
    "X_dvd = vectorizer.fit_transform(text_dvd)\n",
    "X_ele = vectorizer.fit_transform(text_ele)\n",
    "X_kit = vectorizer.fit_transform(text_kit)"
   ]
  },
  {
   "cell_type": "code",
   "execution_count": 19,
   "metadata": {},
   "outputs": [
    {
     "data": {
      "text/plain": [
       "((2000, 26106), (2000,))"
      ]
     },
     "execution_count": 19,
     "metadata": {},
     "output_type": "execute_result"
    }
   ],
   "source": [
    "X_books.shape, y_books.shape"
   ]
  },
  {
   "cell_type": "code",
   "execution_count": 20,
   "metadata": {},
   "outputs": [],
   "source": [
    "model_rf = RandomForestClassifier(n_estimators=5, n_jobs=-1, random_state=1)\n"
   ]
  },
  {
   "cell_type": "code",
   "execution_count": 21,
   "metadata": {},
   "outputs": [],
   "source": [
    "rf_b = cross_val_score(model_rf, X_books, y_books, cv=3).mean()\n",
    "rf_d = cross_val_score(model_rf, X_dvd, y_dvd, cv=3).mean()\n",
    "rf_e = cross_val_score(model_rf, X_ele, y_ele, cv=3).mean()\n",
    "rf_k = cross_val_score(model_rf, X_kit, y_kit, cv=3).mean()"
   ]
  },
  {
   "cell_type": "code",
   "execution_count": 22,
   "metadata": {},
   "outputs": [
    {
     "name": "stdout",
     "output_type": "stream",
     "text": [
      "books randomforest 0.6140128134131132\n"
     ]
    }
   ],
   "source": [
    "print('books randomforest',rf_b)"
   ]
  },
  {
   "cell_type": "code",
   "execution_count": 23,
   "metadata": {},
   "outputs": [
    {
     "name": "stdout",
     "output_type": "stream",
     "text": [
      "dvd randomforest 0.6464853159006082\n"
     ]
    }
   ],
   "source": [
    "print('dvd randomforest',rf_d)"
   ]
  },
  {
   "cell_type": "code",
   "execution_count": 24,
   "metadata": {},
   "outputs": [
    {
     "name": "stdout",
     "output_type": "stream",
     "text": [
      "ele randomforest 0.6604970787879334\n"
     ]
    }
   ],
   "source": [
    "print('ele randomforest',rf_e)"
   ]
  },
  {
   "cell_type": "code",
   "execution_count": 25,
   "metadata": {},
   "outputs": [
    {
     "name": "stdout",
     "output_type": "stream",
     "text": [
      "kit randomforest 0.6539988264126194\n"
     ]
    }
   ],
   "source": [
    "print('kit randomforest',rf_k)"
   ]
  },
  {
   "cell_type": "code",
   "execution_count": 26,
   "metadata": {},
   "outputs": [],
   "source": [
    "model_lr = LogisticRegression()"
   ]
  },
  {
   "cell_type": "code",
   "execution_count": 27,
   "metadata": {},
   "outputs": [],
   "source": [
    "lr_b = cross_val_score(model_lr, X_books, y_books, cv=3).mean()\n",
    "lr_d = cross_val_score(model_lr, X_dvd, y_dvd, cv=3).mean()\n",
    "lr_e = cross_val_score(model_lr, X_ele, y_ele, cv=3).mean()\n",
    "lr_k = cross_val_score(model_lr, X_kit, y_kit, cv=3).mean()"
   ]
  },
  {
   "cell_type": "code",
   "execution_count": 28,
   "metadata": {},
   "outputs": [
    {
     "name": "stdout",
     "output_type": "stream",
     "text": [
      "books logisticregression 0.7750051400726062\n"
     ]
    }
   ],
   "source": [
    "print('books logisticregression',lr_b)"
   ]
  },
  {
   "cell_type": "code",
   "execution_count": 29,
   "metadata": {},
   "outputs": [
    {
     "name": "stdout",
     "output_type": "stream",
     "text": [
      "dvd logisticregression 0.7784801293047169\n"
     ]
    }
   ],
   "source": [
    "print('dvd logisticregression',lr_d)"
   ]
  },
  {
   "cell_type": "code",
   "execution_count": 30,
   "metadata": {},
   "outputs": [
    {
     "name": "stdout",
     "output_type": "stream",
     "text": [
      "ele logisticregression 0.8040019029524276\n"
     ]
    }
   ],
   "source": [
    "print('ele logisticregression',lr_e)"
   ]
  },
  {
   "cell_type": "code",
   "execution_count": 31,
   "metadata": {},
   "outputs": [
    {
     "name": "stdout",
     "output_type": "stream",
     "text": [
      "kit logisticregression 0.8250071660866265\n"
     ]
    }
   ],
   "source": [
    "print('kit logisticregression',lr_k)"
   ]
  },
  {
   "cell_type": "code",
   "execution_count": 32,
   "metadata": {},
   "outputs": [
    {
     "data": {
      "image/png": "[encoded data removed]",
      "text/plain": [
       "<Figure size 432x288 with 1 Axes>"
      ]
     },
     "metadata": {
      "needs_background": "light"
     },
     "output_type": "display_data"
    }
   ],
   "source": [
    "# ML model Accuracy\n",
    "fig= plt.figure()\n",
    "ax= plt.axes\n",
    "objects = ['rf_books','lr_books','rf_dvd','lr_dvd','rf_ele','lr_ele','rf_kit','lr_kit']\n",
    "x = np.arange(len(objects),dtype=float)\n",
    "y = np.array([rf_b,lr_b,rf_d,lr_d,rf_e,lr_e,rf_k,lr_k],dtype=float)\n",
    "plt.bar(x,y,align='center',color=['b','b','r','r','y','y','g','g'])\n",
    "plt.ylim([0.6,0.83])\n",
    "plt.xticks(x,objects,rotation=90)\n",
    "#plt.ylabel('Accurancy')\n",
    "#plt.xlabel('models')\n",
    "#plt.title('Accuracy of different models')\n",
    "plt.show()"
   ]
  },
  {
   "cell_type": "markdown",
   "metadata": {},
   "source": [
    "# baseline CNN model"
   ]
  },
  {
   "cell_type": "code",
   "execution_count": 33,
   "metadata": {},
   "outputs": [],
   "source": [
    "#pre process"
   ]
  },
  {
   "cell_type": "code",
   "execution_count": 34,
   "metadata": {},
   "outputs": [
    {
     "data": {
      "text/plain": [
       "(2000, 2)"
      ]
     },
     "execution_count": 34,
     "metadata": {},
     "output_type": "execute_result"
    }
   ],
   "source": [
    "label_encoder = LabelEncoder()\n",
    "\n",
    "Y_books = label_encoder.fit_transform(y_books)\n",
    "Y_books = to_categorical(Y_books)\n",
    "Y_books.shape"
   ]
  },
  {
   "cell_type": "code",
   "execution_count": 35,
   "metadata": {},
   "outputs": [
    {
     "data": {
      "text/plain": [
       "(2000, 2)"
      ]
     },
     "execution_count": 35,
     "metadata": {},
     "output_type": "execute_result"
    }
   ],
   "source": [
    "Y_dvd = label_encoder.fit_transform(y_dvd)\n",
    "Y_dvd = to_categorical(Y_dvd)\n",
    "Y_dvd.shape"
   ]
  },
  {
   "cell_type": "code",
   "execution_count": 36,
   "metadata": {},
   "outputs": [
    {
     "data": {
      "text/plain": [
       "(2000, 2)"
      ]
     },
     "execution_count": 36,
     "metadata": {},
     "output_type": "execute_result"
    }
   ],
   "source": [
    "Y_ele = label_encoder.fit_transform(y_ele)\n",
    "Y_ele = to_categorical(Y_ele)\n",
    "Y_ele.shape"
   ]
  },
  {
   "cell_type": "code",
   "execution_count": 37,
   "metadata": {},
   "outputs": [
    {
     "data": {
      "text/plain": [
       "(2000, 2)"
      ]
     },
     "execution_count": 37,
     "metadata": {},
     "output_type": "execute_result"
    }
   ],
   "source": [
    "Y_kit = label_encoder.fit_transform(y_kit)\n",
    "Y_kit = to_categorical(Y_kit)\n",
    "Y_kit.shape"
   ]
  },
  {
   "cell_type": "code",
   "execution_count": 38,
   "metadata": {},
   "outputs": [],
   "source": [
    "X_train_b, X_test_b, Y_train_b, Y_test_b = train_test_split(text_books, Y_books, test_size=0.15)"
   ]
  },
  {
   "cell_type": "code",
   "execution_count": 39,
   "metadata": {},
   "outputs": [
    {
     "data": {
      "text/plain": [
       "(26106, 3227)"
      ]
     },
     "execution_count": 39,
     "metadata": {},
     "output_type": "execute_result"
    }
   ],
   "source": [
    "max_words_b = len(set(\" \".join(text_books).split()))\n",
    "max_len_b = max([len(s.split()) for s in text_books])\n",
    "max_words_b, max_len_b"
   ]
  },
  {
   "cell_type": "code",
   "execution_count": 40,
   "metadata": {},
   "outputs": [
    {
     "data": {
      "text/plain": [
       "(25851, 1415)"
      ]
     },
     "execution_count": 40,
     "metadata": {},
     "output_type": "execute_result"
    }
   ],
   "source": [
    "max_words_d = len(set(\" \".join(text_dvd).split()))\n",
    "max_len_d = max([len(s.split()) for s in text_dvd])\n",
    "max_words_d, max_len_d"
   ]
  },
  {
   "cell_type": "code",
   "execution_count": 41,
   "metadata": {},
   "outputs": [
    {
     "data": {
      "text/plain": [
       "(13490, 918)"
      ]
     },
     "execution_count": 41,
     "metadata": {},
     "output_type": "execute_result"
    }
   ],
   "source": [
    "max_words_e = len(set(\" \".join(text_ele).split()))\n",
    "max_len_e = max([len(s.split()) for s in text_ele])\n",
    "max_words_e, max_len_e"
   ]
  },
  {
   "cell_type": "code",
   "execution_count": 42,
   "metadata": {},
   "outputs": [
    {
     "data": {
      "text/plain": [
       "(11674, 958)"
      ]
     },
     "execution_count": 42,
     "metadata": {},
     "output_type": "execute_result"
    }
   ],
   "source": [
    "max_words_k = len(set(\" \".join(text_kit).split()))\n",
    "max_len_k = max([len(s.split()) for s in text_kit])\n",
    "max_words_k, max_len_k"
   ]
  },
  {
   "cell_type": "code",
   "execution_count": 43,
   "metadata": {},
   "outputs": [],
   "source": [
    "max_words = max(max_words_b,max_words_d,max_words_e,max_words_k)\n",
    "max_len = max(max_len_b,max_len_d,max_len_e,max_len_k)"
   ]
  },
  {
   "cell_type": "code",
   "execution_count": 44,
   "metadata": {},
   "outputs": [],
   "source": [
    "tokenizer = Tokenizer(num_words=max_words)\n",
    "\n",
    "tokenizer.fit_on_texts(X_train_b)\n",
    "\n",
    "X_train_b_seq = tokenizer.texts_to_sequences(X_train_b)\n",
    "X_train_b_seq = sequence.pad_sequences(X_train_b_seq, maxlen=max_len)\n"
   ]
  },
  {
   "cell_type": "code",
   "execution_count": 45,
   "metadata": {},
   "outputs": [],
   "source": [
    "tokenizer.fit_on_texts(X_test_b)\n",
    "\n",
    "X_test_b_seq = tokenizer.texts_to_sequences(X_test_b)\n",
    "X_test_b_seq = sequence.pad_sequences(X_test_b_seq, maxlen=max_len)"
   ]
  },
  {
   "cell_type": "code",
   "execution_count": 46,
   "metadata": {},
   "outputs": [
    {
     "data": {
      "text/plain": [
       "((1700, 3227), (300, 3227))"
      ]
     },
     "execution_count": 46,
     "metadata": {},
     "output_type": "execute_result"
    }
   ],
   "source": [
    "X_train_b_seq.shape,X_test_b_seq.shape"
   ]
  },
  {
   "cell_type": "code",
   "execution_count": 47,
   "metadata": {},
   "outputs": [],
   "source": [
    "def get_cnn_model(num_class=2):   \n",
    "    model = Sequential()\n",
    "    \n",
    "    model.add(Embedding(max_words, 100, input_length=max_len))\n",
    "    \n",
    "    model.add(Conv1D(1024, 2, padding='valid', activation='relu', strides=1))\n",
    "    model.add(GlobalMaxPooling1D())\n",
    "    \n",
    "    \n",
    "    model.add(Dropout(0.5))\n",
    "    model.add(BatchNormalization())\n",
    "    model.add(Dropout(0.5))\n",
    "    \n",
    "    model.add(Dense(2048, activation='relu'))\n",
    "    \n",
    "    model.add(Dropout(0.5))\n",
    "    model.add(BatchNormalization())\n",
    "    model.add(Dropout(0.5))\n",
    "    \n",
    "    model.add(Dense(num_class, activation='softmax'))\n",
    "    model.summary()\n",
    "    return model"
   ]
  },
  {
   "cell_type": "code",
   "execution_count": 48,
   "metadata": {},
   "outputs": [],
   "source": [
    "def plot_performance(history=None, ylim_pad=[0, 0]):\n",
    "    xlabel = 'Epoch'\n",
    "    legends = ['Training', 'Validation']\n",
    "\n",
    "    plt.figure(figsize=(20, 5))\n",
    "\n",
    "    y1 = history.history['acc']\n",
    "    y2 = history.history['val_acc']\n",
    "\n",
    "    min_y = min(min(y1), min(y2))-ylim_pad[0]\n",
    "    max_y = max(max(y1), max(y2))+ylim_pad[0]\n",
    "\n",
    "\n",
    "    plt.subplot(121)\n",
    "\n",
    "    plt.plot(y1)\n",
    "    plt.plot(y2)\n",
    "\n",
    "    plt.title('Model Accuracy', fontsize=17)\n",
    "    plt.xlabel(xlabel, fontsize=15)\n",
    "    plt.ylabel('Accuracy', fontsize=15)\n",
    "    plt.ylim(min_y, max_y)\n",
    "    plt.legend(legends, loc='upper left')\n",
    "    plt.grid()\n",
    "\n",
    "    y1 = history.history['loss']\n",
    "    y2 = history.history['val_loss']\n",
    "\n",
    "    min_y = min(min(y1), min(y2))-ylim_pad[1]\n",
    "    max_y = max(max(y1), max(y2))+ylim_pad[1]\n",
    "\n",
    "\n",
    "    plt.subplot(122)\n",
    "\n",
    "    plt.plot(y1)\n",
    "    plt.plot(y2)\n",
    "\n",
    "    plt.title('Model Loss', fontsize=17)\n",
    "    plt.xlabel(xlabel, fontsize=15)\n",
    "    plt.ylabel('Loss', fontsize=15)\n",
    "    plt.ylim(min_y, max_y)\n",
    "    plt.legend(legends, loc='upper left')\n",
    "    plt.grid()\n",
    "\n",
    "    plt.show()"
   ]
  },
  {
   "cell_type": "markdown",
   "metadata": {},
   "source": [
    "### performance in one domain"
   ]
  },
  {
   "cell_type": "code",
   "execution_count": 49,
   "metadata": {},
   "outputs": [],
   "source": [
    "loss = 'binary_crossentropy'\n",
    "metrics = ['accuracy']"
   ]
  },
  {
   "cell_type": "code",
   "execution_count": 50,
   "metadata": {},
   "outputs": [],
   "source": [
    "learning_rate = 0.01\n",
    "optimizer = Adam(learning_rate)"
   ]
  },
  {
   "cell_type": "code",
   "execution_count": 51,
   "metadata": {},
   "outputs": [
    {
     "name": "stdout",
     "output_type": "stream",
     "text": [
      "_________________________________________________________________\n",
      "Layer (type)                 Output Shape              Param #   \n",
      "=================================================================\n",
      "embedding_1 (Embedding)      (None, 3227, 100)         2610600   \n",
      "_________________________________________________________________\n",
      "conv1d_1 (Conv1D)            (None, 3226, 1024)        205824    \n",
      "_________________________________________________________________\n",
      "global_max_pooling1d_1 (Glob (None, 1024)              0         \n",
      "_________________________________________________________________\n",
      "dropout_1 (Dropout)          (None, 1024)              0         \n",
      "_________________________________________________________________\n",
      "batch_normalization_1 (Batch (None, 1024)              4096      \n",
      "_________________________________________________________________\n",
      "dropout_2 (Dropout)          (None, 1024)              0         \n",
      "_________________________________________________________________\n",
      "dense_1 (Dense)              (None, 2048)              2099200   \n",
      "_________________________________________________________________\n",
      "dropout_3 (Dropout)          (None, 2048)              0         \n",
      "_________________________________________________________________\n",
      "batch_normalization_2 (Batch (None, 2048)              8192      \n",
      "_________________________________________________________________\n",
      "dropout_4 (Dropout)          (None, 2048)              0         \n",
      "_________________________________________________________________\n",
      "dense_2 (Dense)              (None, 2)                 4098      \n",
      "=================================================================\n",
      "Total params: 4,932,010\n",
      "Trainable params: 4,925,866\n",
      "Non-trainable params: 6,144\n",
      "_________________________________________________________________\n"
     ]
    }
   ],
   "source": [
    "num_class = 2\n",
    "model1 = get_cnn_model(num_class=num_class)"
   ]
  },
  {
   "cell_type": "code",
   "execution_count": 68,
   "metadata": {},
   "outputs": [
    {
     "name": "stdout",
     "output_type": "stream",
     "text": [
      "Train on 1700 samples, validate on 300 samples\n",
      "Epoch 1/20\n",
      "1700/1700 [==============================] - 488s 287ms/step - loss: 2.3708 - acc: 0.5088 - val_loss: 0.9981 - val_acc: 0.5900\n",
      "Epoch 2/20\n",
      "1700/1700 [==============================] - 473s 278ms/step - loss: 2.3814 - acc: 0.5588 - val_loss: 1.3808 - val_acc: 0.5967\n",
      "Epoch 3/20\n",
      "1700/1700 [==============================] - 457s 269ms/step - loss: 2.0483 - acc: 0.5735 - val_loss: 1.8003 - val_acc: 0.5800\n",
      "Epoch 4/20\n",
      "1700/1700 [==============================] - 450s 265ms/step - loss: 1.7458 - acc: 0.6124 - val_loss: 1.3615 - val_acc: 0.5767\n",
      "Epoch 5/20\n",
      "1700/1700 [==============================] - 443s 260ms/step - loss: 1.3040 - acc: 0.6759 - val_loss: 1.5295 - val_acc: 0.5600\n",
      "Epoch 6/20\n",
      "1700/1700 [==============================] - 431s 254ms/step - loss: 1.0186 - acc: 0.7582 - val_loss: 1.8651 - val_acc: 0.5633\n",
      "Epoch 7/20\n",
      "1700/1700 [==============================] - 429s 252ms/step - loss: 0.7710 - acc: 0.8294 - val_loss: 2.1527 - val_acc: 0.5667\n",
      "Epoch 8/20\n",
      "1700/1700 [==============================] - 424s 250ms/step - loss: 0.6119 - acc: 0.8641 - val_loss: 2.4688 - val_acc: 0.5333\n",
      "Epoch 9/20\n",
      "1700/1700 [==============================] - 400s 236ms/step - loss: 0.3632 - acc: 0.9088 - val_loss: 3.3848 - val_acc: 0.4900\n",
      "Epoch 10/20\n",
      "1700/1700 [==============================] - 414s 243ms/step - loss: 0.2597 - acc: 0.9359 - val_loss: 3.9134 - val_acc: 0.5133\n",
      "Epoch 11/20\n",
      "1700/1700 [==============================] - 397s 233ms/step - loss: 0.2924 - acc: 0.9412 - val_loss: 4.2396 - val_acc: 0.5100\n",
      "Epoch 12/20\n",
      "1700/1700 [==============================] - 415s 244ms/step - loss: 0.2135 - acc: 0.9582 - val_loss: 4.3719 - val_acc: 0.5167\n",
      "Epoch 13/20\n",
      "1700/1700 [==============================] - 410s 241ms/step - loss: 0.1605 - acc: 0.9606 - val_loss: 4.7506 - val_acc: 0.5133\n",
      "Epoch 14/20\n",
      "1700/1700 [==============================] - 412s 243ms/step - loss: 0.1325 - acc: 0.9753 - val_loss: 4.7755 - val_acc: 0.4967\n",
      "Epoch 15/20\n",
      "1700/1700 [==============================] - 411s 242ms/step - loss: 0.1135 - acc: 0.9712 - val_loss: 4.7013 - val_acc: 0.4900\n",
      "Epoch 16/20\n",
      "1700/1700 [==============================] - 434s 255ms/step - loss: 0.1514 - acc: 0.9735 - val_loss: 4.8301 - val_acc: 0.4833\n",
      "Epoch 17/20\n",
      "1700/1700 [==============================] - 415s 244ms/step - loss: 0.0917 - acc: 0.9700 - val_loss: 4.9710 - val_acc: 0.4967\n",
      "Epoch 18/20\n",
      "1700/1700 [==============================] - 406s 239ms/step - loss: 0.0594 - acc: 0.9847 - val_loss: 5.0717 - val_acc: 0.4967\n",
      "Epoch 19/20\n",
      "1700/1700 [==============================] - 425s 250ms/step - loss: 0.0555 - acc: 0.9859 - val_loss: 5.2462 - val_acc: 0.5033\n",
      "Epoch 20/20\n",
      "1700/1700 [==============================] - 422s 248ms/step - loss: 0.1038 - acc: 0.9806 - val_loss: 5.7370 - val_acc: 0.4833\n"
     ]
    }
   ],
   "source": [
    "# fit network\n",
    "model1.compile(optimizer=optimizer, loss=loss, metrics=metrics)\n",
    "history1 = model1.fit(X_train_b_seq, Y_train_b, validation_data=(X_test_b_seq, Y_test_b),batch_size=128,epochs=20)"
   ]
  },
  {
   "cell_type": "code",
   "execution_count": 71,
   "metadata": {},
   "outputs": [
    {
     "data": {
      "image/png": "[encoded data removed]",
      "text/plain": [
       "<Figure size 1440x360 with 2 Axes>"
      ]
     },
     "metadata": {
      "needs_background": "light"
     },
     "output_type": "display_data"
    }
   ],
   "source": [
    "plot_performance(history=history1)"
   ]
  },
  {
   "cell_type": "markdown",
   "metadata": {},
   "source": [
    "#### in multiple domain"
   ]
  },
  {
   "cell_type": "code",
   "execution_count": 52,
   "metadata": {},
   "outputs": [],
   "source": [
    "tokenizer.fit_on_texts(text_books)\n",
    "\n",
    "X_b_seq = tokenizer.texts_to_sequences(text_books)\n",
    "X_b_seq = sequence.pad_sequences(X_b_seq, maxlen=max_len)"
   ]
  },
  {
   "cell_type": "code",
   "execution_count": 53,
   "metadata": {},
   "outputs": [],
   "source": [
    "tokenizer.fit_on_texts(text_dvd)\n",
    "\n",
    "X_d_seq = tokenizer.texts_to_sequences(text_dvd)\n",
    "X_d_seq = sequence.pad_sequences(X_d_seq, maxlen=max_len)"
   ]
  },
  {
   "cell_type": "code",
   "execution_count": 54,
   "metadata": {},
   "outputs": [],
   "source": [
    "tokenizer.fit_on_texts(text_ele)\n",
    "\n",
    "X_e_seq = tokenizer.texts_to_sequences(text_ele)\n",
    "X_e_seq = sequence.pad_sequences(X_e_seq, maxlen=max_len)"
   ]
  },
  {
   "cell_type": "code",
   "execution_count": 55,
   "metadata": {},
   "outputs": [],
   "source": [
    "tokenizer.fit_on_texts(text_kit)\n",
    "\n",
    "X_k_seq = tokenizer.texts_to_sequences(text_kit)\n",
    "X_k_seq = sequence.pad_sequences(X_k_seq, maxlen=max_len)"
   ]
  },
  {
   "cell_type": "code",
   "execution_count": 76,
   "metadata": {},
   "outputs": [
    {
     "name": "stdout",
     "output_type": "stream",
     "text": [
      "Train on 2000 samples, validate on 2000 samples\n",
      "Epoch 1/20\n",
      "2000/2000 [==============================] - 538s 269ms/step - loss: 3.6463 - acc: 0.5150 - val_loss: 1.8669 - val_acc: 0.4985\n",
      "Epoch 2/20\n",
      "2000/2000 [==============================] - 532s 266ms/step - loss: 1.9161 - acc: 0.6015 - val_loss: 1.7882 - val_acc: 0.5110\n",
      "Epoch 3/20\n",
      "2000/2000 [==============================] - 527s 264ms/step - loss: 1.4799 - acc: 0.6535 - val_loss: 1.5499 - val_acc: 0.5200\n",
      "Epoch 4/20\n",
      "2000/2000 [==============================] - 517s 259ms/step - loss: 1.0364 - acc: 0.7435 - val_loss: 2.9423 - val_acc: 0.5135\n",
      "Epoch 5/20\n",
      "2000/2000 [==============================] - 518s 259ms/step - loss: 0.7617 - acc: 0.8300 - val_loss: 2.5536 - val_acc: 0.5145\n",
      "Epoch 6/20\n",
      "2000/2000 [==============================] - 527s 264ms/step - loss: 0.5307 - acc: 0.8665 - val_loss: 3.3002 - val_acc: 0.5255\n",
      "Epoch 7/20\n",
      "2000/2000 [==============================] - 521s 261ms/step - loss: 0.4207 - acc: 0.9110 - val_loss: 3.2628 - val_acc: 0.5300\n",
      "Epoch 8/20\n",
      "2000/2000 [==============================] - 523s 262ms/step - loss: 0.2626 - acc: 0.9330 - val_loss: 3.4520 - val_acc: 0.5295\n",
      "Epoch 9/20\n",
      "2000/2000 [==============================] - 524s 262ms/step - loss: 0.2216 - acc: 0.9455 - val_loss: 3.9278 - val_acc: 0.5065\n",
      "Epoch 10/20\n",
      "2000/2000 [==============================] - 536s 268ms/step - loss: 0.1239 - acc: 0.9675 - val_loss: 3.8482 - val_acc: 0.5180\n",
      "Epoch 11/20\n",
      "2000/2000 [==============================] - 523s 261ms/step - loss: 0.0957 - acc: 0.9780 - val_loss: 3.9803 - val_acc: 0.5170\n",
      "Epoch 12/20\n",
      "2000/2000 [==============================] - 522s 261ms/step - loss: 0.0911 - acc: 0.9755 - val_loss: 3.8827 - val_acc: 0.5200\n",
      "Epoch 13/20\n",
      "2000/2000 [==============================] - 521s 260ms/step - loss: 0.0402 - acc: 0.9885 - val_loss: 3.9215 - val_acc: 0.5305\n",
      "Epoch 14/20\n",
      "2000/2000 [==============================] - 512s 256ms/step - loss: 0.0605 - acc: 0.9810 - val_loss: 4.2151 - val_acc: 0.5160\n",
      "Epoch 15/20\n",
      "2000/2000 [==============================] - 528s 264ms/step - loss: 0.0580 - acc: 0.9855 - val_loss: 4.1436 - val_acc: 0.5250\n",
      "Epoch 16/20\n",
      "2000/2000 [==============================] - 531s 265ms/step - loss: 0.0378 - acc: 0.9920 - val_loss: 4.1314 - val_acc: 0.5245\n",
      "Epoch 17/20\n",
      "2000/2000 [==============================] - 524s 262ms/step - loss: 0.0413 - acc: 0.9905 - val_loss: 4.0998 - val_acc: 0.5165\n",
      "Epoch 18/20\n",
      "2000/2000 [==============================] - 513s 256ms/step - loss: 0.0247 - acc: 0.9930 - val_loss: 4.1400 - val_acc: 0.5190\n",
      "Epoch 19/20\n",
      "2000/2000 [==============================] - 541s 270ms/step - loss: 0.0218 - acc: 0.9930 - val_loss: 4.1039 - val_acc: 0.5170\n",
      "Epoch 20/20\n",
      "2000/2000 [==============================] - 529s 265ms/step - loss: 0.0253 - acc: 0.9945 - val_loss: 4.1605 - val_acc: 0.5145\n"
     ]
    }
   ],
   "source": [
    "history_b_d = model1.fit(X_b_seq, Y_books, validation_data=(X_d_seq, Y_dvd),batch_size=128,epochs=20)"
   ]
  },
  {
   "cell_type": "code",
   "execution_count": 57,
   "metadata": {
    "scrolled": true
   },
   "outputs": [
    {
     "name": "stdout",
     "output_type": "stream",
     "text": [
      "Train on 2000 samples, validate on 2000 samples\n",
      "Epoch 1/20\n",
      "2000/2000 [==============================] - 457s 228ms/step - loss: 2.4521 - acc: 0.5245 - val_loss: 3.3541 - val_acc: 0.5025\n",
      "Epoch 2/20\n",
      "2000/2000 [==============================] - 442s 221ms/step - loss: 2.0607 - acc: 0.5780 - val_loss: 3.0588 - val_acc: 0.5150\n",
      "Epoch 3/20\n",
      "2000/2000 [==============================] - 460s 230ms/step - loss: 1.8559 - acc: 0.6015 - val_loss: 1.9673 - val_acc: 0.4885\n",
      "Epoch 4/20\n",
      "2000/2000 [==============================] - 435s 217ms/step - loss: 1.4873 - acc: 0.6570 - val_loss: 2.0155 - val_acc: 0.4590\n",
      "Epoch 5/20\n",
      "2000/2000 [==============================] - 441s 220ms/step - loss: 1.1565 - acc: 0.7405 - val_loss: 1.8670 - val_acc: 0.4985\n",
      "Epoch 6/20\n",
      "2000/2000 [==============================] - 442s 221ms/step - loss: 0.8230 - acc: 0.8025 - val_loss: 2.3801 - val_acc: 0.4950\n",
      "Epoch 7/20\n",
      "2000/2000 [==============================] - 440s 220ms/step - loss: 0.5790 - acc: 0.8645 - val_loss: 2.9083 - val_acc: 0.4920\n",
      "Epoch 8/20\n",
      "2000/2000 [==============================] - 435s 218ms/step - loss: 0.4324 - acc: 0.8920 - val_loss: 3.4810 - val_acc: 0.5015\n",
      "Epoch 9/20\n",
      "2000/2000 [==============================] - 435s 218ms/step - loss: 0.3033 - acc: 0.9235 - val_loss: 3.9431 - val_acc: 0.4950\n",
      "Epoch 10/20\n",
      "2000/2000 [==============================] - 437s 219ms/step - loss: 0.2366 - acc: 0.9465 - val_loss: 4.1406 - val_acc: 0.5010\n",
      "Epoch 11/20\n",
      "2000/2000 [==============================] - 443s 221ms/step - loss: 0.1791 - acc: 0.9610 - val_loss: 4.5790 - val_acc: 0.4865\n",
      "Epoch 12/20\n",
      "2000/2000 [==============================] - 435s 218ms/step - loss: 0.1287 - acc: 0.9665 - val_loss: 4.7291 - val_acc: 0.4865\n",
      "Epoch 13/20\n",
      "2000/2000 [==============================] - 438s 219ms/step - loss: 0.1569 - acc: 0.9640 - val_loss: 4.6157 - val_acc: 0.4885\n",
      "Epoch 14/20\n",
      "2000/2000 [==============================] - 436s 218ms/step - loss: 0.1315 - acc: 0.9670 - val_loss: 4.7235 - val_acc: 0.4945\n",
      "Epoch 15/20\n",
      "2000/2000 [==============================] - 433s 217ms/step - loss: 0.1253 - acc: 0.9745 - val_loss: 4.8068 - val_acc: 0.4920\n",
      "Epoch 16/20\n",
      "2000/2000 [==============================] - 434s 217ms/step - loss: 0.0833 - acc: 0.9810 - val_loss: 5.1392 - val_acc: 0.4990\n",
      "Epoch 17/20\n",
      "2000/2000 [==============================] - 434s 217ms/step - loss: 0.1015 - acc: 0.9820 - val_loss: 5.1460 - val_acc: 0.4980\n",
      "Epoch 18/20\n",
      "2000/2000 [==============================] - 435s 217ms/step - loss: 0.0784 - acc: 0.9850 - val_loss: 5.2401 - val_acc: 0.4835\n",
      "Epoch 19/20\n",
      "2000/2000 [==============================] - 433s 217ms/step - loss: 0.0915 - acc: 0.9805 - val_loss: 5.2394 - val_acc: 0.4875\n",
      "Epoch 20/20\n",
      "2000/2000 [==============================] - 441s 221ms/step - loss: 0.0689 - acc: 0.9785 - val_loss: 5.4260 - val_acc: 0.4765\n"
     ]
    }
   ],
   "source": [
    "model1.compile(optimizer=optimizer, loss=loss, metrics=metrics)\n",
    "history_b_e = model1.fit(X_b_seq, Y_books, validation_data=(X_e_seq, Y_ele),batch_size=128,epochs=20)"
   ]
  },
  {
   "cell_type": "code",
   "execution_count": null,
   "metadata": {},
   "outputs": [],
   "source": []
  },
  {
   "cell_type": "code",
   "execution_count": 77,
   "metadata": {},
   "outputs": [
    {
     "data": {
      "image/png": "[encoded data removed]",
      "text/plain": [
       "<Figure size 1440x360 with 2 Axes>"
      ]
     },
     "metadata": {
      "needs_background": "light"
     },
     "output_type": "display_data"
    }
   ],
   "source": [
    "plot_performance(history=history_b_d)"
   ]
  },
  {
   "cell_type": "code",
   "execution_count": null,
   "metadata": {},
   "outputs": [],
   "source": [
    "plot_performance(history=history_b_e)"
   ]
  },
  {
   "cell_type": "markdown",
   "metadata": {},
   "source": [
    "plot_performance(history=history_b_k)"
   ]
  },
  {
   "cell_type": "code",
   "execution_count": null,
   "metadata": {},
   "outputs": [],
   "source": []
  },
  {
   "cell_type": "code",
   "execution_count": null,
   "metadata": {},
   "outputs": [],
   "source": []
  }
 ],
 "metadata": {
  "kernelspec": {
   "display_name": "Python 3",
   "language": "python",
   "name": "python3"
  },
  "language_info": {
   "codemirror_mode": {
    "name": "ipython",
    "version": 3
   },
   "file_extension": ".py",
   "mimetype": "text/x-python",
   "name": "python",
   "nbconvert_exporter": "python",
   "pygments_lexer": "ipython3",
   "version": "3.6.9"
  }
 },
 "nbformat": 4,
 "nbformat_minor": 2
}
