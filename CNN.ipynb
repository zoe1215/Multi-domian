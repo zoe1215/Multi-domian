{
  "nbformat": 4,
  "nbformat_minor": 0,
  "metadata": {
    "colab": {
      "name": "CNN.ipynb",
      "provenance": []
    },
    "kernelspec": {
      "name": "python3",
      "display_name": "Python 3"
    }
  },
  "cells": [
    {
      "cell_type": "code",
      "metadata": {
        "id": "eJoAW9IwHjRG",
        "colab_type": "code",
        "colab": {
          "base_uri": "https://localhost:8080/",
          "height": 54
        },
        "outputId": "d1bb7577-f418-4261-92e0-6d9b66892ab6"
      },
      "source": [
        "from google.colab import drive\n",
        "drive.mount('/content/drive/')"
      ],
      "execution_count": 3,
      "outputs": [
        {
          "output_type": "stream",
          "text": [
            "Drive already mounted at /content/drive/; to attempt to forcibly remount, call drive.mount(\"/content/drive/\", force_remount=True).\n"
          ],
          "name": "stdout"
        }
      ]
    },
    {
      "cell_type": "code",
      "metadata": {
        "id": "1xHqgCS_NQnx",
        "colab_type": "code",
        "colab": {
          "base_uri": "https://localhost:8080/",
          "height": 68
        },
        "outputId": "e9621ba5-762f-4254-c4ab-276e49be62b7"
      },
      "source": [
        "import nltk\n",
        "nltk.download('punkt')"
      ],
      "execution_count": 4,
      "outputs": [
        {
          "output_type": "stream",
          "text": [
            "[nltk_data] Downloading package punkt to /root/nltk_data...\n",
            "[nltk_data]   Package punkt is already up-to-date!\n"
          ],
          "name": "stdout"
        },
        {
          "output_type": "execute_result",
          "data": {
            "text/plain": [
              "True"
            ]
          },
          "metadata": {
            "tags": []
          },
          "execution_count": 4
        }
      ]
    },
    {
      "cell_type": "code",
      "metadata": {
        "id": "xf_z_hXDNRLh",
        "colab_type": "code",
        "colab": {
          "base_uri": "https://localhost:8080/",
          "height": 88
        },
        "outputId": "55b1d95c-d100-4fdf-e9fa-54a5cbdd9cdd"
      },
      "source": [
        "# System\n",
        "import os\n",
        "\n",
        "# Time\n",
        "import time\n",
        "import datetime\n",
        "\n",
        "# Numerical\n",
        "import numpy as np\n",
        "import pandas as pd\n",
        "\n",
        "# NLP\n",
        "import string\n",
        "import re\n",
        "from nltk.corpus import stopwords\n",
        "from nltk.tokenize import word_tokenize \n",
        "from nltk.stem import SnowballStemmer\n",
        "from nltk.stem import PorterStemmer\n",
        "from nltk.stem import WordNetLemmatizer\n",
        "# from pywsd.utils import lemmatize_sentence\n",
        "from gensim.models import Word2Vec\n",
        "\n",
        "# Preprocessing\n",
        "from sklearn import preprocessing\n",
        "from sklearn.utils import class_weight as cw\n",
        "from sklearn.feature_extraction.text import CountVectorizer\n",
        "from sklearn.preprocessing import StandardScaler\n",
        "from sklearn.preprocessing import LabelEncoder\n",
        "from sklearn.model_selection import train_test_split\n",
        "from sklearn.feature_extraction.text import TfidfVectorizer\n",
        "from bs4 import BeautifulSoup\n",
        "\n",
        "# Model Selection\n",
        "from sklearn.model_selection import train_test_split, cross_val_score, GridSearchCV\n",
        "\n",
        "# Machine Learning Models\n",
        "from sklearn.linear_model import LogisticRegression\n",
        "from sklearn import svm\n",
        "from sklearn.svm import SVC\n",
        "from sklearn.naive_bayes import MultinomialNB\n",
        "from sklearn.neighbors import KNeighborsClassifier\n",
        "from sklearn.ensemble import AdaBoostClassifier, RandomForestClassifier, BaggingClassifier, ExtraTreesClassifier\n",
        "from sklearn.tree import DecisionTreeClassifier\n",
        "\n",
        "# Evaluation Metrics\n",
        "from sklearn import metrics \n",
        "from sklearn.metrics import f1_score, accuracy_score,confusion_matrix,classification_report\n",
        "\n",
        "# Deep Learing Preprocessing - Keras\n",
        "from keras.preprocessing.text import Tokenizer\n",
        "from keras.preprocessing import sequence\n",
        "from keras.utils import to_categorical\n",
        "\n",
        "# Deep Learning Model - Keras\n",
        "from keras.models import Model\n",
        "from keras.models import Sequential\n",
        "from keras.utils import plot_model\n",
        "# Deep Learning Model - Keras - CNN\n",
        "from keras.layers import Conv1D, Conv2D, Convolution1D, MaxPooling1D, SeparableConv1D, SpatialDropout1D, \\\n",
        "    GlobalAvgPool1D, GlobalMaxPool1D, GlobalMaxPooling1D \n",
        "from keras.layers.pooling import _GlobalPooling1D\n",
        "from keras.layers import MaxPooling2D, GlobalMaxPooling2D, GlobalAveragePooling2D\n",
        "from keras.layers import Embedding\n",
        "from keras.layers import Input, Add, concatenate, Dense, Activation, BatchNormalization, Dropout, Flatten\n",
        "from keras.layers import LeakyReLU, PReLU, Lambda, Multiply\n",
        "# Deep Learning Model - Keras - LSTM\n",
        "from keras.preprocessing.sequence import pad_sequences\n",
        "from keras.layers import LSTM\n",
        "from keras.layers import Dense\n",
        "from keras.layers import TimeDistributed\n",
        "from keras.layers import Bidirectional\n",
        "\n",
        "\n",
        "# Deep Learning Parameters - Keras\n",
        "from keras.optimizers import RMSprop, Adam\n",
        "\n",
        "# Deep Learning Callbacs - Keras\n",
        "from keras.callbacks import ModelCheckpoint, EarlyStopping, TensorBoard, ReduceLROnPlateau\n",
        "from keras.layers import MaxPooling3D, GlobalMaxPooling3D, GlobalAveragePooling3D\n",
        "# Visualization\n",
        "\n",
        "\n",
        "import matplotlib.pyplot as plt\n",
        "import seaborn as sns\n",
        "\n",
        "%matplotlib inline"
      ],
      "execution_count": 5,
      "outputs": [
        {
          "output_type": "stream",
          "text": [
            "Using TensorFlow backend.\n",
            "/usr/local/lib/python3.6/dist-packages/statsmodels/tools/_testing.py:19: FutureWarning: pandas.util.testing is deprecated. Use the functions in the public API at pandas.testing instead.\n",
            "  import pandas.util.testing as tm\n"
          ],
          "name": "stderr"
        }
      ]
    },
    {
      "cell_type": "code",
      "metadata": {
        "id": "4P6TQby5NfdW",
        "colab_type": "code",
        "colab": {}
      },
      "source": [
        "books_neg = pd.read_csv(\"/content/drive/My Drive/LSTM/books_negative.csv\")\n",
        "books_pos = pd.read_csv(\"/content/drive/My Drive/LSTM/books_positive.csv\")\n",
        "dvd_neg = pd.read_csv(\"/content/drive/My Drive/LSTM/dvd_negative.csv\")\n",
        "dvd_pos = pd.read_csv(\"/content/drive/My Drive/LSTM/dvd_positive.csv\")\n",
        "ele_neg = pd.read_csv(\"/content/drive/My Drive/LSTM/electronics_negative.csv\")\n",
        "ele_pos = pd.read_csv(\"/content/drive/My Drive/LSTM/electronics_positive.csv\")\n",
        "kit_neg = pd.read_csv(\"/content/drive/My Drive/LSTM/kitchen_negative.csv\")\n",
        "kit_pos = pd.read_csv(\"/content/drive/My Drive/LSTM/kitchen_positive.csv\")\n"
      ],
      "execution_count": 6,
      "outputs": []
    },
    {
      "cell_type": "code",
      "metadata": {
        "id": "TjejsxtGNgNZ",
        "colab_type": "code",
        "colab": {}
      },
      "source": [
        "books_neg['label'] = 0 \n",
        "books_pos['label'] = 1\n",
        "books = pd.concat([books_neg,books_pos],axis = 0)\n",
        "books['domain'] = 'books'\n",
        "dvd_neg['label'] = 0\n",
        "dvd_pos['label'] = 1\n",
        "dvd = pd.concat([dvd_pos, dvd_neg],axis = 0)\n",
        "dvd['domain'] = 'dvd'\n",
        "ele_neg['label'] = 0\n",
        "ele_pos['label'] = 1\n",
        "ele = pd.concat([ele_neg, ele_pos],axis = 0)\n",
        "ele['domain'] = 'electronics'\n",
        "kit_neg['label'] = 0\n",
        "kit_pos['label'] = 1\n",
        "kit = pd.concat([kit_neg, kit_pos],axis = 0)\n",
        "kit['domain'] = 'kitchen'\n",
        "alldata = pd.concat([books,dvd,ele,kit])"
      ],
      "execution_count": 7,
      "outputs": []
    },
    {
      "cell_type": "code",
      "metadata": {
        "id": "Bjo6l6vGNjPt",
        "colab_type": "code",
        "colab": {}
      },
      "source": [
        "books =books.reset_index(drop=True)\n",
        "dvd =dvd.reset_index(drop=True)\n",
        "ele =ele.reset_index(drop=True)\n",
        "kit =kit.reset_index(drop=True)"
      ],
      "execution_count": 8,
      "outputs": []
    },
    {
      "cell_type": "code",
      "metadata": {
        "id": "8uA4vkA5Nlp0",
        "colab_type": "code",
        "colab": {}
      },
      "source": [
        "x_books = books['review_text']\n",
        "y_books = books['label']\n",
        "\n",
        "x_dvd = dvd['review_text']\n",
        "y_dvd = dvd['label']\n",
        "\n",
        "x_ele = ele['review_text']\n",
        "y_ele = ele['label']\n",
        "\n",
        "x_kit = kit['review_text']\n",
        "y_kit = kit['label']"
      ],
      "execution_count": 9,
      "outputs": []
    },
    {
      "cell_type": "code",
      "metadata": {
        "id": "HgclPwlUNpK4",
        "colab_type": "code",
        "colab": {}
      },
      "source": [
        "def clean_doc(doc):\n",
        "    #split into words\n",
        "    tokens = word_tokenize(doc)\n",
        "    #convert to lower case\n",
        "    tokens = [w.lower() for w in tokens]\n",
        "    #prepare regex for char filtering\n",
        "    re_punc =re.compile('[%s]'% re.escape(string.punctuation))\n",
        "    #remove punctuation\n",
        "    stripped =[re_punc.sub('',w) for w in tokens]\n",
        "    #filter out stop words\n",
        "    #stop_words = set(stopwords.words('english'))\n",
        "    #words =[w for w in words if not w in stop_words]\n",
        "    #remove remaining tokens that are not alphabetic\n",
        "    words = [w for w in stripped if w.isalpha()]\n",
        "    #filter out short tokens\n",
        "    tokens = [word for word in words if len(word)>1]\n",
        "    return tokens"
      ],
      "execution_count": 10,
      "outputs": []
    },
    {
      "cell_type": "code",
      "metadata": {
        "id": "HD1pFgzVNpOR",
        "colab_type": "code",
        "colab": {}
      },
      "source": [
        "text_books = []\n",
        "for m in range(0,len(x_books)):\n",
        "    X = ''.join(str(i)for i in x_books[m])\n",
        "    te = clean_doc(X)\n",
        "    trainx = \" \".join(te)\n",
        "    text_books.append(trainx)"
      ],
      "execution_count": 11,
      "outputs": []
    },
    {
      "cell_type": "code",
      "metadata": {
        "id": "mQQDymH5NpRm",
        "colab_type": "code",
        "colab": {}
      },
      "source": [
        "text_dvd = []\n",
        "for m in range(0,len(x_dvd)):\n",
        "    X = ''.join(str(i)for i in x_dvd[m])\n",
        "    te = clean_doc(X)\n",
        "    trainx = \" \".join(te)\n",
        "    text_dvd.append(trainx)"
      ],
      "execution_count": 12,
      "outputs": []
    },
    {
      "cell_type": "code",
      "metadata": {
        "id": "m3AosJrRNpTN",
        "colab_type": "code",
        "colab": {}
      },
      "source": [
        "text_ele = []\n",
        "for m in range(0,len(x_ele)):\n",
        "    X = ''.join(str(i)for i in x_ele[m])\n",
        "    te = clean_doc(X)\n",
        "    trainx = \" \".join(te)\n",
        "    text_ele.append(trainx)"
      ],
      "execution_count": 13,
      "outputs": []
    },
    {
      "cell_type": "code",
      "metadata": {
        "id": "7VMP6EsFNpVT",
        "colab_type": "code",
        "colab": {}
      },
      "source": [
        "text_kit = []\n",
        "for m in range(0,len(x_kit)):\n",
        "    X = ''.join(str(i)for i in x_kit[m])\n",
        "    te = clean_doc(X)\n",
        "    trainx = \" \".join(te)\n",
        "    text_kit.append(trainx)"
      ],
      "execution_count": 14,
      "outputs": []
    },
    {
      "cell_type": "code",
      "metadata": {
        "id": "TiJoVVrWNzLN",
        "colab_type": "code",
        "colab": {
          "base_uri": "https://localhost:8080/",
          "height": 34
        },
        "outputId": "15638f6b-d225-4c9b-f1fd-5c444cdf24d7"
      },
      "source": [
        "label_encoder = LabelEncoder()\n",
        "\n",
        "Y_books = label_encoder.fit_transform(y_books)\n",
        "Y_books = to_categorical(Y_books)\n",
        "Y_books.shape\n",
        "\n",
        "Y_dvd = label_encoder.fit_transform(y_dvd)\n",
        "Y_dvd = to_categorical(Y_dvd)\n",
        "Y_dvd.shape\n",
        "\n",
        "\n",
        "Y_ele = label_encoder.fit_transform(y_ele)\n",
        "Y_ele = to_categorical(Y_ele)\n",
        "Y_ele.shape\n",
        "\n",
        "\n",
        "Y_kit = label_encoder.fit_transform(y_kit)\n",
        "Y_kit = to_categorical(Y_kit)\n",
        "Y_kit.shape"
      ],
      "execution_count": 15,
      "outputs": [
        {
          "output_type": "execute_result",
          "data": {
            "text/plain": [
              "(2000, 2)"
            ]
          },
          "metadata": {
            "tags": []
          },
          "execution_count": 15
        }
      ]
    },
    {
      "cell_type": "code",
      "metadata": {
        "id": "KelA4SCuNzNr",
        "colab_type": "code",
        "colab": {}
      },
      "source": [
        "X_train_b, X_test_b, Y_train_b, Y_test_b = train_test_split(text_books, Y_books, test_size=0.15)\n",
        "\n",
        "X_train_d, X_test_d, Y_train_d, Y_test_d = train_test_split(text_dvd, Y_dvd, test_size=0.15)\n",
        "\n",
        "X_train_e, X_test_e, Y_train_e, Y_test_e = train_test_split(text_ele, Y_ele, test_size=0.15)\n",
        "\n",
        "X_train_k, X_test_k, Y_train_k, Y_test_k = train_test_split(text_kit, Y_kit, test_size=0.15)\n",
        "\n",
        "\n"
      ],
      "execution_count": 16,
      "outputs": []
    },
    {
      "cell_type": "code",
      "metadata": {
        "id": "hUGnCYO0NzQT",
        "colab_type": "code",
        "colab": {
          "base_uri": "https://localhost:8080/",
          "height": 34
        },
        "outputId": "311e2544-48fa-4ab1-bf60-3aab241f5f2c"
      },
      "source": [
        "max_words_b = len(set(\" \".join(text_books).split()))\n",
        "max_len_b = max([len(s.split()) for s in text_books])\n",
        "max_words_b, max_len_b"
      ],
      "execution_count": 17,
      "outputs": [
        {
          "output_type": "execute_result",
          "data": {
            "text/plain": [
              "(26109, 3227)"
            ]
          },
          "metadata": {
            "tags": []
          },
          "execution_count": 17
        }
      ]
    },
    {
      "cell_type": "code",
      "metadata": {
        "id": "_OFlqQ8nNzSj",
        "colab_type": "code",
        "colab": {
          "base_uri": "https://localhost:8080/",
          "height": 34
        },
        "outputId": "d0d0ff87-cc8c-4802-8260-afc19c63bdbb"
      },
      "source": [
        "max_words_d = len(set(\" \".join(text_dvd).split()))\n",
        "max_len_d = max([len(s.split()) for s in text_dvd])\n",
        "max_words_d, max_len_d"
      ],
      "execution_count": 18,
      "outputs": [
        {
          "output_type": "execute_result",
          "data": {
            "text/plain": [
              "(25855, 1415)"
            ]
          },
          "metadata": {
            "tags": []
          },
          "execution_count": 18
        }
      ]
    },
    {
      "cell_type": "code",
      "metadata": {
        "id": "lcHuSmRmNzU7",
        "colab_type": "code",
        "colab": {
          "base_uri": "https://localhost:8080/",
          "height": 34
        },
        "outputId": "72e7c8d8-31e0-48fb-e839-fd13ae1556d8"
      },
      "source": [
        "max_words_e = len(set(\" \".join(text_ele).split()))\n",
        "max_len_e = max([len(s.split()) for s in text_ele])\n",
        "max_words_e, max_len_e"
      ],
      "execution_count": 19,
      "outputs": [
        {
          "output_type": "execute_result",
          "data": {
            "text/plain": [
              "(13491, 918)"
            ]
          },
          "metadata": {
            "tags": []
          },
          "execution_count": 19
        }
      ]
    },
    {
      "cell_type": "code",
      "metadata": {
        "id": "WSrtX4PxNzW_",
        "colab_type": "code",
        "colab": {
          "base_uri": "https://localhost:8080/",
          "height": 34
        },
        "outputId": "64d43a37-44fd-42fd-ecf8-2742030eb6e9"
      },
      "source": [
        "max_words_k = len(set(\" \".join(text_kit).split()))\n",
        "max_len_k = max([len(s.split()) for s in text_kit])\n",
        "max_words_k, max_len_k"
      ],
      "execution_count": 20,
      "outputs": [
        {
          "output_type": "execute_result",
          "data": {
            "text/plain": [
              "(11675, 958)"
            ]
          },
          "metadata": {
            "tags": []
          },
          "execution_count": 20
        }
      ]
    },
    {
      "cell_type": "code",
      "metadata": {
        "id": "j19FblYYNzY0",
        "colab_type": "code",
        "colab": {}
      },
      "source": [
        "max_words = max(max_words_b,max_words_d,max_words_e,max_words_k)\n",
        "#max_len = max(max_len_b,max_len_d,max_len_e,max_len_k)\n",
        "max_len = 120"
      ],
      "execution_count": 21,
      "outputs": []
    },
    {
      "cell_type": "code",
      "metadata": {
        "id": "LCjtEgU3OQk2",
        "colab_type": "code",
        "colab": {}
      },
      "source": [
        "tokenizer_b = Tokenizer(num_words=max_words)\n",
        "\n",
        "tokenizer_b.fit_on_texts(X_train_b)\n",
        "\n",
        "X_train_b_seq = tokenizer_b.texts_to_sequences(X_train_b)\n",
        "X_train_b_seq = sequence.pad_sequences(X_train_b_seq, maxlen=max_len)\n",
        "\n",
        "\n",
        "tokenizer_b.fit_on_texts(X_test_b)\n",
        "\n",
        "X_test_b_seq = tokenizer_b.texts_to_sequences(X_test_b)\n",
        "X_test_b_seq = sequence.pad_sequences(X_test_b_seq, maxlen=max_len)\n",
        "\n",
        "tokenizer_d = Tokenizer(num_words=max_words)\n",
        "\n",
        "tokenizer_d.fit_on_texts(X_train_d)\n",
        "\n",
        "X_train_d_seq = tokenizer_d.texts_to_sequences(X_train_d)\n",
        "X_train_d_seq = sequence.pad_sequences(X_train_d_seq, maxlen=max_len)\n",
        "\n",
        "tokenizer_d.fit_on_texts(X_test_d)\n",
        "\n",
        "X_test_d_seq = tokenizer_d.texts_to_sequences(X_test_d)\n",
        "X_test_d_seq = sequence.pad_sequences(X_test_d_seq, maxlen=max_len)\n",
        "\n",
        "tokenizer_e = Tokenizer(num_words=max_words)\n",
        "\n",
        "tokenizer_e.fit_on_texts(X_train_e)\n",
        "\n",
        "X_train_e_seq = tokenizer_e.texts_to_sequences(X_train_e)\n",
        "X_train_e_seq = sequence.pad_sequences(X_train_e_seq, maxlen=max_len)\n",
        "\n",
        "tokenizer_e.fit_on_texts(X_test_e)\n",
        "\n",
        "X_test_e_seq = tokenizer_e.texts_to_sequences(X_test_e)\n",
        "X_test_e_seq = sequence.pad_sequences(X_test_e_seq, maxlen=max_len)\n",
        "\n",
        "tokenizer_k = Tokenizer(num_words=max_words)\n",
        "\n",
        "tokenizer_k.fit_on_texts(X_train_k)\n",
        "\n",
        "X_train_k_seq = tokenizer_k.texts_to_sequences(X_train_k)\n",
        "X_train_k_seq = sequence.pad_sequences(X_train_k_seq, maxlen=max_len)\n",
        "tokenizer_k.fit_on_texts(X_test_k)\n",
        "\n",
        "X_test_k_seq = tokenizer_k.texts_to_sequences(X_test_k)\n",
        "X_test_k_seq = sequence.pad_sequences(X_test_k_seq, maxlen=max_len)"
      ],
      "execution_count": 22,
      "outputs": []
    },
    {
      "cell_type": "code",
      "metadata": {
        "id": "vesErThhOoXq",
        "colab_type": "code",
        "colab": {}
      },
      "source": [
        "def get_cnn_model(num_class=2):   \n",
        "    model = Sequential()\n",
        "    \n",
        "    model.add(Embedding(max_words, 100, input_length=max_len))\n",
        "    \n",
        "    model.add(Conv1D(1024, 2, padding='valid', activation='relu', strides=1))\n",
        "    model.add(GlobalMaxPooling1D())\n",
        "    \n",
        "    model.add(Dense(num_class, activation='sigmoid'))\n",
        "    model.summary()\n",
        "    return model"
      ],
      "execution_count": 23,
      "outputs": []
    },
    {
      "cell_type": "code",
      "metadata": {
        "id": "OcXb9gFfOsma",
        "colab_type": "code",
        "colab": {}
      },
      "source": [
        "def plot_performance(history=None, ylim_pad=[0, 0]):\n",
        "    xlabel = 'Epoch'\n",
        "    legends = ['Training', 'Validation']\n",
        "\n",
        "    plt.figure(figsize=(20, 5))\n",
        "\n",
        "    y1 = history.history['accuracy']\n",
        "    y2 = history.history['val_accuracy']\n",
        "\n",
        "    min_y = min(min(y1), min(y2))-ylim_pad[0]\n",
        "    max_y = max(max(y1), max(y2))+ylim_pad[0]\n",
        "\n",
        "\n",
        "    plt.subplot(121)\n",
        "\n",
        "    plt.plot(y1)\n",
        "    plt.plot(y2)\n",
        "\n",
        "    plt.title('Model Accuracy', fontsize=17)\n",
        "    plt.xlabel(xlabel, fontsize=15)\n",
        "    plt.ylabel('Accuracy', fontsize=15)\n",
        "    plt.ylim(min_y, max_y)\n",
        "    plt.legend(legends, loc='upper left')\n",
        "    plt.grid()\n",
        "\n",
        "    y1 = history.history['loss']\n",
        "    y2 = history.history['val_loss']\n",
        "\n",
        "    min_y = min(min(y1), min(y2))-ylim_pad[1]\n",
        "    max_y = max(max(y1), max(y2))+ylim_pad[1]\n",
        "\n",
        "\n",
        "    plt.subplot(122)\n",
        "\n",
        "    plt.plot(y1)\n",
        "    plt.plot(y2)\n",
        "\n",
        "    plt.title('Model Loss', fontsize=17)\n",
        "    plt.xlabel(xlabel, fontsize=15)\n",
        "    plt.ylabel('Loss', fontsize=15)\n",
        "    plt.ylim(min_y, max_y)\n",
        "    plt.legend(legends, loc='upper left')\n",
        "    plt.grid()\n",
        "\n",
        "    plt.show()"
      ],
      "execution_count": 24,
      "outputs": []
    },
    {
      "cell_type": "code",
      "metadata": {
        "id": "0FL6PNolO2s7",
        "colab_type": "code",
        "colab": {
          "base_uri": "https://localhost:8080/",
          "height": 289
        },
        "outputId": "78115d1c-a955-42c2-b6d4-d0e95bcaa3a1"
      },
      "source": [
        "loss = 'binary_crossentropy'\n",
        "metrics = ['accuracy']\n",
        "learning_rate = 0.01\n",
        "optimizer = Adam(learning_rate)\n",
        "num_class = 2\n",
        "model1 = get_cnn_model(num_class=num_class)"
      ],
      "execution_count": 25,
      "outputs": [
        {
          "output_type": "stream",
          "text": [
            "Model: \"sequential_1\"\n",
            "_________________________________________________________________\n",
            "Layer (type)                 Output Shape              Param #   \n",
            "=================================================================\n",
            "embedding_1 (Embedding)      (None, 120, 100)          2610900   \n",
            "_________________________________________________________________\n",
            "conv1d_1 (Conv1D)            (None, 119, 1024)         205824    \n",
            "_________________________________________________________________\n",
            "global_max_pooling1d_1 (Glob (None, 1024)              0         \n",
            "_________________________________________________________________\n",
            "dense_1 (Dense)              (None, 2)                 2050      \n",
            "=================================================================\n",
            "Total params: 2,818,774\n",
            "Trainable params: 2,818,774\n",
            "Non-trainable params: 0\n",
            "_________________________________________________________________\n"
          ],
          "name": "stdout"
        }
      ]
    },
    {
      "cell_type": "code",
      "metadata": {
        "id": "33CroQ6iO7T7",
        "colab_type": "code",
        "colab": {
          "base_uri": "https://localhost:8080/",
          "height": 1000
        },
        "outputId": "5f33b193-d911-4b50-a7c6-7ec7f089e487"
      },
      "source": [
        "# fit network\n",
        "model1.compile(optimizer=optimizer, loss=loss, metrics=metrics)\n",
        "history1 = model1.fit(X_train_b_seq, Y_train_b, validation_data=(X_test_b_seq, Y_test_b),batch_size=128,epochs=100)"
      ],
      "execution_count": 26,
      "outputs": [
        {
          "output_type": "stream",
          "text": [
            "/usr/local/lib/python3.6/dist-packages/tensorflow/python/framework/indexed_slices.py:434: UserWarning: Converting sparse IndexedSlices to a dense Tensor of unknown shape. This may consume a large amount of memory.\n",
            "  \"Converting sparse IndexedSlices to a dense Tensor of unknown shape. \"\n"
          ],
          "name": "stderr"
        },
        {
          "output_type": "stream",
          "text": [
            "Train on 1700 samples, validate on 300 samples\n",
            "Epoch 1/100\n",
            "1700/1700 [==============================] - 9s 5ms/step - loss: 0.6504 - accuracy: 0.5997 - val_loss: 0.7431 - val_accuracy: 0.5467\n",
            "Epoch 2/100\n",
            "1700/1700 [==============================] - 8s 5ms/step - loss: 0.3427 - accuracy: 0.8547 - val_loss: 1.3446 - val_accuracy: 0.5200\n",
            "Epoch 3/100\n",
            "1700/1700 [==============================] - 8s 5ms/step - loss: 0.0690 - accuracy: 0.9753 - val_loss: 1.6105 - val_accuracy: 0.5167\n",
            "Epoch 4/100\n",
            "1700/1700 [==============================] - 8s 5ms/step - loss: 0.0078 - accuracy: 0.9994 - val_loss: 2.0115 - val_accuracy: 0.4883\n",
            "Epoch 5/100\n",
            "1700/1700 [==============================] - 8s 5ms/step - loss: 0.0018 - accuracy: 0.9994 - val_loss: 2.3564 - val_accuracy: 0.5033\n",
            "Epoch 6/100\n",
            "1700/1700 [==============================] - 8s 5ms/step - loss: 2.6410e-04 - accuracy: 1.0000 - val_loss: 2.2204 - val_accuracy: 0.4900\n",
            "Epoch 7/100\n",
            "1700/1700 [==============================] - 8s 5ms/step - loss: 9.3809e-05 - accuracy: 1.0000 - val_loss: 2.2089 - val_accuracy: 0.4933\n",
            "Epoch 8/100\n",
            "1700/1700 [==============================] - 8s 5ms/step - loss: 6.3876e-05 - accuracy: 1.0000 - val_loss: 2.2362 - val_accuracy: 0.4850\n",
            "Epoch 9/100\n",
            "1700/1700 [==============================] - 8s 5ms/step - loss: 4.4021e-05 - accuracy: 1.0000 - val_loss: 2.2570 - val_accuracy: 0.4867\n",
            "Epoch 10/100\n",
            "1700/1700 [==============================] - 8s 5ms/step - loss: 3.7186e-05 - accuracy: 1.0000 - val_loss: 2.2708 - val_accuracy: 0.4917\n",
            "Epoch 11/100\n",
            "1700/1700 [==============================] - 8s 5ms/step - loss: 3.2307e-05 - accuracy: 1.0000 - val_loss: 2.2824 - val_accuracy: 0.4900\n",
            "Epoch 12/100\n",
            "1700/1700 [==============================] - 8s 5ms/step - loss: 2.8609e-05 - accuracy: 1.0000 - val_loss: 2.2892 - val_accuracy: 0.4917\n",
            "Epoch 13/100\n",
            "1700/1700 [==============================] - 8s 5ms/step - loss: 2.5775e-05 - accuracy: 1.0000 - val_loss: 2.2963 - val_accuracy: 0.4917\n",
            "Epoch 14/100\n",
            "1700/1700 [==============================] - 8s 5ms/step - loss: 2.3345e-05 - accuracy: 1.0000 - val_loss: 2.3034 - val_accuracy: 0.4917\n",
            "Epoch 15/100\n",
            "1700/1700 [==============================] - 8s 5ms/step - loss: 2.1390e-05 - accuracy: 1.0000 - val_loss: 2.3114 - val_accuracy: 0.4917\n",
            "Epoch 16/100\n",
            "1700/1700 [==============================] - 8s 5ms/step - loss: 1.9613e-05 - accuracy: 1.0000 - val_loss: 2.3176 - val_accuracy: 0.4917\n",
            "Epoch 17/100\n",
            "1700/1700 [==============================] - 8s 5ms/step - loss: 1.8132e-05 - accuracy: 1.0000 - val_loss: 2.3239 - val_accuracy: 0.4900\n",
            "Epoch 18/100\n",
            "1700/1700 [==============================] - 8s 5ms/step - loss: 1.6761e-05 - accuracy: 1.0000 - val_loss: 2.3302 - val_accuracy: 0.4900\n",
            "Epoch 19/100\n",
            "1700/1700 [==============================] - 8s 5ms/step - loss: 1.5609e-05 - accuracy: 1.0000 - val_loss: 2.3360 - val_accuracy: 0.4917\n",
            "Epoch 20/100\n",
            "1700/1700 [==============================] - 8s 5ms/step - loss: 1.4606e-05 - accuracy: 1.0000 - val_loss: 2.3408 - val_accuracy: 0.4900\n",
            "Epoch 21/100\n",
            "1700/1700 [==============================] - 8s 5ms/step - loss: 1.3633e-05 - accuracy: 1.0000 - val_loss: 2.3458 - val_accuracy: 0.4917\n",
            "Epoch 22/100\n",
            "1700/1700 [==============================] - 8s 5ms/step - loss: 1.2808e-05 - accuracy: 1.0000 - val_loss: 2.3507 - val_accuracy: 0.4917\n",
            "Epoch 23/100\n",
            "1700/1700 [==============================] - 8s 5ms/step - loss: 1.2064e-05 - accuracy: 1.0000 - val_loss: 2.3565 - val_accuracy: 0.4917\n",
            "Epoch 24/100\n",
            "1700/1700 [==============================] - 8s 5ms/step - loss: 1.1358e-05 - accuracy: 1.0000 - val_loss: 2.3621 - val_accuracy: 0.4933\n",
            "Epoch 25/100\n",
            "1700/1700 [==============================] - 8s 5ms/step - loss: 1.0733e-05 - accuracy: 1.0000 - val_loss: 2.3679 - val_accuracy: 0.4933\n",
            "Epoch 26/100\n",
            "1700/1700 [==============================] - 8s 5ms/step - loss: 1.0158e-05 - accuracy: 1.0000 - val_loss: 2.3727 - val_accuracy: 0.4933\n",
            "Epoch 27/100\n",
            "1700/1700 [==============================] - 8s 5ms/step - loss: 9.6387e-06 - accuracy: 1.0000 - val_loss: 2.3771 - val_accuracy: 0.4933\n",
            "Epoch 28/100\n",
            "1700/1700 [==============================] - 9s 5ms/step - loss: 9.1559e-06 - accuracy: 1.0000 - val_loss: 2.3815 - val_accuracy: 0.4933\n",
            "Epoch 29/100\n",
            "1700/1700 [==============================] - 9s 5ms/step - loss: 8.7096e-06 - accuracy: 1.0000 - val_loss: 2.3861 - val_accuracy: 0.4933\n",
            "Epoch 30/100\n",
            "1700/1700 [==============================] - 9s 5ms/step - loss: 8.2985e-06 - accuracy: 1.0000 - val_loss: 2.3907 - val_accuracy: 0.4933\n",
            "Epoch 31/100\n",
            "1700/1700 [==============================] - 9s 5ms/step - loss: 7.9135e-06 - accuracy: 1.0000 - val_loss: 2.3956 - val_accuracy: 0.4933\n",
            "Epoch 32/100\n",
            "1700/1700 [==============================] - 9s 5ms/step - loss: 7.5672e-06 - accuracy: 1.0000 - val_loss: 2.4006 - val_accuracy: 0.4933\n",
            "Epoch 33/100\n",
            "1700/1700 [==============================] - 9s 5ms/step - loss: 7.2282e-06 - accuracy: 1.0000 - val_loss: 2.4047 - val_accuracy: 0.4933\n",
            "Epoch 34/100\n",
            "1700/1700 [==============================] - 9s 5ms/step - loss: 6.9320e-06 - accuracy: 1.0000 - val_loss: 2.4088 - val_accuracy: 0.4950\n",
            "Epoch 35/100\n",
            "1700/1700 [==============================] - 9s 5ms/step - loss: 6.6358e-06 - accuracy: 1.0000 - val_loss: 2.4124 - val_accuracy: 0.4967\n",
            "Epoch 36/100\n",
            "1700/1700 [==============================] - 9s 5ms/step - loss: 6.3795e-06 - accuracy: 1.0000 - val_loss: 2.4167 - val_accuracy: 0.4967\n",
            "Epoch 37/100\n",
            "1700/1700 [==============================] - 9s 5ms/step - loss: 6.1320e-06 - accuracy: 1.0000 - val_loss: 2.4209 - val_accuracy: 0.4967\n",
            "Epoch 38/100\n",
            "1700/1700 [==============================] - 9s 5ms/step - loss: 5.8969e-06 - accuracy: 1.0000 - val_loss: 2.4247 - val_accuracy: 0.4967\n",
            "Epoch 39/100\n",
            "1700/1700 [==============================] - 9s 5ms/step - loss: 5.6773e-06 - accuracy: 1.0000 - val_loss: 2.4287 - val_accuracy: 0.4950\n",
            "Epoch 40/100\n",
            "1700/1700 [==============================] - 9s 5ms/step - loss: 5.4706e-06 - accuracy: 1.0000 - val_loss: 2.4333 - val_accuracy: 0.4967\n",
            "Epoch 41/100\n",
            "1700/1700 [==============================] - 9s 5ms/step - loss: 5.2723e-06 - accuracy: 1.0000 - val_loss: 2.4373 - val_accuracy: 0.4950\n",
            "Epoch 42/100\n",
            "1700/1700 [==============================] - 8s 5ms/step - loss: 5.0872e-06 - accuracy: 1.0000 - val_loss: 2.4411 - val_accuracy: 0.4950\n",
            "Epoch 43/100\n",
            "1700/1700 [==============================] - 8s 5ms/step - loss: 4.9145e-06 - accuracy: 1.0000 - val_loss: 2.4447 - val_accuracy: 0.4950\n",
            "Epoch 44/100\n",
            "1700/1700 [==============================] - 8s 5ms/step - loss: 4.7501e-06 - accuracy: 1.0000 - val_loss: 2.4480 - val_accuracy: 0.4950\n",
            "Epoch 45/100\n",
            "1700/1700 [==============================] - 8s 5ms/step - loss: 4.5928e-06 - accuracy: 1.0000 - val_loss: 2.4517 - val_accuracy: 0.4950\n",
            "Epoch 46/100\n",
            "1700/1700 [==============================] - 8s 5ms/step - loss: 4.4449e-06 - accuracy: 1.0000 - val_loss: 2.4554 - val_accuracy: 0.4950\n",
            "Epoch 47/100\n",
            "1700/1700 [==============================] - 8s 5ms/step - loss: 4.2958e-06 - accuracy: 1.0000 - val_loss: 2.4590 - val_accuracy: 0.4950\n",
            "Epoch 48/100\n",
            "1700/1700 [==============================] - 8s 5ms/step - loss: 4.1611e-06 - accuracy: 1.0000 - val_loss: 2.4622 - val_accuracy: 0.4950\n",
            "Epoch 49/100\n",
            "1700/1700 [==============================] - 8s 5ms/step - loss: 4.0332e-06 - accuracy: 1.0000 - val_loss: 2.4657 - val_accuracy: 0.4950\n",
            "Epoch 50/100\n",
            "1700/1700 [==============================] - 8s 5ms/step - loss: 3.9070e-06 - accuracy: 1.0000 - val_loss: 2.4693 - val_accuracy: 0.4950\n",
            "Epoch 51/100\n",
            "1700/1700 [==============================] - 8s 5ms/step - loss: 3.7896e-06 - accuracy: 1.0000 - val_loss: 2.4728 - val_accuracy: 0.4950\n",
            "Epoch 52/100\n",
            "1700/1700 [==============================] - 8s 5ms/step - loss: 3.6782e-06 - accuracy: 1.0000 - val_loss: 2.4762 - val_accuracy: 0.4950\n",
            "Epoch 53/100\n",
            "1700/1700 [==============================] - 8s 5ms/step - loss: 3.5694e-06 - accuracy: 1.0000 - val_loss: 2.4792 - val_accuracy: 0.4933\n",
            "Epoch 54/100\n",
            "1700/1700 [==============================] - 8s 5ms/step - loss: 3.4693e-06 - accuracy: 1.0000 - val_loss: 2.4825 - val_accuracy: 0.4950\n",
            "Epoch 55/100\n",
            "1700/1700 [==============================] - 8s 5ms/step - loss: 3.3710e-06 - accuracy: 1.0000 - val_loss: 2.4855 - val_accuracy: 0.4950\n",
            "Epoch 56/100\n",
            "1700/1700 [==============================] - 8s 5ms/step - loss: 3.2763e-06 - accuracy: 1.0000 - val_loss: 2.4888 - val_accuracy: 0.4933\n",
            "Epoch 57/100\n",
            "1700/1700 [==============================] - 8s 5ms/step - loss: 3.1878e-06 - accuracy: 1.0000 - val_loss: 2.4920 - val_accuracy: 0.4933\n",
            "Epoch 58/100\n",
            "1700/1700 [==============================] - 8s 5ms/step - loss: 3.0997e-06 - accuracy: 1.0000 - val_loss: 2.4949 - val_accuracy: 0.4933\n",
            "Epoch 59/100\n",
            "1700/1700 [==============================] - 8s 5ms/step - loss: 3.0161e-06 - accuracy: 1.0000 - val_loss: 2.4980 - val_accuracy: 0.4933\n",
            "Epoch 60/100\n",
            "1700/1700 [==============================] - 8s 5ms/step - loss: 2.9357e-06 - accuracy: 1.0000 - val_loss: 2.5012 - val_accuracy: 0.4933\n",
            "Epoch 61/100\n",
            "1700/1700 [==============================] - 8s 5ms/step - loss: 2.8592e-06 - accuracy: 1.0000 - val_loss: 2.5044 - val_accuracy: 0.4917\n",
            "Epoch 62/100\n",
            "1700/1700 [==============================] - 8s 5ms/step - loss: 2.7831e-06 - accuracy: 1.0000 - val_loss: 2.5072 - val_accuracy: 0.4917\n",
            "Epoch 63/100\n",
            "1700/1700 [==============================] - 8s 5ms/step - loss: 2.7144e-06 - accuracy: 1.0000 - val_loss: 2.5100 - val_accuracy: 0.4917\n",
            "Epoch 64/100\n",
            "1700/1700 [==============================] - 8s 5ms/step - loss: 2.6445e-06 - accuracy: 1.0000 - val_loss: 2.5127 - val_accuracy: 0.4917\n",
            "Epoch 65/100\n",
            "1700/1700 [==============================] - 8s 5ms/step - loss: 2.5791e-06 - accuracy: 1.0000 - val_loss: 2.5156 - val_accuracy: 0.4917\n",
            "Epoch 66/100\n",
            "1700/1700 [==============================] - 8s 5ms/step - loss: 2.5175e-06 - accuracy: 1.0000 - val_loss: 2.5186 - val_accuracy: 0.4917\n",
            "Epoch 67/100\n",
            "1700/1700 [==============================] - 8s 5ms/step - loss: 2.4586e-06 - accuracy: 1.0000 - val_loss: 2.5214 - val_accuracy: 0.4917\n",
            "Epoch 68/100\n",
            "1700/1700 [==============================] - 8s 5ms/step - loss: 2.3993e-06 - accuracy: 1.0000 - val_loss: 2.5240 - val_accuracy: 0.4917\n",
            "Epoch 69/100\n",
            "1700/1700 [==============================] - 8s 5ms/step - loss: 2.3445e-06 - accuracy: 1.0000 - val_loss: 2.5268 - val_accuracy: 0.4917\n",
            "Epoch 70/100\n",
            "1700/1700 [==============================] - 8s 5ms/step - loss: 2.2889e-06 - accuracy: 1.0000 - val_loss: 2.5292 - val_accuracy: 0.4917\n",
            "Epoch 71/100\n",
            "1700/1700 [==============================] - 8s 5ms/step - loss: 2.2372e-06 - accuracy: 1.0000 - val_loss: 2.5321 - val_accuracy: 0.4917\n",
            "Epoch 72/100\n",
            "1700/1700 [==============================] - 8s 5ms/step - loss: 2.1859e-06 - accuracy: 1.0000 - val_loss: 2.5348 - val_accuracy: 0.4917\n",
            "Epoch 73/100\n",
            "1700/1700 [==============================] - 8s 5ms/step - loss: 2.1367e-06 - accuracy: 1.0000 - val_loss: 2.5372 - val_accuracy: 0.4917\n",
            "Epoch 74/100\n",
            "1700/1700 [==============================] - 8s 5ms/step - loss: 2.0883e-06 - accuracy: 1.0000 - val_loss: 2.5397 - val_accuracy: 0.4917\n",
            "Epoch 75/100\n",
            "1700/1700 [==============================] - 8s 5ms/step - loss: 2.0435e-06 - accuracy: 1.0000 - val_loss: 2.5425 - val_accuracy: 0.4917\n",
            "Epoch 76/100\n",
            "1700/1700 [==============================] - 8s 5ms/step - loss: 1.9982e-06 - accuracy: 1.0000 - val_loss: 2.5450 - val_accuracy: 0.4900\n",
            "Epoch 77/100\n",
            "1700/1700 [==============================] - 8s 5ms/step - loss: 1.9555e-06 - accuracy: 1.0000 - val_loss: 2.5474 - val_accuracy: 0.4900\n",
            "Epoch 78/100\n",
            "1700/1700 [==============================] - 8s 5ms/step - loss: 1.9139e-06 - accuracy: 1.0000 - val_loss: 2.5497 - val_accuracy: 0.4900\n",
            "Epoch 79/100\n",
            "1700/1700 [==============================] - 8s 5ms/step - loss: 1.8738e-06 - accuracy: 1.0000 - val_loss: 2.5523 - val_accuracy: 0.4900\n",
            "Epoch 80/100\n",
            "1700/1700 [==============================] - 8s 5ms/step - loss: 1.8349e-06 - accuracy: 1.0000 - val_loss: 2.5548 - val_accuracy: 0.4900\n",
            "Epoch 81/100\n",
            "1700/1700 [==============================] - 8s 5ms/step - loss: 1.7965e-06 - accuracy: 1.0000 - val_loss: 2.5571 - val_accuracy: 0.4900\n",
            "Epoch 82/100\n",
            "1700/1700 [==============================] - 8s 5ms/step - loss: 1.7602e-06 - accuracy: 1.0000 - val_loss: 2.5596 - val_accuracy: 0.4900\n",
            "Epoch 83/100\n",
            "1700/1700 [==============================] - 8s 5ms/step - loss: 1.7242e-06 - accuracy: 1.0000 - val_loss: 2.5624 - val_accuracy: 0.4900\n",
            "Epoch 84/100\n",
            "1700/1700 [==============================] - 8s 5ms/step - loss: 1.6876e-06 - accuracy: 1.0000 - val_loss: 2.5647 - val_accuracy: 0.4917\n",
            "Epoch 85/100\n",
            "1700/1700 [==============================] - 8s 5ms/step - loss: 1.6543e-06 - accuracy: 1.0000 - val_loss: 2.5673 - val_accuracy: 0.4917\n",
            "Epoch 86/100\n",
            "1700/1700 [==============================] - 8s 5ms/step - loss: 1.6215e-06 - accuracy: 1.0000 - val_loss: 2.5697 - val_accuracy: 0.4917\n",
            "Epoch 87/100\n",
            "1700/1700 [==============================] - 8s 5ms/step - loss: 1.5907e-06 - accuracy: 1.0000 - val_loss: 2.5721 - val_accuracy: 0.4917\n",
            "Epoch 88/100\n",
            "1700/1700 [==============================] - 8s 5ms/step - loss: 1.5603e-06 - accuracy: 1.0000 - val_loss: 2.5745 - val_accuracy: 0.4900\n",
            "Epoch 89/100\n",
            "1700/1700 [==============================] - 8s 5ms/step - loss: 1.5301e-06 - accuracy: 1.0000 - val_loss: 2.5767 - val_accuracy: 0.4917\n",
            "Epoch 90/100\n",
            "1700/1700 [==============================] - 8s 5ms/step - loss: 1.5021e-06 - accuracy: 1.0000 - val_loss: 2.5791 - val_accuracy: 0.4917\n",
            "Epoch 91/100\n",
            "1700/1700 [==============================] - 8s 5ms/step - loss: 1.4736e-06 - accuracy: 1.0000 - val_loss: 2.5815 - val_accuracy: 0.4917\n",
            "Epoch 92/100\n",
            "1700/1700 [==============================] - 8s 5ms/step - loss: 1.4465e-06 - accuracy: 1.0000 - val_loss: 2.5837 - val_accuracy: 0.4917\n",
            "Epoch 93/100\n",
            "1700/1700 [==============================] - 8s 5ms/step - loss: 1.4186e-06 - accuracy: 1.0000 - val_loss: 2.5857 - val_accuracy: 0.4917\n",
            "Epoch 94/100\n",
            "1700/1700 [==============================] - 8s 5ms/step - loss: 1.3931e-06 - accuracy: 1.0000 - val_loss: 2.5881 - val_accuracy: 0.4917\n",
            "Epoch 95/100\n",
            "1700/1700 [==============================] - 8s 5ms/step - loss: 1.3673e-06 - accuracy: 1.0000 - val_loss: 2.5903 - val_accuracy: 0.4917\n",
            "Epoch 96/100\n",
            "1700/1700 [==============================] - 8s 5ms/step - loss: 1.3425e-06 - accuracy: 1.0000 - val_loss: 2.5926 - val_accuracy: 0.4917\n",
            "Epoch 97/100\n",
            "1700/1700 [==============================] - 8s 5ms/step - loss: 1.3189e-06 - accuracy: 1.0000 - val_loss: 2.5947 - val_accuracy: 0.4917\n",
            "Epoch 98/100\n",
            "1700/1700 [==============================] - 8s 5ms/step - loss: 1.2957e-06 - accuracy: 1.0000 - val_loss: 2.5970 - val_accuracy: 0.4917\n",
            "Epoch 99/100\n",
            "1700/1700 [==============================] - 8s 5ms/step - loss: 1.2721e-06 - accuracy: 1.0000 - val_loss: 2.5994 - val_accuracy: 0.4917\n",
            "Epoch 100/100\n",
            "1700/1700 [==============================] - 8s 5ms/step - loss: 1.2501e-06 - accuracy: 1.0000 - val_loss: 2.6015 - val_accuracy: 0.4917\n"
          ],
          "name": "stdout"
        }
      ]
    },
    {
      "cell_type": "code",
      "metadata": {
        "id": "3lp2rLkXO9vo",
        "colab_type": "code",
        "colab": {
          "base_uri": "https://localhost:8080/",
          "height": 302
        },
        "outputId": "143f944f-67ca-455a-be97-627a97c26550"
      },
      "source": [
        "plot_performance(history=history1)"
      ],
      "execution_count": 27,
      "outputs": [
        {
          "output_type": "display_data",
          "data": {
            "image/png": "[encoded data removed]",
            "text/plain": [
              "<Figure size 1440x360 with 2 Axes>"
            ]
          },
          "metadata": {
            "tags": [],
            "needs_background": "light"
          }
        }
      ]
    },
    {
      "cell_type": "code",
      "metadata": {
        "id": "2i0rGVwCPDUk",
        "colab_type": "code",
        "colab": {
          "base_uri": "https://localhost:8080/",
          "height": 1000
        },
        "outputId": "1d1c005d-b159-484b-b75e-a1ae1bcd2847"
      },
      "source": [
        "history2 = model1.fit(X_train_d_seq, Y_train_d, validation_data=(X_test_d_seq, Y_test_d),batch_size=128,epochs=100)"
      ],
      "execution_count": 28,
      "outputs": [
        {
          "output_type": "stream",
          "text": [
            "Train on 1700 samples, validate on 300 samples\n",
            "Epoch 1/100\n",
            "1700/1700 [==============================] - 8s 5ms/step - loss: 3.0976 - accuracy: 0.5282 - val_loss: 1.2662 - val_accuracy: 0.5000\n",
            "Epoch 2/100\n",
            "1700/1700 [==============================] - 8s 5ms/step - loss: 0.8505 - accuracy: 0.7724 - val_loss: 1.7676 - val_accuracy: 0.5133\n",
            "Epoch 3/100\n",
            "1700/1700 [==============================] - 8s 5ms/step - loss: 0.0868 - accuracy: 0.9735 - val_loss: 3.1437 - val_accuracy: 0.5333\n",
            "Epoch 4/100\n",
            "1700/1700 [==============================] - 8s 5ms/step - loss: 0.0197 - accuracy: 0.9947 - val_loss: 3.4752 - val_accuracy: 0.5300\n",
            "Epoch 5/100\n",
            "1700/1700 [==============================] - 8s 5ms/step - loss: 0.0096 - accuracy: 0.9968 - val_loss: 4.3897 - val_accuracy: 0.5283\n",
            "Epoch 6/100\n",
            "1700/1700 [==============================] - 8s 5ms/step - loss: 0.0041 - accuracy: 0.9988 - val_loss: 4.6721 - val_accuracy: 0.5300\n",
            "Epoch 7/100\n",
            "1700/1700 [==============================] - 8s 5ms/step - loss: 9.9001e-04 - accuracy: 0.9997 - val_loss: 4.2272 - val_accuracy: 0.5450\n",
            "Epoch 8/100\n",
            "1700/1700 [==============================] - 8s 5ms/step - loss: 2.6341e-04 - accuracy: 1.0000 - val_loss: 4.5062 - val_accuracy: 0.5333\n",
            "Epoch 9/100\n",
            "1700/1700 [==============================] - 8s 5ms/step - loss: 9.3948e-06 - accuracy: 1.0000 - val_loss: 4.4879 - val_accuracy: 0.5350\n",
            "Epoch 10/100\n",
            "1700/1700 [==============================] - 8s 5ms/step - loss: 7.0192e-06 - accuracy: 1.0000 - val_loss: 4.4890 - val_accuracy: 0.5333\n",
            "Epoch 11/100\n",
            "1700/1700 [==============================] - 8s 5ms/step - loss: 6.2455e-06 - accuracy: 1.0000 - val_loss: 4.4904 - val_accuracy: 0.5333\n",
            "Epoch 12/100\n",
            "1700/1700 [==============================] - 8s 5ms/step - loss: 5.8109e-06 - accuracy: 1.0000 - val_loss: 4.4916 - val_accuracy: 0.5333\n",
            "Epoch 13/100\n",
            "1700/1700 [==============================] - 8s 5ms/step - loss: 5.4209e-06 - accuracy: 1.0000 - val_loss: 4.4927 - val_accuracy: 0.5333\n",
            "Epoch 14/100\n",
            "1700/1700 [==============================] - 8s 5ms/step - loss: 5.0744e-06 - accuracy: 1.0000 - val_loss: 4.4935 - val_accuracy: 0.5333\n",
            "Epoch 15/100\n",
            "1700/1700 [==============================] - 8s 5ms/step - loss: 4.8118e-06 - accuracy: 1.0000 - val_loss: 4.4942 - val_accuracy: 0.5333\n",
            "Epoch 16/100\n",
            "1700/1700 [==============================] - 8s 5ms/step - loss: 4.5921e-06 - accuracy: 1.0000 - val_loss: 4.4950 - val_accuracy: 0.5333\n",
            "Epoch 17/100\n",
            "1700/1700 [==============================] - 8s 5ms/step - loss: 4.3990e-06 - accuracy: 1.0000 - val_loss: 4.4958 - val_accuracy: 0.5333\n",
            "Epoch 18/100\n",
            "1700/1700 [==============================] - 8s 5ms/step - loss: 4.1999e-06 - accuracy: 1.0000 - val_loss: 4.4964 - val_accuracy: 0.5333\n",
            "Epoch 19/100\n",
            "1700/1700 [==============================] - 8s 5ms/step - loss: 4.0699e-06 - accuracy: 1.0000 - val_loss: 4.4971 - val_accuracy: 0.5333\n",
            "Epoch 20/100\n",
            "1700/1700 [==============================] - 8s 5ms/step - loss: 3.9079e-06 - accuracy: 1.0000 - val_loss: 4.4979 - val_accuracy: 0.5333\n",
            "Epoch 21/100\n",
            "1700/1700 [==============================] - 8s 5ms/step - loss: 3.7738e-06 - accuracy: 1.0000 - val_loss: 4.4987 - val_accuracy: 0.5333\n",
            "Epoch 22/100\n",
            "1700/1700 [==============================] - 8s 5ms/step - loss: 3.6489e-06 - accuracy: 1.0000 - val_loss: 4.4994 - val_accuracy: 0.5333\n",
            "Epoch 23/100\n",
            "1700/1700 [==============================] - 8s 5ms/step - loss: 3.5351e-06 - accuracy: 1.0000 - val_loss: 4.5001 - val_accuracy: 0.5333\n",
            "Epoch 24/100\n",
            "1700/1700 [==============================] - 8s 5ms/step - loss: 3.4179e-06 - accuracy: 1.0000 - val_loss: 4.5009 - val_accuracy: 0.5317\n",
            "Epoch 25/100\n",
            "1700/1700 [==============================] - 8s 5ms/step - loss: 3.3138e-06 - accuracy: 1.0000 - val_loss: 4.5015 - val_accuracy: 0.5317\n",
            "Epoch 26/100\n",
            "1700/1700 [==============================] - 8s 5ms/step - loss: 3.2227e-06 - accuracy: 1.0000 - val_loss: 4.5022 - val_accuracy: 0.5317\n",
            "Epoch 27/100\n",
            "1700/1700 [==============================] - 8s 5ms/step - loss: 3.1350e-06 - accuracy: 1.0000 - val_loss: 4.5028 - val_accuracy: 0.5317\n",
            "Epoch 28/100\n",
            "1700/1700 [==============================] - 8s 5ms/step - loss: 3.0493e-06 - accuracy: 1.0000 - val_loss: 4.5033 - val_accuracy: 0.5317\n",
            "Epoch 29/100\n",
            "1700/1700 [==============================] - 8s 5ms/step - loss: 2.9748e-06 - accuracy: 1.0000 - val_loss: 4.5040 - val_accuracy: 0.5317\n",
            "Epoch 30/100\n",
            "1700/1700 [==============================] - 8s 5ms/step - loss: 2.9062e-06 - accuracy: 1.0000 - val_loss: 4.5047 - val_accuracy: 0.5317\n",
            "Epoch 31/100\n",
            "1700/1700 [==============================] - 8s 5ms/step - loss: 2.8347e-06 - accuracy: 1.0000 - val_loss: 4.5053 - val_accuracy: 0.5317\n",
            "Epoch 32/100\n",
            "1700/1700 [==============================] - 8s 5ms/step - loss: 2.7699e-06 - accuracy: 1.0000 - val_loss: 4.5059 - val_accuracy: 0.5317\n",
            "Epoch 33/100\n",
            "1700/1700 [==============================] - 8s 5ms/step - loss: 2.7092e-06 - accuracy: 1.0000 - val_loss: 4.5064 - val_accuracy: 0.5317\n",
            "Epoch 34/100\n",
            "1700/1700 [==============================] - 8s 5ms/step - loss: 2.6524e-06 - accuracy: 1.0000 - val_loss: 4.5071 - val_accuracy: 0.5317\n",
            "Epoch 35/100\n",
            "1700/1700 [==============================] - 8s 5ms/step - loss: 2.6024e-06 - accuracy: 1.0000 - val_loss: 4.5078 - val_accuracy: 0.5317\n",
            "Epoch 36/100\n",
            "1700/1700 [==============================] - 8s 5ms/step - loss: 2.5442e-06 - accuracy: 1.0000 - val_loss: 4.5085 - val_accuracy: 0.5317\n",
            "Epoch 37/100\n",
            "1700/1700 [==============================] - 8s 5ms/step - loss: 2.4943e-06 - accuracy: 1.0000 - val_loss: 4.5090 - val_accuracy: 0.5317\n",
            "Epoch 38/100\n",
            "1700/1700 [==============================] - 8s 5ms/step - loss: 2.4436e-06 - accuracy: 1.0000 - val_loss: 4.5096 - val_accuracy: 0.5300\n",
            "Epoch 39/100\n",
            "1700/1700 [==============================] - 8s 5ms/step - loss: 2.3964e-06 - accuracy: 1.0000 - val_loss: 4.5102 - val_accuracy: 0.5300\n",
            "Epoch 40/100\n",
            "1700/1700 [==============================] - 8s 5ms/step - loss: 2.3545e-06 - accuracy: 1.0000 - val_loss: 4.5108 - val_accuracy: 0.5300\n",
            "Epoch 41/100\n",
            "1700/1700 [==============================] - 8s 5ms/step - loss: 2.3089e-06 - accuracy: 1.0000 - val_loss: 4.5113 - val_accuracy: 0.5300\n",
            "Epoch 42/100\n",
            "1700/1700 [==============================] - 8s 5ms/step - loss: 2.2707e-06 - accuracy: 1.0000 - val_loss: 4.5118 - val_accuracy: 0.5300\n",
            "Epoch 43/100\n",
            "1700/1700 [==============================] - 8s 5ms/step - loss: 2.2275e-06 - accuracy: 1.0000 - val_loss: 4.5124 - val_accuracy: 0.5300\n",
            "Epoch 44/100\n",
            "1700/1700 [==============================] - 8s 5ms/step - loss: 2.1874e-06 - accuracy: 1.0000 - val_loss: 4.5129 - val_accuracy: 0.5300\n",
            "Epoch 45/100\n",
            "1700/1700 [==============================] - 8s 5ms/step - loss: 2.1533e-06 - accuracy: 1.0000 - val_loss: 4.5135 - val_accuracy: 0.5300\n",
            "Epoch 46/100\n",
            "1700/1700 [==============================] - 8s 5ms/step - loss: 2.1124e-06 - accuracy: 1.0000 - val_loss: 4.5139 - val_accuracy: 0.5300\n",
            "Epoch 47/100\n",
            "1700/1700 [==============================] - 8s 5ms/step - loss: 2.0791e-06 - accuracy: 1.0000 - val_loss: 4.5145 - val_accuracy: 0.5300\n",
            "Epoch 48/100\n",
            "1700/1700 [==============================] - 8s 5ms/step - loss: 2.0465e-06 - accuracy: 1.0000 - val_loss: 4.5150 - val_accuracy: 0.5300\n",
            "Epoch 49/100\n",
            "1700/1700 [==============================] - 8s 5ms/step - loss: 2.0154e-06 - accuracy: 1.0000 - val_loss: 4.5156 - val_accuracy: 0.5300\n",
            "Epoch 50/100\n",
            "1700/1700 [==============================] - 8s 5ms/step - loss: 1.9781e-06 - accuracy: 1.0000 - val_loss: 4.5161 - val_accuracy: 0.5300\n",
            "Epoch 51/100\n",
            "1700/1700 [==============================] - 8s 5ms/step - loss: 1.9457e-06 - accuracy: 1.0000 - val_loss: 4.5166 - val_accuracy: 0.5300\n",
            "Epoch 52/100\n",
            "1700/1700 [==============================] - 8s 5ms/step - loss: 1.9156e-06 - accuracy: 1.0000 - val_loss: 4.5170 - val_accuracy: 0.5300\n",
            "Epoch 53/100\n",
            "1700/1700 [==============================] - 8s 5ms/step - loss: 1.8867e-06 - accuracy: 1.0000 - val_loss: 4.5176 - val_accuracy: 0.5300\n",
            "Epoch 54/100\n",
            "1700/1700 [==============================] - 8s 5ms/step - loss: 1.8574e-06 - accuracy: 1.0000 - val_loss: 4.5180 - val_accuracy: 0.5300\n",
            "Epoch 55/100\n",
            "1700/1700 [==============================] - 8s 5ms/step - loss: 1.8308e-06 - accuracy: 1.0000 - val_loss: 4.5186 - val_accuracy: 0.5300\n",
            "Epoch 56/100\n",
            "1700/1700 [==============================] - 8s 5ms/step - loss: 1.8034e-06 - accuracy: 1.0000 - val_loss: 4.5190 - val_accuracy: 0.5300\n",
            "Epoch 57/100\n",
            "1700/1700 [==============================] - 8s 5ms/step - loss: 1.7760e-06 - accuracy: 1.0000 - val_loss: 4.5196 - val_accuracy: 0.5300\n",
            "Epoch 58/100\n",
            "1700/1700 [==============================] - 8s 5ms/step - loss: 1.7510e-06 - accuracy: 1.0000 - val_loss: 4.5202 - val_accuracy: 0.5283\n",
            "Epoch 59/100\n",
            "1700/1700 [==============================] - 8s 5ms/step - loss: 1.7222e-06 - accuracy: 1.0000 - val_loss: 4.5206 - val_accuracy: 0.5283\n",
            "Epoch 60/100\n",
            "1700/1700 [==============================] - 8s 5ms/step - loss: 1.6979e-06 - accuracy: 1.0000 - val_loss: 4.5210 - val_accuracy: 0.5283\n",
            "Epoch 61/100\n",
            "1700/1700 [==============================] - 8s 5ms/step - loss: 1.6736e-06 - accuracy: 1.0000 - val_loss: 4.5215 - val_accuracy: 0.5283\n",
            "Epoch 62/100\n",
            "1700/1700 [==============================] - 8s 5ms/step - loss: 1.6506e-06 - accuracy: 1.0000 - val_loss: 4.5220 - val_accuracy: 0.5283\n",
            "Epoch 63/100\n",
            "1700/1700 [==============================] - 8s 5ms/step - loss: 1.6263e-06 - accuracy: 1.0000 - val_loss: 4.5224 - val_accuracy: 0.5283\n",
            "Epoch 64/100\n",
            "1700/1700 [==============================] - 8s 5ms/step - loss: 1.6052e-06 - accuracy: 1.0000 - val_loss: 4.5229 - val_accuracy: 0.5283\n",
            "Epoch 65/100\n",
            "1700/1700 [==============================] - 8s 5ms/step - loss: 1.5851e-06 - accuracy: 1.0000 - val_loss: 4.5234 - val_accuracy: 0.5283\n",
            "Epoch 66/100\n",
            "1700/1700 [==============================] - 8s 5ms/step - loss: 1.5638e-06 - accuracy: 1.0000 - val_loss: 4.5238 - val_accuracy: 0.5283\n",
            "Epoch 67/100\n",
            "1700/1700 [==============================] - 8s 5ms/step - loss: 1.5440e-06 - accuracy: 1.0000 - val_loss: 4.5244 - val_accuracy: 0.5283\n",
            "Epoch 68/100\n",
            "1700/1700 [==============================] - 8s 5ms/step - loss: 1.5211e-06 - accuracy: 1.0000 - val_loss: 4.5250 - val_accuracy: 0.5283\n",
            "Epoch 69/100\n",
            "1700/1700 [==============================] - 8s 5ms/step - loss: 1.4999e-06 - accuracy: 1.0000 - val_loss: 4.5255 - val_accuracy: 0.5283\n",
            "Epoch 70/100\n",
            "1700/1700 [==============================] - 8s 5ms/step - loss: 1.4810e-06 - accuracy: 1.0000 - val_loss: 4.5259 - val_accuracy: 0.5283\n",
            "Epoch 71/100\n",
            "1700/1700 [==============================] - 8s 5ms/step - loss: 1.4605e-06 - accuracy: 1.0000 - val_loss: 4.5264 - val_accuracy: 0.5283\n",
            "Epoch 72/100\n",
            "1700/1700 [==============================] - 8s 5ms/step - loss: 1.4393e-06 - accuracy: 1.0000 - val_loss: 4.5270 - val_accuracy: 0.5283\n",
            "Epoch 73/100\n",
            "1700/1700 [==============================] - 8s 5ms/step - loss: 1.4197e-06 - accuracy: 1.0000 - val_loss: 4.5275 - val_accuracy: 0.5300\n",
            "Epoch 74/100\n",
            "1700/1700 [==============================] - 8s 5ms/step - loss: 1.4006e-06 - accuracy: 1.0000 - val_loss: 4.5280 - val_accuracy: 0.5283\n",
            "Epoch 75/100\n",
            "1700/1700 [==============================] - 8s 5ms/step - loss: 1.3817e-06 - accuracy: 1.0000 - val_loss: 4.5284 - val_accuracy: 0.5300\n",
            "Epoch 76/100\n",
            "1700/1700 [==============================] - 8s 5ms/step - loss: 1.3650e-06 - accuracy: 1.0000 - val_loss: 4.5289 - val_accuracy: 0.5300\n",
            "Epoch 77/100\n",
            "1700/1700 [==============================] - 8s 5ms/step - loss: 1.3487e-06 - accuracy: 1.0000 - val_loss: 4.5293 - val_accuracy: 0.5300\n",
            "Epoch 78/100\n",
            "1700/1700 [==============================] - 8s 5ms/step - loss: 1.3316e-06 - accuracy: 1.0000 - val_loss: 4.5298 - val_accuracy: 0.5300\n",
            "Epoch 79/100\n",
            "1700/1700 [==============================] - 8s 5ms/step - loss: 1.3160e-06 - accuracy: 1.0000 - val_loss: 4.5302 - val_accuracy: 0.5300\n",
            "Epoch 80/100\n",
            "1700/1700 [==============================] - 8s 5ms/step - loss: 1.3012e-06 - accuracy: 1.0000 - val_loss: 4.5306 - val_accuracy: 0.5300\n",
            "Epoch 81/100\n",
            "1700/1700 [==============================] - 8s 5ms/step - loss: 1.2826e-06 - accuracy: 1.0000 - val_loss: 4.5311 - val_accuracy: 0.5300\n",
            "Epoch 82/100\n",
            "1700/1700 [==============================] - 8s 5ms/step - loss: 1.2668e-06 - accuracy: 1.0000 - val_loss: 4.5315 - val_accuracy: 0.5300\n",
            "Epoch 83/100\n",
            "1700/1700 [==============================] - 8s 5ms/step - loss: 1.2538e-06 - accuracy: 1.0000 - val_loss: 4.5320 - val_accuracy: 0.5300\n",
            "Epoch 84/100\n",
            "1700/1700 [==============================] - 8s 5ms/step - loss: 1.2380e-06 - accuracy: 1.0000 - val_loss: 4.5325 - val_accuracy: 0.5300\n",
            "Epoch 85/100\n",
            "1700/1700 [==============================] - 8s 5ms/step - loss: 1.2242e-06 - accuracy: 1.0000 - val_loss: 4.5329 - val_accuracy: 0.5300\n",
            "Epoch 86/100\n",
            "1700/1700 [==============================] - 8s 5ms/step - loss: 1.2088e-06 - accuracy: 1.0000 - val_loss: 4.5333 - val_accuracy: 0.5300\n",
            "Epoch 87/100\n",
            "1700/1700 [==============================] - 8s 5ms/step - loss: 1.1937e-06 - accuracy: 1.0000 - val_loss: 4.5338 - val_accuracy: 0.5283\n",
            "Epoch 88/100\n",
            "1700/1700 [==============================] - 8s 5ms/step - loss: 1.1786e-06 - accuracy: 1.0000 - val_loss: 4.5343 - val_accuracy: 0.5283\n",
            "Epoch 89/100\n",
            "1700/1700 [==============================] - 9s 5ms/step - loss: 1.1637e-06 - accuracy: 1.0000 - val_loss: 4.5348 - val_accuracy: 0.5283\n",
            "Epoch 90/100\n",
            "1700/1700 [==============================] - 9s 5ms/step - loss: 1.1507e-06 - accuracy: 1.0000 - val_loss: 4.5353 - val_accuracy: 0.5283\n",
            "Epoch 91/100\n",
            "1700/1700 [==============================] - 8s 5ms/step - loss: 1.1363e-06 - accuracy: 1.0000 - val_loss: 4.5357 - val_accuracy: 0.5283\n",
            "Epoch 92/100\n",
            "1700/1700 [==============================] - 8s 5ms/step - loss: 1.1237e-06 - accuracy: 1.0000 - val_loss: 4.5361 - val_accuracy: 0.5283\n",
            "Epoch 93/100\n",
            "1700/1700 [==============================] - 8s 5ms/step - loss: 1.1113e-06 - accuracy: 1.0000 - val_loss: 4.5365 - val_accuracy: 0.5283\n",
            "Epoch 94/100\n",
            "1700/1700 [==============================] - 8s 5ms/step - loss: 1.1003e-06 - accuracy: 1.0000 - val_loss: 4.5370 - val_accuracy: 0.5283\n",
            "Epoch 95/100\n",
            "1700/1700 [==============================] - 8s 5ms/step - loss: 1.0872e-06 - accuracy: 1.0000 - val_loss: 4.5375 - val_accuracy: 0.5283\n",
            "Epoch 96/100\n",
            "1700/1700 [==============================] - 8s 5ms/step - loss: 1.0730e-06 - accuracy: 1.0000 - val_loss: 4.5381 - val_accuracy: 0.5283\n",
            "Epoch 97/100\n",
            "1700/1700 [==============================] - 8s 5ms/step - loss: 1.0617e-06 - accuracy: 1.0000 - val_loss: 4.5386 - val_accuracy: 0.5283\n",
            "Epoch 98/100\n",
            "1700/1700 [==============================] - 8s 5ms/step - loss: 1.0491e-06 - accuracy: 1.0000 - val_loss: 4.5391 - val_accuracy: 0.5283\n",
            "Epoch 99/100\n",
            "1700/1700 [==============================] - 8s 5ms/step - loss: 1.0381e-06 - accuracy: 1.0000 - val_loss: 4.5395 - val_accuracy: 0.5283\n",
            "Epoch 100/100\n",
            "1700/1700 [==============================] - 8s 5ms/step - loss: 1.0269e-06 - accuracy: 1.0000 - val_loss: 4.5400 - val_accuracy: 0.5283\n"
          ],
          "name": "stdout"
        }
      ]
    },
    {
      "cell_type": "code",
      "metadata": {
        "id": "vlRaOQ8OPDg2",
        "colab_type": "code",
        "colab": {
          "base_uri": "https://localhost:8080/",
          "height": 1000
        },
        "outputId": "2e393846-8c2b-4b5c-c752-c846ecf223b0"
      },
      "source": [
        "history3 = model1.fit(X_train_e_seq, Y_train_e, validation_data=(X_test_e_seq, Y_test_e),batch_size=128,epochs=100)"
      ],
      "execution_count": 29,
      "outputs": [
        {
          "output_type": "stream",
          "text": [
            "Train on 1700 samples, validate on 300 samples\n",
            "Epoch 1/100\n",
            "1700/1700 [==============================] - 8s 5ms/step - loss: 2.7998 - accuracy: 0.5494 - val_loss: 1.5531 - val_accuracy: 0.5000\n",
            "Epoch 2/100\n",
            "1700/1700 [==============================] - 8s 5ms/step - loss: 0.5410 - accuracy: 0.8203 - val_loss: 2.2921 - val_accuracy: 0.5083\n",
            "Epoch 3/100\n",
            "1700/1700 [==============================] - 8s 5ms/step - loss: 0.1193 - accuracy: 0.9597 - val_loss: 2.6739 - val_accuracy: 0.5100\n",
            "Epoch 4/100\n",
            "1700/1700 [==============================] - 8s 5ms/step - loss: 0.0669 - accuracy: 0.9821 - val_loss: 2.8053 - val_accuracy: 0.4867\n",
            "Epoch 5/100\n",
            "1700/1700 [==============================] - 8s 5ms/step - loss: 0.0386 - accuracy: 0.9909 - val_loss: 4.6271 - val_accuracy: 0.5050\n",
            "Epoch 6/100\n",
            "1700/1700 [==============================] - 8s 5ms/step - loss: 0.0204 - accuracy: 0.9947 - val_loss: 3.9053 - val_accuracy: 0.5167\n",
            "Epoch 7/100\n",
            "1700/1700 [==============================] - 8s 5ms/step - loss: 0.0235 - accuracy: 0.9947 - val_loss: 5.4253 - val_accuracy: 0.5200\n",
            "Epoch 8/100\n",
            "1700/1700 [==============================] - 8s 5ms/step - loss: 0.0033 - accuracy: 0.9994 - val_loss: 6.1509 - val_accuracy: 0.4917\n",
            "Epoch 9/100\n",
            "1700/1700 [==============================] - 8s 5ms/step - loss: 0.0023 - accuracy: 0.9994 - val_loss: 5.9979 - val_accuracy: 0.4933\n",
            "Epoch 10/100\n",
            "1700/1700 [==============================] - 8s 5ms/step - loss: 2.2238e-04 - accuracy: 1.0000 - val_loss: 6.0320 - val_accuracy: 0.4917\n",
            "Epoch 11/100\n",
            "1700/1700 [==============================] - 8s 5ms/step - loss: 8.5867e-05 - accuracy: 1.0000 - val_loss: 6.0423 - val_accuracy: 0.4917\n",
            "Epoch 12/100\n",
            "1700/1700 [==============================] - 8s 5ms/step - loss: 5.8439e-05 - accuracy: 1.0000 - val_loss: 6.0464 - val_accuracy: 0.4900\n",
            "Epoch 13/100\n",
            "1700/1700 [==============================] - 8s 5ms/step - loss: 4.0972e-05 - accuracy: 1.0000 - val_loss: 6.0485 - val_accuracy: 0.4883\n",
            "Epoch 14/100\n",
            "1700/1700 [==============================] - 8s 5ms/step - loss: 3.6705e-05 - accuracy: 1.0000 - val_loss: 6.0509 - val_accuracy: 0.4900\n",
            "Epoch 15/100\n",
            "1700/1700 [==============================] - 8s 5ms/step - loss: 3.2439e-05 - accuracy: 1.0000 - val_loss: 6.0526 - val_accuracy: 0.4917\n",
            "Epoch 16/100\n",
            "1700/1700 [==============================] - 8s 5ms/step - loss: 2.9805e-05 - accuracy: 1.0000 - val_loss: 6.0538 - val_accuracy: 0.4917\n",
            "Epoch 17/100\n",
            "1700/1700 [==============================] - 8s 5ms/step - loss: 2.7987e-05 - accuracy: 1.0000 - val_loss: 6.0551 - val_accuracy: 0.4917\n",
            "Epoch 18/100\n",
            "1700/1700 [==============================] - 8s 5ms/step - loss: 2.5896e-05 - accuracy: 1.0000 - val_loss: 6.0561 - val_accuracy: 0.4900\n",
            "Epoch 19/100\n",
            "1700/1700 [==============================] - 8s 5ms/step - loss: 2.3943e-05 - accuracy: 1.0000 - val_loss: 6.0571 - val_accuracy: 0.4900\n",
            "Epoch 20/100\n",
            "1700/1700 [==============================] - 8s 5ms/step - loss: 2.2656e-05 - accuracy: 1.0000 - val_loss: 6.0581 - val_accuracy: 0.4900\n",
            "Epoch 21/100\n",
            "1700/1700 [==============================] - 8s 5ms/step - loss: 2.1318e-05 - accuracy: 1.0000 - val_loss: 6.0596 - val_accuracy: 0.4900\n",
            "Epoch 22/100\n",
            "1700/1700 [==============================] - 8s 5ms/step - loss: 2.0269e-05 - accuracy: 1.0000 - val_loss: 6.0608 - val_accuracy: 0.4900\n",
            "Epoch 23/100\n",
            "1700/1700 [==============================] - 8s 5ms/step - loss: 1.9264e-05 - accuracy: 1.0000 - val_loss: 6.0619 - val_accuracy: 0.4900\n",
            "Epoch 24/100\n",
            "1700/1700 [==============================] - 8s 5ms/step - loss: 1.8441e-05 - accuracy: 1.0000 - val_loss: 6.0630 - val_accuracy: 0.4917\n",
            "Epoch 25/100\n",
            "1700/1700 [==============================] - 8s 5ms/step - loss: 1.7655e-05 - accuracy: 1.0000 - val_loss: 6.0641 - val_accuracy: 0.4917\n",
            "Epoch 26/100\n",
            "1700/1700 [==============================] - 8s 5ms/step - loss: 1.6925e-05 - accuracy: 1.0000 - val_loss: 6.0654 - val_accuracy: 0.4917\n",
            "Epoch 27/100\n",
            "1700/1700 [==============================] - 9s 5ms/step - loss: 1.6240e-05 - accuracy: 1.0000 - val_loss: 6.0664 - val_accuracy: 0.4917\n",
            "Epoch 28/100\n",
            "1700/1700 [==============================] - 9s 5ms/step - loss: 1.5575e-05 - accuracy: 1.0000 - val_loss: 6.0676 - val_accuracy: 0.4917\n",
            "Epoch 29/100\n",
            "1700/1700 [==============================] - 9s 5ms/step - loss: 1.4985e-05 - accuracy: 1.0000 - val_loss: 6.0687 - val_accuracy: 0.4917\n",
            "Epoch 30/100\n",
            "1700/1700 [==============================] - 9s 5ms/step - loss: 1.4565e-05 - accuracy: 1.0000 - val_loss: 6.0696 - val_accuracy: 0.4917\n",
            "Epoch 31/100\n",
            "1700/1700 [==============================] - 9s 5ms/step - loss: 1.3995e-05 - accuracy: 1.0000 - val_loss: 6.0705 - val_accuracy: 0.4933\n",
            "Epoch 32/100\n",
            "1700/1700 [==============================] - 9s 5ms/step - loss: 1.3631e-05 - accuracy: 1.0000 - val_loss: 6.0714 - val_accuracy: 0.4933\n",
            "Epoch 33/100\n",
            "1700/1700 [==============================] - 9s 5ms/step - loss: 1.3156e-05 - accuracy: 1.0000 - val_loss: 6.0722 - val_accuracy: 0.4933\n",
            "Epoch 34/100\n",
            "1700/1700 [==============================] - 9s 5ms/step - loss: 1.2758e-05 - accuracy: 1.0000 - val_loss: 6.0732 - val_accuracy: 0.4950\n",
            "Epoch 35/100\n",
            "1700/1700 [==============================] - 9s 5ms/step - loss: 1.2370e-05 - accuracy: 1.0000 - val_loss: 6.0742 - val_accuracy: 0.4950\n",
            "Epoch 36/100\n",
            "1700/1700 [==============================] - 9s 5ms/step - loss: 1.2007e-05 - accuracy: 1.0000 - val_loss: 6.0750 - val_accuracy: 0.4950\n",
            "Epoch 37/100\n",
            "1700/1700 [==============================] - 9s 5ms/step - loss: 1.1705e-05 - accuracy: 1.0000 - val_loss: 6.0758 - val_accuracy: 0.4950\n",
            "Epoch 38/100\n",
            "1700/1700 [==============================] - 9s 5ms/step - loss: 1.1366e-05 - accuracy: 1.0000 - val_loss: 6.0766 - val_accuracy: 0.4950\n",
            "Epoch 39/100\n",
            "1700/1700 [==============================] - 9s 5ms/step - loss: 1.1107e-05 - accuracy: 1.0000 - val_loss: 6.0774 - val_accuracy: 0.4950\n",
            "Epoch 40/100\n",
            "1700/1700 [==============================] - 8s 5ms/step - loss: 1.0789e-05 - accuracy: 1.0000 - val_loss: 6.0782 - val_accuracy: 0.4950\n",
            "Epoch 41/100\n",
            "1700/1700 [==============================] - 8s 5ms/step - loss: 1.0540e-05 - accuracy: 1.0000 - val_loss: 6.0790 - val_accuracy: 0.4950\n",
            "Epoch 42/100\n",
            "1700/1700 [==============================] - 8s 5ms/step - loss: 1.0301e-05 - accuracy: 1.0000 - val_loss: 6.0799 - val_accuracy: 0.4950\n",
            "Epoch 43/100\n",
            "1700/1700 [==============================] - 8s 5ms/step - loss: 1.0041e-05 - accuracy: 1.0000 - val_loss: 6.0807 - val_accuracy: 0.4950\n",
            "Epoch 44/100\n",
            "1700/1700 [==============================] - 8s 5ms/step - loss: 9.8127e-06 - accuracy: 1.0000 - val_loss: 6.0816 - val_accuracy: 0.4950\n",
            "Epoch 45/100\n",
            "1700/1700 [==============================] - 8s 5ms/step - loss: 9.5622e-06 - accuracy: 1.0000 - val_loss: 6.0824 - val_accuracy: 0.4933\n",
            "Epoch 46/100\n",
            "1700/1700 [==============================] - 8s 5ms/step - loss: 9.3410e-06 - accuracy: 1.0000 - val_loss: 6.0832 - val_accuracy: 0.4933\n",
            "Epoch 47/100\n",
            "1700/1700 [==============================] - 8s 5ms/step - loss: 9.1339e-06 - accuracy: 1.0000 - val_loss: 6.0841 - val_accuracy: 0.4933\n",
            "Epoch 48/100\n",
            "1700/1700 [==============================] - 8s 5ms/step - loss: 8.9338e-06 - accuracy: 1.0000 - val_loss: 6.0849 - val_accuracy: 0.4933\n",
            "Epoch 49/100\n",
            "1700/1700 [==============================] - 8s 5ms/step - loss: 8.7377e-06 - accuracy: 1.0000 - val_loss: 6.0858 - val_accuracy: 0.4933\n",
            "Epoch 50/100\n",
            "1700/1700 [==============================] - 8s 5ms/step - loss: 8.5453e-06 - accuracy: 1.0000 - val_loss: 6.0866 - val_accuracy: 0.4933\n",
            "Epoch 51/100\n",
            "1700/1700 [==============================] - 8s 5ms/step - loss: 8.3659e-06 - accuracy: 1.0000 - val_loss: 6.0874 - val_accuracy: 0.4933\n",
            "Epoch 52/100\n",
            "1700/1700 [==============================] - 8s 5ms/step - loss: 8.2060e-06 - accuracy: 1.0000 - val_loss: 6.0882 - val_accuracy: 0.4933\n",
            "Epoch 53/100\n",
            "1700/1700 [==============================] - 8s 5ms/step - loss: 8.0424e-06 - accuracy: 1.0000 - val_loss: 6.0889 - val_accuracy: 0.4933\n",
            "Epoch 54/100\n",
            "1700/1700 [==============================] - 8s 5ms/step - loss: 7.8779e-06 - accuracy: 1.0000 - val_loss: 6.0897 - val_accuracy: 0.4933\n",
            "Epoch 55/100\n",
            "1700/1700 [==============================] - 8s 5ms/step - loss: 7.7346e-06 - accuracy: 1.0000 - val_loss: 6.0904 - val_accuracy: 0.4933\n",
            "Epoch 56/100\n",
            "1700/1700 [==============================] - 8s 5ms/step - loss: 7.5852e-06 - accuracy: 1.0000 - val_loss: 6.0911 - val_accuracy: 0.4933\n",
            "Epoch 57/100\n",
            "1700/1700 [==============================] - 8s 5ms/step - loss: 7.4381e-06 - accuracy: 1.0000 - val_loss: 6.0919 - val_accuracy: 0.4933\n",
            "Epoch 58/100\n",
            "1700/1700 [==============================] - 8s 5ms/step - loss: 7.3102e-06 - accuracy: 1.0000 - val_loss: 6.0926 - val_accuracy: 0.4933\n",
            "Epoch 59/100\n",
            "1700/1700 [==============================] - 8s 5ms/step - loss: 7.1629e-06 - accuracy: 1.0000 - val_loss: 6.0933 - val_accuracy: 0.4933\n",
            "Epoch 60/100\n",
            "1700/1700 [==============================] - 8s 5ms/step - loss: 7.0475e-06 - accuracy: 1.0000 - val_loss: 6.0940 - val_accuracy: 0.4933\n",
            "Epoch 61/100\n",
            "1700/1700 [==============================] - 8s 5ms/step - loss: 6.9151e-06 - accuracy: 1.0000 - val_loss: 6.0946 - val_accuracy: 0.4933\n",
            "Epoch 62/100\n",
            "1700/1700 [==============================] - 8s 5ms/step - loss: 6.8006e-06 - accuracy: 1.0000 - val_loss: 6.0954 - val_accuracy: 0.4933\n",
            "Epoch 63/100\n",
            "1700/1700 [==============================] - 8s 5ms/step - loss: 6.6752e-06 - accuracy: 1.0000 - val_loss: 6.0962 - val_accuracy: 0.4933\n",
            "Epoch 64/100\n",
            "1700/1700 [==============================] - 8s 5ms/step - loss: 6.5608e-06 - accuracy: 1.0000 - val_loss: 6.0969 - val_accuracy: 0.4933\n",
            "Epoch 65/100\n",
            "1700/1700 [==============================] - 8s 5ms/step - loss: 6.4535e-06 - accuracy: 1.0000 - val_loss: 6.0976 - val_accuracy: 0.4933\n",
            "Epoch 66/100\n",
            "1700/1700 [==============================] - 8s 5ms/step - loss: 6.3486e-06 - accuracy: 1.0000 - val_loss: 6.0983 - val_accuracy: 0.4933\n",
            "Epoch 67/100\n",
            "1700/1700 [==============================] - 8s 5ms/step - loss: 6.2347e-06 - accuracy: 1.0000 - val_loss: 6.0989 - val_accuracy: 0.4933\n",
            "Epoch 68/100\n",
            "1700/1700 [==============================] - 8s 5ms/step - loss: 6.1306e-06 - accuracy: 1.0000 - val_loss: 6.0997 - val_accuracy: 0.4933\n",
            "Epoch 69/100\n",
            "1700/1700 [==============================] - 8s 5ms/step - loss: 6.0247e-06 - accuracy: 1.0000 - val_loss: 6.1005 - val_accuracy: 0.4933\n",
            "Epoch 70/100\n",
            "1700/1700 [==============================] - 11s 6ms/step - loss: 5.9213e-06 - accuracy: 1.0000 - val_loss: 6.1013 - val_accuracy: 0.4933\n",
            "Epoch 71/100\n",
            "1700/1700 [==============================] - 8s 5ms/step - loss: 5.8282e-06 - accuracy: 1.0000 - val_loss: 6.1020 - val_accuracy: 0.4933\n",
            "Epoch 72/100\n",
            "1700/1700 [==============================] - 8s 5ms/step - loss: 5.7324e-06 - accuracy: 1.0000 - val_loss: 6.1026 - val_accuracy: 0.4917\n",
            "Epoch 73/100\n",
            "1700/1700 [==============================] - 8s 5ms/step - loss: 5.6465e-06 - accuracy: 1.0000 - val_loss: 6.1033 - val_accuracy: 0.4917\n",
            "Epoch 74/100\n",
            "1700/1700 [==============================] - 8s 5ms/step - loss: 5.5592e-06 - accuracy: 1.0000 - val_loss: 6.1040 - val_accuracy: 0.4917\n",
            "Epoch 75/100\n",
            "1700/1700 [==============================] - 8s 5ms/step - loss: 5.4676e-06 - accuracy: 1.0000 - val_loss: 6.1047 - val_accuracy: 0.4917\n",
            "Epoch 76/100\n",
            "1700/1700 [==============================] - 8s 5ms/step - loss: 5.3923e-06 - accuracy: 1.0000 - val_loss: 6.1054 - val_accuracy: 0.4917\n",
            "Epoch 77/100\n",
            "1700/1700 [==============================] - 8s 5ms/step - loss: 5.3041e-06 - accuracy: 1.0000 - val_loss: 6.1061 - val_accuracy: 0.4917\n",
            "Epoch 78/100\n",
            "1700/1700 [==============================] - 8s 5ms/step - loss: 5.2135e-06 - accuracy: 1.0000 - val_loss: 6.1068 - val_accuracy: 0.4917\n",
            "Epoch 79/100\n",
            "1700/1700 [==============================] - 8s 5ms/step - loss: 5.1358e-06 - accuracy: 1.0000 - val_loss: 6.1075 - val_accuracy: 0.4917\n",
            "Epoch 80/100\n",
            "1700/1700 [==============================] - 8s 5ms/step - loss: 5.0535e-06 - accuracy: 1.0000 - val_loss: 6.1081 - val_accuracy: 0.4917\n",
            "Epoch 81/100\n",
            "1700/1700 [==============================] - 8s 5ms/step - loss: 4.9776e-06 - accuracy: 1.0000 - val_loss: 6.1090 - val_accuracy: 0.4917\n",
            "Epoch 82/100\n",
            "1700/1700 [==============================] - 8s 5ms/step - loss: 4.9079e-06 - accuracy: 1.0000 - val_loss: 6.1097 - val_accuracy: 0.4917\n",
            "Epoch 83/100\n",
            "1700/1700 [==============================] - 8s 5ms/step - loss: 4.8346e-06 - accuracy: 1.0000 - val_loss: 6.1104 - val_accuracy: 0.4917\n",
            "Epoch 84/100\n",
            "1700/1700 [==============================] - 8s 5ms/step - loss: 4.7690e-06 - accuracy: 1.0000 - val_loss: 6.1111 - val_accuracy: 0.4917\n",
            "Epoch 85/100\n",
            "1700/1700 [==============================] - 8s 5ms/step - loss: 4.6819e-06 - accuracy: 1.0000 - val_loss: 6.1117 - val_accuracy: 0.4917\n",
            "Epoch 86/100\n",
            "1700/1700 [==============================] - 8s 5ms/step - loss: 4.6207e-06 - accuracy: 1.0000 - val_loss: 6.1124 - val_accuracy: 0.4917\n",
            "Epoch 87/100\n",
            "1700/1700 [==============================] - 8s 5ms/step - loss: 4.5553e-06 - accuracy: 1.0000 - val_loss: 6.1130 - val_accuracy: 0.4917\n",
            "Epoch 88/100\n",
            "1700/1700 [==============================] - 9s 5ms/step - loss: 4.4954e-06 - accuracy: 1.0000 - val_loss: 6.1137 - val_accuracy: 0.4917\n",
            "Epoch 89/100\n",
            "1700/1700 [==============================] - 9s 5ms/step - loss: 4.4250e-06 - accuracy: 1.0000 - val_loss: 6.1145 - val_accuracy: 0.4917\n",
            "Epoch 90/100\n",
            "1700/1700 [==============================] - 8s 5ms/step - loss: 4.3698e-06 - accuracy: 1.0000 - val_loss: 6.1152 - val_accuracy: 0.4917\n",
            "Epoch 91/100\n",
            "1700/1700 [==============================] - 8s 5ms/step - loss: 4.3119e-06 - accuracy: 1.0000 - val_loss: 6.1159 - val_accuracy: 0.4917\n",
            "Epoch 92/100\n",
            "1700/1700 [==============================] - 8s 5ms/step - loss: 4.2511e-06 - accuracy: 1.0000 - val_loss: 6.1166 - val_accuracy: 0.4917\n",
            "Epoch 93/100\n",
            "1700/1700 [==============================] - 8s 5ms/step - loss: 4.1945e-06 - accuracy: 1.0000 - val_loss: 6.1172 - val_accuracy: 0.4917\n",
            "Epoch 94/100\n",
            "1700/1700 [==============================] - 8s 5ms/step - loss: 4.1461e-06 - accuracy: 1.0000 - val_loss: 6.1179 - val_accuracy: 0.4917\n",
            "Epoch 95/100\n",
            "1700/1700 [==============================] - 8s 5ms/step - loss: 4.0944e-06 - accuracy: 1.0000 - val_loss: 6.1185 - val_accuracy: 0.4917\n",
            "Epoch 96/100\n",
            "1700/1700 [==============================] - 8s 5ms/step - loss: 4.0361e-06 - accuracy: 1.0000 - val_loss: 6.1192 - val_accuracy: 0.4917\n",
            "Epoch 97/100\n",
            "1700/1700 [==============================] - 8s 5ms/step - loss: 3.9863e-06 - accuracy: 1.0000 - val_loss: 6.1200 - val_accuracy: 0.4917\n",
            "Epoch 98/100\n",
            "1700/1700 [==============================] - 8s 5ms/step - loss: 3.9283e-06 - accuracy: 1.0000 - val_loss: 6.1207 - val_accuracy: 0.4917\n",
            "Epoch 99/100\n",
            "1700/1700 [==============================] - 8s 5ms/step - loss: 3.8784e-06 - accuracy: 1.0000 - val_loss: 6.1215 - val_accuracy: 0.4917\n",
            "Epoch 100/100\n",
            "1700/1700 [==============================] - 8s 5ms/step - loss: 3.8271e-06 - accuracy: 1.0000 - val_loss: 6.1221 - val_accuracy: 0.4917\n"
          ],
          "name": "stdout"
        }
      ]
    },
    {
      "cell_type": "code",
      "metadata": {
        "id": "0xaJT4LTPDmu",
        "colab_type": "code",
        "colab": {
          "base_uri": "https://localhost:8080/",
          "height": 1000
        },
        "outputId": "243b1a47-7d7f-469c-985d-45fefa01ce88"
      },
      "source": [
        "history4 = model1.fit(X_train_k_seq, Y_train_k, validation_data=(X_test_k_seq, Y_test_k),batch_size=128,epochs=100)"
      ],
      "execution_count": 30,
      "outputs": [
        {
          "output_type": "stream",
          "text": [
            "Train on 1700 samples, validate on 300 samples\n",
            "Epoch 1/100\n",
            "1700/1700 [==============================] - 8s 5ms/step - loss: 3.4235 - accuracy: 0.5188 - val_loss: 7.1084 - val_accuracy: 0.4517\n",
            "Epoch 2/100\n",
            "1700/1700 [==============================] - 8s 5ms/step - loss: 1.5764 - accuracy: 0.7576 - val_loss: 4.2489 - val_accuracy: 0.4633\n",
            "Epoch 3/100\n",
            "1700/1700 [==============================] - 8s 5ms/step - loss: 0.4529 - accuracy: 0.9241 - val_loss: 3.7185 - val_accuracy: 0.5133\n",
            "Epoch 4/100\n",
            "1700/1700 [==============================] - 8s 5ms/step - loss: 0.0824 - accuracy: 0.9759 - val_loss: 4.9711 - val_accuracy: 0.4900\n",
            "Epoch 5/100\n",
            "1700/1700 [==============================] - 8s 5ms/step - loss: 0.0172 - accuracy: 0.9944 - val_loss: 4.4428 - val_accuracy: 0.5200\n",
            "Epoch 6/100\n",
            "1700/1700 [==============================] - 8s 5ms/step - loss: 0.0077 - accuracy: 0.9974 - val_loss: 5.0512 - val_accuracy: 0.4983\n",
            "Epoch 7/100\n",
            "1700/1700 [==============================] - 8s 5ms/step - loss: 0.0054 - accuracy: 0.9994 - val_loss: 4.8912 - val_accuracy: 0.5250\n",
            "Epoch 8/100\n",
            "1700/1700 [==============================] - 8s 5ms/step - loss: 5.0866e-04 - accuracy: 1.0000 - val_loss: 4.9075 - val_accuracy: 0.5033\n",
            "Epoch 9/100\n",
            "1700/1700 [==============================] - 8s 5ms/step - loss: 4.1995e-04 - accuracy: 1.0000 - val_loss: 4.8923 - val_accuracy: 0.5083\n",
            "Epoch 10/100\n",
            "1700/1700 [==============================] - 8s 5ms/step - loss: 3.3762e-04 - accuracy: 1.0000 - val_loss: 4.8827 - val_accuracy: 0.5183\n",
            "Epoch 11/100\n",
            "1700/1700 [==============================] - 8s 5ms/step - loss: 2.7229e-04 - accuracy: 1.0000 - val_loss: 4.8787 - val_accuracy: 0.5217\n",
            "Epoch 12/100\n",
            "1700/1700 [==============================] - 8s 5ms/step - loss: 2.3350e-04 - accuracy: 1.0000 - val_loss: 4.8806 - val_accuracy: 0.5200\n",
            "Epoch 13/100\n",
            "1700/1700 [==============================] - 8s 5ms/step - loss: 2.0767e-04 - accuracy: 1.0000 - val_loss: 4.8824 - val_accuracy: 0.5217\n",
            "Epoch 14/100\n",
            "1700/1700 [==============================] - 8s 5ms/step - loss: 1.8763e-04 - accuracy: 1.0000 - val_loss: 4.8855 - val_accuracy: 0.5233\n",
            "Epoch 15/100\n",
            "1700/1700 [==============================] - 8s 5ms/step - loss: 1.6901e-04 - accuracy: 1.0000 - val_loss: 4.8902 - val_accuracy: 0.5233\n",
            "Epoch 16/100\n",
            "1700/1700 [==============================] - 8s 5ms/step - loss: 1.5668e-04 - accuracy: 1.0000 - val_loss: 4.8930 - val_accuracy: 0.5283\n",
            "Epoch 17/100\n",
            "1700/1700 [==============================] - 8s 5ms/step - loss: 1.4506e-04 - accuracy: 1.0000 - val_loss: 4.8970 - val_accuracy: 0.5283\n",
            "Epoch 18/100\n",
            "1700/1700 [==============================] - 8s 5ms/step - loss: 1.3498e-04 - accuracy: 1.0000 - val_loss: 4.9006 - val_accuracy: 0.5283\n",
            "Epoch 19/100\n",
            "1700/1700 [==============================] - 8s 5ms/step - loss: 1.2680e-04 - accuracy: 1.0000 - val_loss: 4.9029 - val_accuracy: 0.5283\n",
            "Epoch 20/100\n",
            "1700/1700 [==============================] - 8s 5ms/step - loss: 1.1900e-04 - accuracy: 1.0000 - val_loss: 4.9060 - val_accuracy: 0.5283\n",
            "Epoch 21/100\n",
            "1700/1700 [==============================] - 8s 5ms/step - loss: 1.1268e-04 - accuracy: 1.0000 - val_loss: 4.9088 - val_accuracy: 0.5283\n",
            "Epoch 22/100\n",
            "1700/1700 [==============================] - 8s 5ms/step - loss: 1.0651e-04 - accuracy: 1.0000 - val_loss: 4.9118 - val_accuracy: 0.5283\n",
            "Epoch 23/100\n",
            "1700/1700 [==============================] - 8s 5ms/step - loss: 1.0198e-04 - accuracy: 1.0000 - val_loss: 4.9145 - val_accuracy: 0.5300\n",
            "Epoch 24/100\n",
            "1700/1700 [==============================] - 8s 5ms/step - loss: 9.6812e-05 - accuracy: 1.0000 - val_loss: 4.9172 - val_accuracy: 0.5300\n",
            "Epoch 25/100\n",
            "1700/1700 [==============================] - 8s 5ms/step - loss: 9.2219e-05 - accuracy: 1.0000 - val_loss: 4.9207 - val_accuracy: 0.5267\n",
            "Epoch 26/100\n",
            "1700/1700 [==============================] - 8s 5ms/step - loss: 8.8080e-05 - accuracy: 1.0000 - val_loss: 4.9237 - val_accuracy: 0.5267\n",
            "Epoch 27/100\n",
            "1700/1700 [==============================] - 8s 5ms/step - loss: 8.4267e-05 - accuracy: 1.0000 - val_loss: 4.9264 - val_accuracy: 0.5250\n",
            "Epoch 28/100\n",
            "1700/1700 [==============================] - 8s 5ms/step - loss: 8.0791e-05 - accuracy: 1.0000 - val_loss: 4.9289 - val_accuracy: 0.5250\n",
            "Epoch 29/100\n",
            "1700/1700 [==============================] - 8s 5ms/step - loss: 7.7477e-05 - accuracy: 1.0000 - val_loss: 4.9316 - val_accuracy: 0.5267\n",
            "Epoch 30/100\n",
            "1700/1700 [==============================] - 8s 5ms/step - loss: 7.4498e-05 - accuracy: 1.0000 - val_loss: 4.9338 - val_accuracy: 0.5267\n",
            "Epoch 31/100\n",
            "1700/1700 [==============================] - 8s 5ms/step - loss: 7.1666e-05 - accuracy: 1.0000 - val_loss: 4.9367 - val_accuracy: 0.5267\n",
            "Epoch 32/100\n",
            "1700/1700 [==============================] - 8s 5ms/step - loss: 6.9061e-05 - accuracy: 1.0000 - val_loss: 4.9389 - val_accuracy: 0.5267\n",
            "Epoch 33/100\n",
            "1700/1700 [==============================] - 8s 5ms/step - loss: 6.6712e-05 - accuracy: 1.0000 - val_loss: 4.9415 - val_accuracy: 0.5267\n",
            "Epoch 34/100\n",
            "1700/1700 [==============================] - 8s 5ms/step - loss: 6.4360e-05 - accuracy: 1.0000 - val_loss: 4.9443 - val_accuracy: 0.5267\n",
            "Epoch 35/100\n",
            "1700/1700 [==============================] - 8s 5ms/step - loss: 6.2275e-05 - accuracy: 1.0000 - val_loss: 4.9471 - val_accuracy: 0.5267\n",
            "Epoch 36/100\n",
            "1700/1700 [==============================] - 8s 5ms/step - loss: 6.0320e-05 - accuracy: 1.0000 - val_loss: 4.9498 - val_accuracy: 0.5267\n",
            "Epoch 37/100\n",
            "1700/1700 [==============================] - 8s 5ms/step - loss: 5.8431e-05 - accuracy: 1.0000 - val_loss: 4.9517 - val_accuracy: 0.5250\n",
            "Epoch 38/100\n",
            "1700/1700 [==============================] - 8s 5ms/step - loss: 5.6639e-05 - accuracy: 1.0000 - val_loss: 4.9540 - val_accuracy: 0.5233\n",
            "Epoch 39/100\n",
            "1700/1700 [==============================] - 8s 5ms/step - loss: 5.4854e-05 - accuracy: 1.0000 - val_loss: 4.9562 - val_accuracy: 0.5233\n",
            "Epoch 40/100\n",
            "1700/1700 [==============================] - 8s 5ms/step - loss: 5.3141e-05 - accuracy: 1.0000 - val_loss: 4.9585 - val_accuracy: 0.5250\n",
            "Epoch 41/100\n",
            "1700/1700 [==============================] - 8s 5ms/step - loss: 5.1638e-05 - accuracy: 1.0000 - val_loss: 4.9612 - val_accuracy: 0.5250\n",
            "Epoch 42/100\n",
            "1700/1700 [==============================] - 9s 5ms/step - loss: 5.0141e-05 - accuracy: 1.0000 - val_loss: 4.9636 - val_accuracy: 0.5250\n",
            "Epoch 43/100\n",
            "1700/1700 [==============================] - 10s 6ms/step - loss: 4.8731e-05 - accuracy: 1.0000 - val_loss: 4.9656 - val_accuracy: 0.5250\n",
            "Epoch 44/100\n",
            "1700/1700 [==============================] - 8s 5ms/step - loss: 4.7535e-05 - accuracy: 1.0000 - val_loss: 4.9681 - val_accuracy: 0.5250\n",
            "Epoch 45/100\n",
            "1700/1700 [==============================] - 8s 5ms/step - loss: 4.6206e-05 - accuracy: 1.0000 - val_loss: 4.9698 - val_accuracy: 0.5250\n",
            "Epoch 46/100\n",
            "1700/1700 [==============================] - 8s 5ms/step - loss: 4.4947e-05 - accuracy: 1.0000 - val_loss: 4.9719 - val_accuracy: 0.5250\n",
            "Epoch 47/100\n",
            "1700/1700 [==============================] - 8s 5ms/step - loss: 4.3751e-05 - accuracy: 1.0000 - val_loss: 4.9741 - val_accuracy: 0.5250\n",
            "Epoch 48/100\n",
            "1700/1700 [==============================] - 8s 5ms/step - loss: 4.2626e-05 - accuracy: 1.0000 - val_loss: 4.9760 - val_accuracy: 0.5250\n",
            "Epoch 49/100\n",
            "1700/1700 [==============================] - 8s 5ms/step - loss: 4.1580e-05 - accuracy: 1.0000 - val_loss: 4.9778 - val_accuracy: 0.5250\n",
            "Epoch 50/100\n",
            "1700/1700 [==============================] - 8s 5ms/step - loss: 4.0517e-05 - accuracy: 1.0000 - val_loss: 4.9801 - val_accuracy: 0.5250\n",
            "Epoch 51/100\n",
            "1700/1700 [==============================] - 8s 5ms/step - loss: 3.9563e-05 - accuracy: 1.0000 - val_loss: 4.9827 - val_accuracy: 0.5250\n",
            "Epoch 52/100\n",
            "1700/1700 [==============================] - 8s 5ms/step - loss: 3.8661e-05 - accuracy: 1.0000 - val_loss: 4.9849 - val_accuracy: 0.5250\n",
            "Epoch 53/100\n",
            "1700/1700 [==============================] - 8s 5ms/step - loss: 3.7816e-05 - accuracy: 1.0000 - val_loss: 4.9869 - val_accuracy: 0.5250\n",
            "Epoch 54/100\n",
            "1700/1700 [==============================] - 8s 5ms/step - loss: 3.6930e-05 - accuracy: 1.0000 - val_loss: 4.9889 - val_accuracy: 0.5250\n",
            "Epoch 55/100\n",
            "1700/1700 [==============================] - 8s 5ms/step - loss: 3.6151e-05 - accuracy: 1.0000 - val_loss: 4.9910 - val_accuracy: 0.5250\n",
            "Epoch 56/100\n",
            "1700/1700 [==============================] - 8s 5ms/step - loss: 3.5387e-05 - accuracy: 1.0000 - val_loss: 4.9931 - val_accuracy: 0.5250\n",
            "Epoch 57/100\n",
            "1700/1700 [==============================] - 8s 5ms/step - loss: 3.4624e-05 - accuracy: 1.0000 - val_loss: 4.9955 - val_accuracy: 0.5250\n",
            "Epoch 58/100\n",
            "1700/1700 [==============================] - 8s 5ms/step - loss: 3.3888e-05 - accuracy: 1.0000 - val_loss: 4.9972 - val_accuracy: 0.5250\n",
            "Epoch 59/100\n",
            "1700/1700 [==============================] - 8s 5ms/step - loss: 3.3133e-05 - accuracy: 1.0000 - val_loss: 4.9996 - val_accuracy: 0.5250\n",
            "Epoch 60/100\n",
            "1700/1700 [==============================] - 8s 5ms/step - loss: 3.2423e-05 - accuracy: 1.0000 - val_loss: 5.0017 - val_accuracy: 0.5250\n",
            "Epoch 61/100\n",
            "1700/1700 [==============================] - 8s 5ms/step - loss: 3.1790e-05 - accuracy: 1.0000 - val_loss: 5.0038 - val_accuracy: 0.5250\n",
            "Epoch 62/100\n",
            "1700/1700 [==============================] - 8s 5ms/step - loss: 3.1161e-05 - accuracy: 1.0000 - val_loss: 5.0061 - val_accuracy: 0.5250\n",
            "Epoch 63/100\n",
            "1700/1700 [==============================] - 8s 5ms/step - loss: 3.0577e-05 - accuracy: 1.0000 - val_loss: 5.0081 - val_accuracy: 0.5267\n",
            "Epoch 64/100\n",
            "1700/1700 [==============================] - 8s 5ms/step - loss: 2.9953e-05 - accuracy: 1.0000 - val_loss: 5.0100 - val_accuracy: 0.5267\n",
            "Epoch 65/100\n",
            "1700/1700 [==============================] - 8s 5ms/step - loss: 2.9377e-05 - accuracy: 1.0000 - val_loss: 5.0119 - val_accuracy: 0.5267\n",
            "Epoch 66/100\n",
            "1700/1700 [==============================] - 8s 5ms/step - loss: 2.8835e-05 - accuracy: 1.0000 - val_loss: 5.0138 - val_accuracy: 0.5267\n",
            "Epoch 67/100\n",
            "1700/1700 [==============================] - 8s 5ms/step - loss: 2.8317e-05 - accuracy: 1.0000 - val_loss: 5.0157 - val_accuracy: 0.5267\n",
            "Epoch 68/100\n",
            "1700/1700 [==============================] - 8s 5ms/step - loss: 2.7784e-05 - accuracy: 1.0000 - val_loss: 5.0174 - val_accuracy: 0.5267\n",
            "Epoch 69/100\n",
            "1700/1700 [==============================] - 8s 5ms/step - loss: 2.7290e-05 - accuracy: 1.0000 - val_loss: 5.0193 - val_accuracy: 0.5267\n",
            "Epoch 70/100\n",
            "1700/1700 [==============================] - 8s 5ms/step - loss: 2.6796e-05 - accuracy: 1.0000 - val_loss: 5.0210 - val_accuracy: 0.5267\n",
            "Epoch 71/100\n",
            "1700/1700 [==============================] - 8s 5ms/step - loss: 2.6323e-05 - accuracy: 1.0000 - val_loss: 5.0228 - val_accuracy: 0.5267\n",
            "Epoch 72/100\n",
            "1700/1700 [==============================] - 8s 5ms/step - loss: 2.5836e-05 - accuracy: 1.0000 - val_loss: 5.0245 - val_accuracy: 0.5267\n",
            "Epoch 73/100\n",
            "1700/1700 [==============================] - 8s 5ms/step - loss: 2.5399e-05 - accuracy: 1.0000 - val_loss: 5.0262 - val_accuracy: 0.5267\n",
            "Epoch 74/100\n",
            "1700/1700 [==============================] - 8s 5ms/step - loss: 2.4951e-05 - accuracy: 1.0000 - val_loss: 5.0282 - val_accuracy: 0.5267\n",
            "Epoch 75/100\n",
            "1700/1700 [==============================] - 8s 5ms/step - loss: 2.4554e-05 - accuracy: 1.0000 - val_loss: 5.0301 - val_accuracy: 0.5267\n",
            "Epoch 76/100\n",
            "1700/1700 [==============================] - 8s 5ms/step - loss: 2.4126e-05 - accuracy: 1.0000 - val_loss: 5.0317 - val_accuracy: 0.5267\n",
            "Epoch 77/100\n",
            "1700/1700 [==============================] - 8s 5ms/step - loss: 2.3724e-05 - accuracy: 1.0000 - val_loss: 5.0334 - val_accuracy: 0.5250\n",
            "Epoch 78/100\n",
            "1700/1700 [==============================] - 8s 5ms/step - loss: 2.3336e-05 - accuracy: 1.0000 - val_loss: 5.0349 - val_accuracy: 0.5250\n",
            "Epoch 79/100\n",
            "1700/1700 [==============================] - 8s 5ms/step - loss: 2.2937e-05 - accuracy: 1.0000 - val_loss: 5.0364 - val_accuracy: 0.5250\n",
            "Epoch 80/100\n",
            "1700/1700 [==============================] - 8s 5ms/step - loss: 2.2548e-05 - accuracy: 1.0000 - val_loss: 5.0382 - val_accuracy: 0.5250\n",
            "Epoch 81/100\n",
            "1700/1700 [==============================] - 8s 5ms/step - loss: 2.2201e-05 - accuracy: 1.0000 - val_loss: 5.0398 - val_accuracy: 0.5250\n",
            "Epoch 82/100\n",
            "1700/1700 [==============================] - 8s 5ms/step - loss: 2.1838e-05 - accuracy: 1.0000 - val_loss: 5.0418 - val_accuracy: 0.5250\n",
            "Epoch 83/100\n",
            "1700/1700 [==============================] - 8s 5ms/step - loss: 2.1476e-05 - accuracy: 1.0000 - val_loss: 5.0436 - val_accuracy: 0.5250\n",
            "Epoch 84/100\n",
            "1700/1700 [==============================] - 8s 5ms/step - loss: 2.1143e-05 - accuracy: 1.0000 - val_loss: 5.0450 - val_accuracy: 0.5250\n",
            "Epoch 85/100\n",
            "1700/1700 [==============================] - 8s 5ms/step - loss: 2.0820e-05 - accuracy: 1.0000 - val_loss: 5.0464 - val_accuracy: 0.5250\n",
            "Epoch 86/100\n",
            "1700/1700 [==============================] - 8s 5ms/step - loss: 2.0497e-05 - accuracy: 1.0000 - val_loss: 5.0481 - val_accuracy: 0.5250\n",
            "Epoch 87/100\n",
            "1700/1700 [==============================] - 8s 5ms/step - loss: 2.0174e-05 - accuracy: 1.0000 - val_loss: 5.0498 - val_accuracy: 0.5250\n",
            "Epoch 88/100\n",
            "1700/1700 [==============================] - 8s 5ms/step - loss: 1.9860e-05 - accuracy: 1.0000 - val_loss: 5.0515 - val_accuracy: 0.5250\n",
            "Epoch 89/100\n",
            "1700/1700 [==============================] - 8s 5ms/step - loss: 1.9561e-05 - accuracy: 1.0000 - val_loss: 5.0530 - val_accuracy: 0.5250\n",
            "Epoch 90/100\n",
            "1700/1700 [==============================] - 9s 5ms/step - loss: 1.9271e-05 - accuracy: 1.0000 - val_loss: 5.0545 - val_accuracy: 0.5250\n",
            "Epoch 91/100\n",
            "1700/1700 [==============================] - 8s 5ms/step - loss: 1.8996e-05 - accuracy: 1.0000 - val_loss: 5.0560 - val_accuracy: 0.5250\n",
            "Epoch 92/100\n",
            "1700/1700 [==============================] - 8s 5ms/step - loss: 1.8712e-05 - accuracy: 1.0000 - val_loss: 5.0575 - val_accuracy: 0.5233\n",
            "Epoch 93/100\n",
            "1700/1700 [==============================] - 8s 5ms/step - loss: 1.8440e-05 - accuracy: 1.0000 - val_loss: 5.0594 - val_accuracy: 0.5233\n",
            "Epoch 94/100\n",
            "1700/1700 [==============================] - 8s 5ms/step - loss: 1.8157e-05 - accuracy: 1.0000 - val_loss: 5.0607 - val_accuracy: 0.5233\n",
            "Epoch 95/100\n",
            "1700/1700 [==============================] - 8s 5ms/step - loss: 1.7864e-05 - accuracy: 1.0000 - val_loss: 5.0623 - val_accuracy: 0.5233\n",
            "Epoch 96/100\n",
            "1700/1700 [==============================] - 8s 5ms/step - loss: 1.7628e-05 - accuracy: 1.0000 - val_loss: 5.0638 - val_accuracy: 0.5233\n",
            "Epoch 97/100\n",
            "1700/1700 [==============================] - 8s 5ms/step - loss: 1.7368e-05 - accuracy: 1.0000 - val_loss: 5.0654 - val_accuracy: 0.5233\n",
            "Epoch 98/100\n",
            "1700/1700 [==============================] - 8s 5ms/step - loss: 1.7116e-05 - accuracy: 1.0000 - val_loss: 5.0671 - val_accuracy: 0.5233\n",
            "Epoch 99/100\n",
            "1700/1700 [==============================] - 8s 5ms/step - loss: 1.6852e-05 - accuracy: 1.0000 - val_loss: 5.0685 - val_accuracy: 0.5233\n",
            "Epoch 100/100\n",
            "1700/1700 [==============================] - 8s 5ms/step - loss: 1.6613e-05 - accuracy: 1.0000 - val_loss: 5.0703 - val_accuracy: 0.5233\n"
          ],
          "name": "stdout"
        }
      ]
    },
    {
      "cell_type": "code",
      "metadata": {
        "id": "hbTPQk04Pd3M",
        "colab_type": "code",
        "colab": {
          "base_uri": "https://localhost:8080/",
          "height": 302
        },
        "outputId": "a70cad2c-a268-4f21-b54a-e85b346b9390"
      },
      "source": [
        "plot_performance(history=history2)"
      ],
      "execution_count": 31,
      "outputs": [
        {
          "output_type": "display_data",
          "data": {
            "image/png": "[encoded data removed]",
            "text/plain": [
              "<Figure size 1440x360 with 2 Axes>"
            ]
          },
          "metadata": {
            "tags": [],
            "needs_background": "light"
          }
        }
      ]
    },
    {
      "cell_type": "code",
      "metadata": {
        "id": "E2JAzlBsPeCm",
        "colab_type": "code",
        "colab": {
          "base_uri": "https://localhost:8080/",
          "height": 302
        },
        "outputId": "3a6ecb2d-5c89-4051-f133-f707a3599015"
      },
      "source": [
        "plot_performance(history=history3)"
      ],
      "execution_count": 32,
      "outputs": [
        {
          "output_type": "display_data",
          "data": {
            "image/png": "[encoded data removed]",
            "text/plain": [
              "<Figure size 1440x360 with 2 Axes>"
            ]
          },
          "metadata": {
            "tags": [],
            "needs_background": "light"
          }
        }
      ]
    },
    {
      "cell_type": "code",
      "metadata": {
        "id": "Upq9YSV4PeVj",
        "colab_type": "code",
        "colab": {
          "base_uri": "https://localhost:8080/",
          "height": 302
        },
        "outputId": "23b24d46-1f5a-46d2-b351-5ee47720eef5"
      },
      "source": [
        "plot_performance(history=history4)"
      ],
      "execution_count": 33,
      "outputs": [
        {
          "output_type": "display_data",
          "data": {
            "image/png": "[encoded data removed]",
            "text/plain": [
              "<Figure size 1440x360 with 2 Axes>"
            ]
          },
          "metadata": {
            "tags": [],
            "needs_background": "light"
          }
        }
      ]
    }
  ]
}