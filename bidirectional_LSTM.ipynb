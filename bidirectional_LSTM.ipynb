{
  "nbformat": 4,
  "nbformat_minor": 0,
  "metadata": {
    "colab": {
      "name": "bidirectional LSTM.ipynb",
      "provenance": []
    },
    "kernelspec": {
      "name": "python3",
      "display_name": "Python 3"
    }
  },
  "cells": [
    {
      "cell_type": "code",
      "metadata": {
        "id": "ogYoSG_MyZpu",
        "colab_type": "code",
        "colab": {
          "base_uri": "https://localhost:8080/"
        },
        "outputId": "914b9010-8efc-4e0e-de23-a4fc14c7ae36"
      },
      "source": [
        "from google.colab import drive\n",
        "drive.mount('/content/drive/')"
      ],
      "execution_count": 74,
      "outputs": [
        {
          "output_type": "stream",
          "text": [
            "Drive already mounted at /content/drive/; to attempt to forcibly remount, call drive.mount(\"/content/drive/\", force_remount=True).\n"
          ],
          "name": "stdout"
        }
      ]
    },
    {
      "cell_type": "code",
      "metadata": {
        "id": "UN1Mdlvzz7yN",
        "colab_type": "code",
        "colab": {
          "base_uri": "https://localhost:8080/",
          "height": 68
        },
        "outputId": "50f452d4-476a-4c49-d403-6bf7b73d00b5"
      },
      "source": [
        "import nltk\n",
        "nltk.download('punkt')"
      ],
      "execution_count": 75,
      "outputs": [
        {
          "output_type": "stream",
          "text": [
            "[nltk_data] Downloading package punkt to /root/nltk_data...\n",
            "[nltk_data]   Package punkt is already up-to-date!\n"
          ],
          "name": "stdout"
        },
        {
          "output_type": "execute_result",
          "data": {
            "text/plain": [
              "True"
            ]
          },
          "metadata": {
            "tags": []
          },
          "execution_count": 75
        }
      ]
    },
    {
      "cell_type": "code",
      "metadata": {
        "id": "skCd_ylq0ayy",
        "colab_type": "code",
        "colab": {}
      },
      "source": [
        "# System\n",
        "import os\n",
        "\n",
        "# Time\n",
        "import time\n",
        "import datetime\n",
        "\n",
        "# Numerical\n",
        "import numpy as np\n",
        "import pandas as pd\n",
        "\n",
        "# NLP\n",
        "import string\n",
        "import re\n",
        "from nltk.corpus import stopwords\n",
        "from nltk.tokenize import word_tokenize \n",
        "from nltk.stem import SnowballStemmer\n",
        "from nltk.stem import PorterStemmer\n",
        "from nltk.stem import WordNetLemmatizer\n",
        "# from pywsd.utils import lemmatize_sentence\n",
        "from gensim.models import Word2Vec\n",
        "\n",
        "# Preprocessing\n",
        "from sklearn import preprocessing\n",
        "from sklearn.utils import class_weight as cw\n",
        "from sklearn.feature_extraction.text import CountVectorizer\n",
        "from sklearn.preprocessing import StandardScaler\n",
        "from sklearn.preprocessing import LabelEncoder\n",
        "from sklearn.model_selection import train_test_split\n",
        "from sklearn.feature_extraction.text import TfidfVectorizer\n",
        "from bs4 import BeautifulSoup\n",
        "\n",
        "# Model Selection\n",
        "from sklearn.model_selection import train_test_split, cross_val_score, GridSearchCV\n",
        "\n",
        "# Machine Learning Models\n",
        "from sklearn.linear_model import LogisticRegression\n",
        "from sklearn import svm\n",
        "from sklearn.svm import SVC\n",
        "from sklearn.naive_bayes import MultinomialNB\n",
        "from sklearn.neighbors import KNeighborsClassifier\n",
        "from sklearn.ensemble import AdaBoostClassifier, RandomForestClassifier, BaggingClassifier, ExtraTreesClassifier\n",
        "from sklearn.tree import DecisionTreeClassifier\n",
        "\n",
        "# Evaluation Metrics\n",
        "from sklearn import metrics \n",
        "from sklearn.metrics import f1_score, accuracy_score,confusion_matrix,classification_report\n",
        "\n",
        "# Deep Learing Preprocessing - Keras\n",
        "from keras.preprocessing.text import Tokenizer\n",
        "from keras.preprocessing import sequence\n",
        "from keras.utils import to_categorical\n",
        "\n",
        "# Deep Learning Model - Keras\n",
        "from keras.models import Model\n",
        "from keras.models import Sequential\n",
        "from keras.utils import plot_model\n",
        "# Deep Learning Model - Keras - CNN\n",
        "from keras.layers import Conv1D, Conv2D, Convolution1D, MaxPooling1D, SeparableConv1D, SpatialDropout1D, \\\n",
        "    GlobalAvgPool1D, GlobalMaxPool1D, GlobalMaxPooling1D \n",
        "from keras.layers.pooling import _GlobalPooling1D\n",
        "from keras.layers import MaxPooling2D, GlobalMaxPooling2D, GlobalAveragePooling2D\n",
        "from keras.layers import Embedding\n",
        "from keras.layers import Input, Add, concatenate, Dense, Activation, BatchNormalization, Dropout, Flatten\n",
        "from keras.layers import LeakyReLU, PReLU, Lambda, Multiply\n",
        "# Deep Learning Model - Keras - LSTM\n",
        "from keras.preprocessing.sequence import pad_sequences\n",
        "from keras.layers import LSTM\n",
        "from keras.layers import Dense\n",
        "from keras.layers import TimeDistributed\n",
        "from keras.layers import Bidirectional\n",
        "\n",
        "\n",
        "# Deep Learning Parameters - Keras\n",
        "from keras.optimizers import RMSprop, Adam\n",
        "\n",
        "# Deep Learning Callbacs - Keras\n",
        "from keras.callbacks import ModelCheckpoint, EarlyStopping, TensorBoard, ReduceLROnPlateau\n",
        "from keras.layers import MaxPooling3D, GlobalMaxPooling3D, GlobalAveragePooling3D\n",
        "# Visualization\n",
        "\n",
        "\n",
        "import matplotlib.pyplot as plt\n",
        "import seaborn as sns\n",
        "\n",
        "%matplotlib inline"
      ],
      "execution_count": 76,
      "outputs": []
    },
    {
      "cell_type": "code",
      "metadata": {
        "id": "I1AHRch52e00",
        "colab_type": "code",
        "colab": {}
      },
      "source": [
        "books_neg = pd.read_csv(\"/content/drive/My Drive/LSTM/books_negative.csv\")\n",
        "books_pos = pd.read_csv(\"/content/drive/My Drive/LSTM/books_positive.csv\")\n",
        "dvd_neg = pd.read_csv(\"/content/drive/My Drive/LSTM/dvd_negative.csv\")\n",
        "dvd_pos = pd.read_csv(\"/content/drive/My Drive/LSTM/dvd_positive.csv\")\n",
        "ele_neg = pd.read_csv(\"/content/drive/My Drive/LSTM/electronics_negative.csv\")\n",
        "ele_pos = pd.read_csv(\"/content/drive/My Drive/LSTM/electronics_positive.csv\")\n",
        "kit_neg = pd.read_csv(\"/content/drive/My Drive/LSTM/kitchen_negative.csv\")\n",
        "kit_pos = pd.read_csv(\"/content/drive/My Drive/LSTM/kitchen_positive.csv\")\n"
      ],
      "execution_count": 77,
      "outputs": []
    },
    {
      "cell_type": "code",
      "metadata": {
        "id": "nhjwoyLi3zT7",
        "colab_type": "code",
        "colab": {}
      },
      "source": [
        "books_neg['label'] = 0 \n",
        "books_pos['label'] = 1\n",
        "books = pd.concat([books_neg,books_pos],axis = 0)\n",
        "books['domain'] = 'books'\n",
        "dvd_neg['label'] = 0\n",
        "dvd_pos['label'] = 1\n",
        "dvd = pd.concat([dvd_pos, dvd_neg],axis = 0)\n",
        "dvd['domain'] = 'dvd'\n",
        "ele_neg['label'] = 0\n",
        "ele_pos['label'] = 1\n",
        "ele = pd.concat([ele_neg, ele_pos],axis = 0)\n",
        "ele['domain'] = 'electronics'\n",
        "kit_neg['label'] = 0\n",
        "kit_pos['label'] = 1\n",
        "kit = pd.concat([kit_neg, kit_pos],axis = 0)\n",
        "kit['domain'] = 'kitchen'\n",
        "alldata = pd.concat([books,dvd,ele,kit])"
      ],
      "execution_count": 78,
      "outputs": []
    },
    {
      "cell_type": "code",
      "metadata": {
        "id": "OOrHavjx34ax",
        "colab_type": "code",
        "colab": {}
      },
      "source": [
        "books =books.reset_index(drop=True)\n",
        "dvd =dvd.reset_index(drop=True)\n",
        "ele =ele.reset_index(drop=True)\n",
        "kit =kit.reset_index(drop=True)"
      ],
      "execution_count": 79,
      "outputs": []
    },
    {
      "cell_type": "code",
      "metadata": {
        "id": "SSaXzpH3374p",
        "colab_type": "code",
        "colab": {}
      },
      "source": [
        "x_books = books['review_text']\n",
        "y_books = books['label']\n",
        "\n",
        "x_dvd = dvd['review_text']\n",
        "y_dvd = dvd['label']\n",
        "\n",
        "x_ele = ele['review_text']\n",
        "y_ele = ele['label']\n",
        "\n",
        "x_kit = kit['review_text']\n",
        "y_kit = kit['label']"
      ],
      "execution_count": 80,
      "outputs": []
    },
    {
      "cell_type": "code",
      "metadata": {
        "id": "f7F9E6vE4BYC",
        "colab_type": "code",
        "colab": {}
      },
      "source": [
        "def clean_doc(doc):\n",
        "    #split into words\n",
        "    tokens = word_tokenize(doc)\n",
        "    #convert to lower case\n",
        "    tokens = [w.lower() for w in tokens]\n",
        "    #prepare regex for char filtering\n",
        "    re_punc =re.compile('[%s]'% re.escape(string.punctuation))\n",
        "    #remove punctuation\n",
        "    stripped =[re_punc.sub('',w) for w in tokens]\n",
        "    #filter out stop words\n",
        "    #stop_words = set(stopwords.words('english'))\n",
        "    #words =[w for w in words if not w in stop_words]\n",
        "    #remove remaining tokens that are not alphabetic\n",
        "    words = [w for w in stripped if w.isalpha()]\n",
        "    #filter out short tokens\n",
        "    tokens = [word for word in words if len(word)>1]\n",
        "    return tokens"
      ],
      "execution_count": 81,
      "outputs": []
    },
    {
      "cell_type": "code",
      "metadata": {
        "id": "wAXUJy4V4HXB",
        "colab_type": "code",
        "colab": {}
      },
      "source": [
        "text_books = []\n",
        "for m in range(0,len(x_books)):\n",
        "    X = ''.join(str(i)for i in x_books[m])\n",
        "    te = clean_doc(X)\n",
        "    trainx = \" \".join(te)\n",
        "    text_books.append(trainx)\n",
        "\n",
        "text_dvd = []\n",
        "for m in range(0,len(x_dvd)):\n",
        "    X = ''.join(str(i)for i in x_dvd[m])\n",
        "    te = clean_doc(X)\n",
        "    trainx = \" \".join(te)\n",
        "    text_dvd.append(trainx)\n",
        "\n",
        "\n",
        "text_ele = []\n",
        "for m in range(0,len(x_ele)):\n",
        "    X = ''.join(str(i)for i in x_ele[m])\n",
        "    te = clean_doc(X)\n",
        "    trainx = \" \".join(te)\n",
        "    text_ele.append(trainx)\n",
        "\n",
        "\n",
        "text_kit = []\n",
        "for m in range(0,len(x_kit)):\n",
        "    X = ''.join(str(i)for i in x_kit[m])\n",
        "    te = clean_doc(X)\n",
        "    trainx = \" \".join(te)\n",
        "    text_kit.append(trainx)"
      ],
      "execution_count": 82,
      "outputs": []
    },
    {
      "cell_type": "code",
      "metadata": {
        "id": "k35kO6Mi4W5p",
        "colab_type": "code",
        "colab": {}
      },
      "source": [
        "#tokens\n",
        "tokens_b = []\n",
        "for m in range(0,len(x_books)):\n",
        "    X = ''.join(str(i)for i in x_books[m])\n",
        "    te = clean_doc(X)\n",
        "    tokens_b.append(te)\n",
        "\n",
        "tokens_d = []\n",
        "for m in range(0,len(x_dvd)):\n",
        "    X = ''.join(str(i)for i in x_dvd[m])\n",
        "    te = clean_doc(X)\n",
        "    tokens_d.append(te)\n",
        "\n",
        "tokens_e = []\n",
        "for m in range(0,len(x_ele)):\n",
        "    X = ''.join(str(i)for i in x_ele[m])\n",
        "    te = clean_doc(X)\n",
        "    tokens_e.append(te)\n",
        "\n",
        "tokens_k = []\n",
        "for m in range(0,len(x_kit)):\n",
        "    X = ''.join(str(i)for i in x_kit[m])\n",
        "    te = clean_doc(X)\n",
        "    tokens_k.append(te)"
      ],
      "execution_count": 83,
      "outputs": []
    },
    {
      "cell_type": "code",
      "metadata": {
        "id": "r1VELP_C26gC",
        "colab_type": "code",
        "colab": {}
      },
      "source": [
        "#define the word2vec model\n",
        "w2v_model_b = Word2Vec(tokens_b,min_count=1,size=100,workers=4)\n",
        "#convert text data to vector\n",
        "x_wv_b=[]\n",
        "for i in range(len(tokens_b)): \n",
        "    vector=w2v_model_b.wv[tokens_b[i]]\n",
        "    x_wv_b.append(vector)"
      ],
      "execution_count": 84,
      "outputs": []
    },
    {
      "cell_type": "code",
      "metadata": {
        "id": "iBCBx3aHkK-c",
        "colab_type": "code",
        "colab": {}
      },
      "source": [
        "w2v_model_d = Word2Vec(tokens_d,min_count=1,size=100,workers=4)\n",
        "x_wv_d=[]\n",
        "for i in range(len(tokens_d)): \n",
        "    vector=w2v_model_d.wv[tokens_d[i]]\n",
        "    x_wv_d.append(vector)"
      ],
      "execution_count": 85,
      "outputs": []
    },
    {
      "cell_type": "code",
      "metadata": {
        "id": "AoZr8nSgkR1_",
        "colab_type": "code",
        "colab": {}
      },
      "source": [
        "w2v_model_e = Word2Vec(tokens_e,min_count=1,size=100,workers=4)\n",
        "x_wv_e=[]\n",
        "for i in range(len(tokens_e)): \n",
        "    vector=w2v_model_e.wv[tokens_e[i]]\n",
        "    x_wv_e.append(vector)"
      ],
      "execution_count": 86,
      "outputs": []
    },
    {
      "cell_type": "code",
      "metadata": {
        "id": "aeplW8yf3LKm",
        "colab_type": "code",
        "colab": {}
      },
      "source": [
        "w2v_model_k = Word2Vec(tokens_k,min_count=1,size=100,workers=4)\n",
        "x_wv_k=[]\n",
        "for i in range(len(tokens_k)): \n",
        "    vector=w2v_model_k.wv[tokens_k[i]]\n",
        "    x_wv_k.append(vector)\n"
      ],
      "execution_count": 87,
      "outputs": []
    },
    {
      "cell_type": "code",
      "metadata": {
        "id": "dedguSn18IiG",
        "colab_type": "code",
        "colab": {}
      },
      "source": [
        "X_wv_b=np.array(x_wv_b)\n",
        "X_wv_d=np.array(x_wv_d)   \n",
        "X_wv_e=np.array(x_wv_e)\n",
        "X_wv_k=np.array(x_wv_k)"
      ],
      "execution_count": 88,
      "outputs": []
    },
    {
      "cell_type": "code",
      "metadata": {
        "id": "VBrHDops2oGv",
        "colab_type": "code",
        "colab": {}
      },
      "source": [
        "# calculate the maximum sequence length\n",
        "max_words_b = len(set(\" \".join(text_books).split()))\n",
        "max_len_b = max([len(s.split()) for s in text_books])\n",
        "\n",
        "max_words_d = len(set(\" \".join(text_dvd).split()))\n",
        "max_len_d = max([len(s.split()) for s in text_dvd])\n",
        "\n",
        "max_words_e = len(set(\" \".join(text_ele).split()))\n",
        "max_len_e = max([len(s.split()) for s in text_ele])\n",
        "\n",
        "max_words_k = len(set(\" \".join(text_kit).split()))\n",
        "max_len_k = max([len(s.split()) for s in text_kit])\n",
        "\n",
        "max_words = max(max_words_b,max_words_d,max_words_e,max_words_k)\n",
        "#max_len = max(max_len_b,max_len_d,max_len_e,max_len_k)\n"
      ],
      "execution_count": 89,
      "outputs": []
    },
    {
      "cell_type": "code",
      "metadata": {
        "id": "1RwMlWZnBnPK",
        "colab_type": "code",
        "colab": {}
      },
      "source": [
        "max_len = 120"
      ],
      "execution_count": 90,
      "outputs": []
    },
    {
      "cell_type": "code",
      "metadata": {
        "id": "61jvUM-91Gxj",
        "colab_type": "code",
        "colab": {}
      },
      "source": [
        "# pad the vectors\n",
        "X_wv_b_padded=pad_sequences(X_wv_b,  maxlen=max_len, padding='post')\n",
        "X_wv_d_padded=pad_sequences(X_wv_d,  maxlen=max_len, padding='post')\n",
        "X_wv_e_padded=pad_sequences(X_wv_e,  maxlen=max_len, padding='post')\n",
        "X_wv_k_padded=pad_sequences(X_wv_k,  maxlen=max_len, padding='post')"
      ],
      "execution_count": 91,
      "outputs": []
    },
    {
      "cell_type": "code",
      "metadata": {
        "id": "5mXFTJpr2Hus",
        "colab_type": "code",
        "colab": {
          "base_uri": "https://localhost:8080/",
          "height": 51
        },
        "outputId": "94acf345-314b-4a00-9fba-861d18632295"
      },
      "source": [
        "print(X_wv_k.shape)\n",
        "print(X_wv_k_padded.shape)"
      ],
      "execution_count": 92,
      "outputs": [
        {
          "output_type": "stream",
          "text": [
            "(2000,)\n",
            "(2000, 120, 100)\n"
          ],
          "name": "stdout"
        }
      ]
    },
    {
      "cell_type": "code",
      "metadata": {
        "id": "jG-AbA5f5WsI",
        "colab_type": "code",
        "colab": {
          "base_uri": "https://localhost:8080/",
          "height": 34
        },
        "outputId": "82fb7fe7-990a-4ac8-d688-afd5c04a3a22"
      },
      "source": [
        "label_encoder = LabelEncoder()\n",
        "y_b = label_encoder.fit_transform(y_books)\n",
        "y_b = to_categorical(y_books)\n",
        "Y_b = pad_sequences(y_b,  maxlen=max_len, padding='post')\n",
        "Y_b = to_categorical(Y_b)\n",
        "Y_books = pad_sequences(Y_b,  maxlen=max_len, padding='post')\n",
        "Y_books.shape"
      ],
      "execution_count": 93,
      "outputs": [
        {
          "output_type": "execute_result",
          "data": {
            "text/plain": [
              "(2000, 120, 2)"
            ]
          },
          "metadata": {
            "tags": []
          },
          "execution_count": 93
        }
      ]
    },
    {
      "cell_type": "code",
      "metadata": {
        "id": "-DT7rW1jlpfp",
        "colab_type": "code",
        "colab": {
          "base_uri": "https://localhost:8080/",
          "height": 34
        },
        "outputId": "3dbd5e0a-107f-4c29-cf45-a54abe59f6fa"
      },
      "source": [
        "label_encoder = LabelEncoder()\n",
        "y_d = label_encoder.fit_transform(y_dvd)\n",
        "y_d = to_categorical(y_dvd)\n",
        "Y_d = pad_sequences(y_d,  maxlen=max_len, padding='post')\n",
        "Y_d = to_categorical(Y_d)\n",
        "Y_dvd = pad_sequences(Y_d,  maxlen=max_len, padding='post')\n",
        "Y_dvd.shape"
      ],
      "execution_count": 94,
      "outputs": [
        {
          "output_type": "execute_result",
          "data": {
            "text/plain": [
              "(2000, 120, 2)"
            ]
          },
          "metadata": {
            "tags": []
          },
          "execution_count": 94
        }
      ]
    },
    {
      "cell_type": "code",
      "metadata": {
        "id": "vUnRPsYI5Tmv",
        "colab_type": "code",
        "colab": {
          "base_uri": "https://localhost:8080/",
          "height": 34
        },
        "outputId": "d189ecf6-40c7-47f4-dd75-2d50442f492f"
      },
      "source": [
        "y_e = label_encoder.fit_transform(y_ele)\n",
        "y_e = to_categorical(y_ele)\n",
        "Y_e = pad_sequences(y_e,  maxlen=max_len, padding='post')\n",
        "Y_e = to_categorical(Y_e)\n",
        "Y_ele = pad_sequences(Y_e,  maxlen=max_len, padding='post')\n",
        "Y_ele.shape"
      ],
      "execution_count": 95,
      "outputs": [
        {
          "output_type": "execute_result",
          "data": {
            "text/plain": [
              "(2000, 120, 2)"
            ]
          },
          "metadata": {
            "tags": []
          },
          "execution_count": 95
        }
      ]
    },
    {
      "cell_type": "code",
      "metadata": {
        "id": "s-RZsa8SpJl6",
        "colab_type": "code",
        "colab": {
          "base_uri": "https://localhost:8080/",
          "height": 34
        },
        "outputId": "38d02855-5398-4889-aca9-8d36a721e8fa"
      },
      "source": [
        "y_k = label_encoder.fit_transform(y_kit)\n",
        "y_k = to_categorical(y_kit)\n",
        "Y_k = pad_sequences(y_k,  maxlen=max_len, padding='post')\n",
        "Y_k = to_categorical(Y_k)\n",
        "Y_kit = pad_sequences(Y_k,  maxlen=max_len, padding='post')\n",
        "Y_kit.shape"
      ],
      "execution_count": 96,
      "outputs": [
        {
          "output_type": "execute_result",
          "data": {
            "text/plain": [
              "(2000, 120, 2)"
            ]
          },
          "metadata": {
            "tags": []
          },
          "execution_count": 96
        }
      ]
    },
    {
      "cell_type": "code",
      "metadata": {
        "id": "XjMg81w15axm",
        "colab_type": "code",
        "colab": {}
      },
      "source": [
        "#split to validation and training\n",
        "X_train_b, X_valid_b = X_wv_b_padded[:1700], X_wv_b_padded[1700:]\n",
        "Y_train_b, Y_valid_b = Y_books[:1700], Y_books[1700:]"
      ],
      "execution_count": 97,
      "outputs": []
    },
    {
      "cell_type": "code",
      "metadata": {
        "id": "s3fEMOSeo5K3",
        "colab_type": "code",
        "colab": {}
      },
      "source": [
        "X_train_d, X_valid_d = X_wv_d_padded[:1700], X_wv_d_padded[1700:]\n",
        "Y_train_d, Y_valid_d = Y_dvd[:1700], Y_dvd[1700:]\n",
        "\n",
        "X_train_e, X_valid_e = X_wv_e_padded[:1700], X_wv_e_padded[1700:]\n",
        "Y_train_e, Y_valid_e = Y_ele[:1700], Y_ele[1700:]\n",
        "\n",
        "X_train_k, X_valid_k = X_wv_k_padded[:1700], X_wv_k_padded[1700:]\n",
        "Y_train_k, Y_valid_k = Y_kit[:1700], Y_kit[1700:]"
      ],
      "execution_count": 98,
      "outputs": []
    },
    {
      "cell_type": "code",
      "metadata": {
        "id": "ppoLx1AT5kYp",
        "colab_type": "code",
        "colab": {
          "base_uri": "https://localhost:8080/",
          "height": 34
        },
        "outputId": "ae4c4187-8d50-4daa-99a3-bd0045e87437"
      },
      "source": [
        "print(X_train_b.shape,Y_train_b.shape)"
      ],
      "execution_count": 99,
      "outputs": [
        {
          "output_type": "stream",
          "text": [
            "(1700, 120, 100) (1700, 120, 2)\n"
          ],
          "name": "stdout"
        }
      ]
    },
    {
      "cell_type": "code",
      "metadata": {
        "id": "cQa-xHBx5em0",
        "colab_type": "code",
        "colab": {}
      },
      "source": [
        "# define the LSTM model\n",
        "def bi_LSTM(max_len,mode):\n",
        "    model = Sequential()\n",
        "    model.add(Bidirectional(LSTM(100,return_sequences=True),merge_mode=mode))\n",
        "    model.add(TimeDistributed(Dense(2, activation='sigmoid')))\n",
        "    model.compile(loss='binary_crossentropy', optimizer='adam', metrics=['accuracy'])\n",
        "    # summarize defined model\n",
        "    model.build(input_shape=(None,120,100))\n",
        "    model.summary()\n",
        "    plot_model(model, to_file='bi_LSTM.png', show_shapes=True)\n",
        "    return model"
      ],
      "execution_count": 100,
      "outputs": []
    },
    {
      "cell_type": "code",
      "metadata": {
        "id": "NNZ97jetBa0a",
        "colab_type": "code",
        "colab": {
          "base_uri": "https://localhost:8080/",
          "height": 221
        },
        "outputId": "d76e18ad-bca7-436d-b19b-d1dba839b04e"
      },
      "source": [
        "model_bi_LSTM = bi_LSTM(max_len,'ave')"
      ],
      "execution_count": 101,
      "outputs": [
        {
          "output_type": "stream",
          "text": [
            "Model: \"sequential_7\"\n",
            "_________________________________________________________________\n",
            "Layer (type)                 Output Shape              Param #   \n",
            "=================================================================\n",
            "bidirectional_7 (Bidirection (None, 120, 100)          160800    \n",
            "_________________________________________________________________\n",
            "time_distributed_7 (TimeDist (None, 120, 2)            202       \n",
            "=================================================================\n",
            "Total params: 161,002\n",
            "Trainable params: 161,002\n",
            "Non-trainable params: 0\n",
            "_________________________________________________________________\n"
          ],
          "name": "stdout"
        }
      ]
    },
    {
      "cell_type": "code",
      "metadata": {
        "id": "VPYzzhLf5hAi",
        "colab_type": "code",
        "colab": {
          "base_uri": "https://localhost:8080/",
          "height": 1000
        },
        "outputId": "679a6953-7575-4f1e-ae9f-0e22f0725b1d"
      },
      "source": [
        "# fit network_books domain\n",
        "history1 = model_bi_LSTM.fit(X_train_b, Y_train_b, validation_data=(X_valid_b, Y_valid_b),batch_size=128,epochs=100)"
      ],
      "execution_count": 102,
      "outputs": [
        {
          "output_type": "stream",
          "text": [
            "Train on 1700 samples, validate on 300 samples\n",
            "Epoch 1/100\n",
            "1700/1700 [==============================] - 11s 7ms/step - loss: 0.3814 - accuracy: 0.9402 - val_loss: 0.0843 - val_accuracy: 0.9917\n",
            "Epoch 2/100\n",
            "1700/1700 [==============================] - 11s 6ms/step - loss: 0.0450 - accuracy: 0.9917 - val_loss: 0.0351 - val_accuracy: 0.9917\n",
            "Epoch 3/100\n",
            "1700/1700 [==============================] - 10s 6ms/step - loss: 0.0314 - accuracy: 0.9917 - val_loss: 0.0322 - val_accuracy: 0.9917\n",
            "Epoch 4/100\n",
            "1700/1700 [==============================] - 10s 6ms/step - loss: 0.0287 - accuracy: 0.9917 - val_loss: 0.0300 - val_accuracy: 0.9917\n",
            "Epoch 5/100\n",
            "1700/1700 [==============================] - 9s 5ms/step - loss: 0.0267 - accuracy: 0.9917 - val_loss: 0.0282 - val_accuracy: 0.9917\n",
            "Epoch 6/100\n",
            "1700/1700 [==============================] - 10s 6ms/step - loss: 0.0251 - accuracy: 0.9917 - val_loss: 0.0268 - val_accuracy: 0.9917\n",
            "Epoch 7/100\n",
            "1700/1700 [==============================] - 10s 6ms/step - loss: 0.0237 - accuracy: 0.9917 - val_loss: 0.0256 - val_accuracy: 0.9917\n",
            "Epoch 8/100\n",
            "1700/1700 [==============================] - 10s 6ms/step - loss: 0.0226 - accuracy: 0.9917 - val_loss: 0.0245 - val_accuracy: 0.9917\n",
            "Epoch 9/100\n",
            "1700/1700 [==============================] - 10s 6ms/step - loss: 0.0215 - accuracy: 0.9917 - val_loss: 0.0236 - val_accuracy: 0.9917\n",
            "Epoch 10/100\n",
            "1700/1700 [==============================] - 10s 6ms/step - loss: 0.0206 - accuracy: 0.9917 - val_loss: 0.0228 - val_accuracy: 0.9917\n",
            "Epoch 11/100\n",
            "1700/1700 [==============================] - 11s 6ms/step - loss: 0.0199 - accuracy: 0.9917 - val_loss: 0.0221 - val_accuracy: 0.9917\n",
            "Epoch 12/100\n",
            "1700/1700 [==============================] - 12s 7ms/step - loss: 0.0192 - accuracy: 0.9917 - val_loss: 0.0215 - val_accuracy: 0.9917\n",
            "Epoch 13/100\n",
            "1700/1700 [==============================] - 10s 6ms/step - loss: 0.0185 - accuracy: 0.9917 - val_loss: 0.0209 - val_accuracy: 0.9917\n",
            "Epoch 14/100\n",
            "1700/1700 [==============================] - 10s 6ms/step - loss: 0.0182 - accuracy: 0.9917 - val_loss: 0.0206 - val_accuracy: 0.9917\n",
            "Epoch 15/100\n",
            "1700/1700 [==============================] - 10s 6ms/step - loss: 0.0176 - accuracy: 0.9917 - val_loss: 0.0202 - val_accuracy: 0.9917\n",
            "Epoch 16/100\n",
            "1700/1700 [==============================] - 10s 6ms/step - loss: 0.0172 - accuracy: 0.9917 - val_loss: 0.0199 - val_accuracy: 0.9917\n",
            "Epoch 17/100\n",
            "1700/1700 [==============================] - 11s 6ms/step - loss: 0.0168 - accuracy: 0.9917 - val_loss: 0.0197 - val_accuracy: 0.9917\n",
            "Epoch 18/100\n",
            "1700/1700 [==============================] - 11s 6ms/step - loss: 0.0165 - accuracy: 0.9917 - val_loss: 0.0195 - val_accuracy: 0.9917\n",
            "Epoch 19/100\n",
            "1700/1700 [==============================] - 11s 6ms/step - loss: 0.0162 - accuracy: 0.9917 - val_loss: 0.0193 - val_accuracy: 0.9917\n",
            "Epoch 20/100\n",
            "1700/1700 [==============================] - 11s 6ms/step - loss: 0.0159 - accuracy: 0.9917 - val_loss: 0.0192 - val_accuracy: 0.9917\n",
            "Epoch 21/100\n",
            "1700/1700 [==============================] - 11s 6ms/step - loss: 0.0158 - accuracy: 0.9917 - val_loss: 0.0190 - val_accuracy: 0.9917\n",
            "Epoch 22/100\n",
            "1700/1700 [==============================] - 10s 6ms/step - loss: 0.0155 - accuracy: 0.9917 - val_loss: 0.0189 - val_accuracy: 0.9917\n",
            "Epoch 23/100\n",
            "1700/1700 [==============================] - 10s 6ms/step - loss: 0.0156 - accuracy: 0.9917 - val_loss: 0.0191 - val_accuracy: 0.9917\n",
            "Epoch 24/100\n",
            "1700/1700 [==============================] - 10s 6ms/step - loss: 0.0155 - accuracy: 0.9917 - val_loss: 0.0190 - val_accuracy: 0.9917\n",
            "Epoch 25/100\n",
            "1700/1700 [==============================] - 10s 6ms/step - loss: 0.0153 - accuracy: 0.9917 - val_loss: 0.0188 - val_accuracy: 0.9917\n",
            "Epoch 26/100\n",
            "1700/1700 [==============================] - 9s 6ms/step - loss: 0.0151 - accuracy: 0.9917 - val_loss: 0.0187 - val_accuracy: 0.9915\n",
            "Epoch 27/100\n",
            "1700/1700 [==============================] - 10s 6ms/step - loss: 0.0150 - accuracy: 0.9918 - val_loss: 0.0186 - val_accuracy: 0.9907\n",
            "Epoch 28/100\n",
            "1700/1700 [==============================] - 11s 6ms/step - loss: 0.0148 - accuracy: 0.9919 - val_loss: 0.0186 - val_accuracy: 0.9908\n",
            "Epoch 29/100\n",
            "1700/1700 [==============================] - 11s 6ms/step - loss: 0.0147 - accuracy: 0.9920 - val_loss: 0.0185 - val_accuracy: 0.9901\n",
            "Epoch 30/100\n",
            "1700/1700 [==============================] - 11s 6ms/step - loss: 0.0146 - accuracy: 0.9922 - val_loss: 0.0184 - val_accuracy: 0.9887\n",
            "Epoch 31/100\n",
            "1700/1700 [==============================] - 10s 6ms/step - loss: 0.0144 - accuracy: 0.9922 - val_loss: 0.0184 - val_accuracy: 0.9897\n",
            "Epoch 32/100\n",
            "1700/1700 [==============================] - 10s 6ms/step - loss: 0.0143 - accuracy: 0.9922 - val_loss: 0.0183 - val_accuracy: 0.9882\n",
            "Epoch 33/100\n",
            "1700/1700 [==============================] - 10s 6ms/step - loss: 0.0143 - accuracy: 0.9923 - val_loss: 0.0183 - val_accuracy: 0.9878\n",
            "Epoch 34/100\n",
            "1700/1700 [==============================] - 10s 6ms/step - loss: 0.0142 - accuracy: 0.9923 - val_loss: 0.0182 - val_accuracy: 0.9890\n",
            "Epoch 35/100\n",
            "1700/1700 [==============================] - 10s 6ms/step - loss: 0.0140 - accuracy: 0.9924 - val_loss: 0.0181 - val_accuracy: 0.9869\n",
            "Epoch 36/100\n",
            "1700/1700 [==============================] - 10s 6ms/step - loss: 0.0140 - accuracy: 0.9924 - val_loss: 0.0181 - val_accuracy: 0.9869\n",
            "Epoch 37/100\n",
            "1700/1700 [==============================] - 10s 6ms/step - loss: 0.0138 - accuracy: 0.9924 - val_loss: 0.0180 - val_accuracy: 0.9874\n",
            "Epoch 38/100\n",
            "1700/1700 [==============================] - 10s 6ms/step - loss: 0.0138 - accuracy: 0.9924 - val_loss: 0.0180 - val_accuracy: 0.9865\n",
            "Epoch 39/100\n",
            "1700/1700 [==============================] - 9s 6ms/step - loss: 0.0139 - accuracy: 0.9925 - val_loss: 0.0182 - val_accuracy: 0.9883\n",
            "Epoch 40/100\n",
            "1700/1700 [==============================] - 10s 6ms/step - loss: 0.0140 - accuracy: 0.9923 - val_loss: 0.0180 - val_accuracy: 0.9885\n",
            "Epoch 41/100\n",
            "1700/1700 [==============================] - 10s 6ms/step - loss: 0.0138 - accuracy: 0.9923 - val_loss: 0.0178 - val_accuracy: 0.9890\n",
            "Epoch 42/100\n",
            "1700/1700 [==============================] - 11s 6ms/step - loss: 0.0137 - accuracy: 0.9922 - val_loss: 0.0177 - val_accuracy: 0.9893\n",
            "Epoch 43/100\n",
            "1700/1700 [==============================] - 10s 6ms/step - loss: 0.0136 - accuracy: 0.9923 - val_loss: 0.0175 - val_accuracy: 0.9882\n",
            "Epoch 44/100\n",
            "1700/1700 [==============================] - 9s 6ms/step - loss: 0.0134 - accuracy: 0.9925 - val_loss: 0.0175 - val_accuracy: 0.9870\n",
            "Epoch 45/100\n",
            "1700/1700 [==============================] - 10s 6ms/step - loss: 0.0133 - accuracy: 0.9926 - val_loss: 0.0174 - val_accuracy: 0.9876\n",
            "Epoch 46/100\n",
            "1700/1700 [==============================] - 10s 6ms/step - loss: 0.0132 - accuracy: 0.9925 - val_loss: 0.0173 - val_accuracy: 0.9868\n",
            "Epoch 47/100\n",
            "1700/1700 [==============================] - 10s 6ms/step - loss: 0.0131 - accuracy: 0.9925 - val_loss: 0.0173 - val_accuracy: 0.9867\n",
            "Epoch 48/100\n",
            "1700/1700 [==============================] - 10s 6ms/step - loss: 0.0130 - accuracy: 0.9926 - val_loss: 0.0174 - val_accuracy: 0.9858\n",
            "Epoch 49/100\n",
            "1700/1700 [==============================] - 10s 6ms/step - loss: 0.0130 - accuracy: 0.9928 - val_loss: 0.0174 - val_accuracy: 0.9858\n",
            "Epoch 50/100\n",
            "1700/1700 [==============================] - 10s 6ms/step - loss: 0.0130 - accuracy: 0.9928 - val_loss: 0.0173 - val_accuracy: 0.9872\n",
            "Epoch 51/100\n",
            "1700/1700 [==============================] - 10s 6ms/step - loss: 0.0129 - accuracy: 0.9927 - val_loss: 0.0171 - val_accuracy: 0.9863\n",
            "Epoch 52/100\n",
            "1700/1700 [==============================] - 10s 6ms/step - loss: 0.0128 - accuracy: 0.9926 - val_loss: 0.0171 - val_accuracy: 0.9853\n",
            "Epoch 53/100\n",
            "1700/1700 [==============================] - 11s 6ms/step - loss: 0.0127 - accuracy: 0.9927 - val_loss: 0.0171 - val_accuracy: 0.9867\n",
            "Epoch 54/100\n",
            "1700/1700 [==============================] - 11s 6ms/step - loss: 0.0126 - accuracy: 0.9927 - val_loss: 0.0170 - val_accuracy: 0.9848\n",
            "Epoch 55/100\n",
            "1700/1700 [==============================] - 10s 6ms/step - loss: 0.0126 - accuracy: 0.9928 - val_loss: 0.0172 - val_accuracy: 0.9854\n",
            "Epoch 56/100\n",
            "1700/1700 [==============================] - 10s 6ms/step - loss: 0.0127 - accuracy: 0.9928 - val_loss: 0.0171 - val_accuracy: 0.9868\n",
            "Epoch 57/100\n",
            "1700/1700 [==============================] - 10s 6ms/step - loss: 0.0125 - accuracy: 0.9928 - val_loss: 0.0167 - val_accuracy: 0.9845\n",
            "Epoch 58/100\n",
            "1700/1700 [==============================] - 11s 6ms/step - loss: 0.0124 - accuracy: 0.9928 - val_loss: 0.0168 - val_accuracy: 0.9862\n",
            "Epoch 59/100\n",
            "1700/1700 [==============================] - 10s 6ms/step - loss: 0.0123 - accuracy: 0.9928 - val_loss: 0.0169 - val_accuracy: 0.9842\n",
            "Epoch 60/100\n",
            "1700/1700 [==============================] - 14s 8ms/step - loss: 0.0123 - accuracy: 0.9929 - val_loss: 0.0168 - val_accuracy: 0.9855\n",
            "Epoch 61/100\n",
            "1700/1700 [==============================] - 9s 6ms/step - loss: 0.0124 - accuracy: 0.9929 - val_loss: 0.0171 - val_accuracy: 0.9847\n",
            "Epoch 62/100\n",
            "1700/1700 [==============================] - 9s 6ms/step - loss: 0.0124 - accuracy: 0.9930 - val_loss: 0.0171 - val_accuracy: 0.9843\n",
            "Epoch 63/100\n",
            "1700/1700 [==============================] - 9s 6ms/step - loss: 0.0123 - accuracy: 0.9930 - val_loss: 0.0165 - val_accuracy: 0.9843\n",
            "Epoch 64/100\n",
            "1700/1700 [==============================] - 9s 6ms/step - loss: 0.0122 - accuracy: 0.9930 - val_loss: 0.0165 - val_accuracy: 0.9842\n",
            "Epoch 65/100\n",
            "1700/1700 [==============================] - 9s 6ms/step - loss: 0.0121 - accuracy: 0.9931 - val_loss: 0.0167 - val_accuracy: 0.9837\n",
            "Epoch 66/100\n",
            "1700/1700 [==============================] - 10s 6ms/step - loss: 0.0120 - accuracy: 0.9931 - val_loss: 0.0165 - val_accuracy: 0.9840\n",
            "Epoch 67/100\n",
            "1700/1700 [==============================] - 9s 6ms/step - loss: 0.0119 - accuracy: 0.9931 - val_loss: 0.0166 - val_accuracy: 0.9836\n",
            "Epoch 68/100\n",
            "1700/1700 [==============================] - 9s 6ms/step - loss: 0.0119 - accuracy: 0.9930 - val_loss: 0.0165 - val_accuracy: 0.9837\n",
            "Epoch 69/100\n",
            "1700/1700 [==============================] - 9s 6ms/step - loss: 0.0119 - accuracy: 0.9931 - val_loss: 0.0167 - val_accuracy: 0.9836\n",
            "Epoch 70/100\n",
            "1700/1700 [==============================] - 9s 5ms/step - loss: 0.0118 - accuracy: 0.9931 - val_loss: 0.0166 - val_accuracy: 0.9838\n",
            "Epoch 71/100\n",
            "1700/1700 [==============================] - 9s 5ms/step - loss: 0.0118 - accuracy: 0.9930 - val_loss: 0.0165 - val_accuracy: 0.9836\n",
            "Epoch 72/100\n",
            "1700/1700 [==============================] - 9s 6ms/step - loss: 0.0118 - accuracy: 0.9931 - val_loss: 0.0166 - val_accuracy: 0.9837\n",
            "Epoch 73/100\n",
            "1700/1700 [==============================] - 10s 6ms/step - loss: 0.0117 - accuracy: 0.9931 - val_loss: 0.0166 - val_accuracy: 0.9842\n",
            "Epoch 74/100\n",
            "1700/1700 [==============================] - 10s 6ms/step - loss: 0.0117 - accuracy: 0.9931 - val_loss: 0.0167 - val_accuracy: 0.9836\n",
            "Epoch 75/100\n",
            "1700/1700 [==============================] - 9s 5ms/step - loss: 0.0117 - accuracy: 0.9931 - val_loss: 0.0165 - val_accuracy: 0.9837\n",
            "Epoch 76/100\n",
            "1700/1700 [==============================] - 9s 6ms/step - loss: 0.0117 - accuracy: 0.9931 - val_loss: 0.0167 - val_accuracy: 0.9837\n",
            "Epoch 77/100\n",
            "1700/1700 [==============================] - 9s 5ms/step - loss: 0.0118 - accuracy: 0.9931 - val_loss: 0.0169 - val_accuracy: 0.9836\n",
            "Epoch 78/100\n",
            "1700/1700 [==============================] - 9s 5ms/step - loss: 0.0118 - accuracy: 0.9932 - val_loss: 0.0164 - val_accuracy: 0.9836\n",
            "Epoch 79/100\n",
            "1700/1700 [==============================] - 9s 5ms/step - loss: 0.0117 - accuracy: 0.9932 - val_loss: 0.0166 - val_accuracy: 0.9836\n",
            "Epoch 80/100\n",
            "1700/1700 [==============================] - 9s 5ms/step - loss: 0.0117 - accuracy: 0.9931 - val_loss: 0.0165 - val_accuracy: 0.9836\n",
            "Epoch 81/100\n",
            "1700/1700 [==============================] - 9s 5ms/step - loss: 0.0117 - accuracy: 0.9931 - val_loss: 0.0164 - val_accuracy: 0.9836\n",
            "Epoch 82/100\n",
            "1700/1700 [==============================] - 9s 5ms/step - loss: 0.0116 - accuracy: 0.9932 - val_loss: 0.0164 - val_accuracy: 0.9836\n",
            "Epoch 83/100\n",
            "1700/1700 [==============================] - 9s 5ms/step - loss: 0.0116 - accuracy: 0.9931 - val_loss: 0.0165 - val_accuracy: 0.9836\n",
            "Epoch 84/100\n",
            "1700/1700 [==============================] - 9s 5ms/step - loss: 0.0115 - accuracy: 0.9932 - val_loss: 0.0165 - val_accuracy: 0.9835\n",
            "Epoch 85/100\n",
            "1700/1700 [==============================] - 9s 6ms/step - loss: 0.0115 - accuracy: 0.9931 - val_loss: 0.0167 - val_accuracy: 0.9835\n",
            "Epoch 86/100\n",
            "1700/1700 [==============================] - 9s 6ms/step - loss: 0.0115 - accuracy: 0.9931 - val_loss: 0.0166 - val_accuracy: 0.9835\n",
            "Epoch 87/100\n",
            "1700/1700 [==============================] - 9s 6ms/step - loss: 0.0115 - accuracy: 0.9931 - val_loss: 0.0166 - val_accuracy: 0.9836\n",
            "Epoch 88/100\n",
            "1700/1700 [==============================] - 10s 6ms/step - loss: 0.0115 - accuracy: 0.9932 - val_loss: 0.0165 - val_accuracy: 0.9836\n",
            "Epoch 89/100\n",
            "1700/1700 [==============================] - 10s 6ms/step - loss: 0.0115 - accuracy: 0.9932 - val_loss: 0.0168 - val_accuracy: 0.9836\n",
            "Epoch 90/100\n",
            "1700/1700 [==============================] - 9s 5ms/step - loss: 0.0115 - accuracy: 0.9932 - val_loss: 0.0165 - val_accuracy: 0.9836\n",
            "Epoch 91/100\n",
            "1700/1700 [==============================] - 9s 5ms/step - loss: 0.0115 - accuracy: 0.9932 - val_loss: 0.0167 - val_accuracy: 0.9835\n",
            "Epoch 92/100\n",
            "1700/1700 [==============================] - 9s 6ms/step - loss: 0.0114 - accuracy: 0.9932 - val_loss: 0.0166 - val_accuracy: 0.9836\n",
            "Epoch 93/100\n",
            "1700/1700 [==============================] - 9s 6ms/step - loss: 0.0114 - accuracy: 0.9932 - val_loss: 0.0166 - val_accuracy: 0.9836\n",
            "Epoch 94/100\n",
            "1700/1700 [==============================] - 9s 6ms/step - loss: 0.0114 - accuracy: 0.9932 - val_loss: 0.0166 - val_accuracy: 0.9836\n",
            "Epoch 95/100\n",
            "1700/1700 [==============================] - 9s 6ms/step - loss: 0.0114 - accuracy: 0.9932 - val_loss: 0.0168 - val_accuracy: 0.9836\n",
            "Epoch 96/100\n",
            "1700/1700 [==============================] - 9s 5ms/step - loss: 0.0115 - accuracy: 0.9932 - val_loss: 0.0165 - val_accuracy: 0.9836\n",
            "Epoch 97/100\n",
            "1700/1700 [==============================] - 9s 5ms/step - loss: 0.0114 - accuracy: 0.9932 - val_loss: 0.0164 - val_accuracy: 0.9836\n",
            "Epoch 98/100\n",
            "1700/1700 [==============================] - 9s 6ms/step - loss: 0.0114 - accuracy: 0.9932 - val_loss: 0.0165 - val_accuracy: 0.9837\n",
            "Epoch 99/100\n",
            "1700/1700 [==============================] - 9s 6ms/step - loss: 0.0114 - accuracy: 0.9932 - val_loss: 0.0167 - val_accuracy: 0.9836\n",
            "Epoch 100/100\n",
            "1700/1700 [==============================] - 9s 6ms/step - loss: 0.0114 - accuracy: 0.9932 - val_loss: 0.0167 - val_accuracy: 0.9836\n"
          ],
          "name": "stdout"
        }
      ]
    },
    {
      "cell_type": "code",
      "metadata": {
        "id": "ONPvIwVAsrpx",
        "colab_type": "code",
        "colab": {
          "base_uri": "https://localhost:8080/",
          "height": 1000
        },
        "outputId": "b0b19e4f-2655-47eb-f3af-581efe37c84c"
      },
      "source": [
        "# fit network_dvd domain\n",
        "history2 = model_bi_LSTM.fit(X_train_d, Y_train_d, validation_data=(X_valid_d, Y_valid_d),batch_size=128,epochs=100)"
      ],
      "execution_count": 103,
      "outputs": [
        {
          "output_type": "stream",
          "text": [
            "Train on 1700 samples, validate on 300 samples\n",
            "Epoch 1/100\n",
            "1700/1700 [==============================] - 9s 6ms/step - loss: 0.0136 - accuracy: 0.9906 - val_loss: 0.0085 - val_accuracy: 0.9998\n",
            "Epoch 2/100\n",
            "1700/1700 [==============================] - 9s 6ms/step - loss: 0.0130 - accuracy: 0.9904 - val_loss: 0.0098 - val_accuracy: 0.9977\n",
            "Epoch 3/100\n",
            "1700/1700 [==============================] - 9s 5ms/step - loss: 0.0128 - accuracy: 0.9908 - val_loss: 0.0098 - val_accuracy: 0.9988\n",
            "Epoch 4/100\n",
            "1700/1700 [==============================] - 9s 6ms/step - loss: 0.0128 - accuracy: 0.9907 - val_loss: 0.0098 - val_accuracy: 0.9988\n",
            "Epoch 5/100\n",
            "1700/1700 [==============================] - 9s 6ms/step - loss: 0.0127 - accuracy: 0.9907 - val_loss: 0.0097 - val_accuracy: 0.9988\n",
            "Epoch 6/100\n",
            "1700/1700 [==============================] - 10s 6ms/step - loss: 0.0127 - accuracy: 0.9907 - val_loss: 0.0098 - val_accuracy: 0.9988\n",
            "Epoch 7/100\n",
            "1700/1700 [==============================] - 10s 6ms/step - loss: 0.0126 - accuracy: 0.9908 - val_loss: 0.0102 - val_accuracy: 0.9984\n",
            "Epoch 8/100\n",
            "1700/1700 [==============================] - 9s 6ms/step - loss: 0.0126 - accuracy: 0.9908 - val_loss: 0.0101 - val_accuracy: 0.9985\n",
            "Epoch 9/100\n",
            "1700/1700 [==============================] - 9s 5ms/step - loss: 0.0126 - accuracy: 0.9908 - val_loss: 0.0099 - val_accuracy: 0.9981\n",
            "Epoch 10/100\n",
            "1700/1700 [==============================] - 9s 5ms/step - loss: 0.0125 - accuracy: 0.9910 - val_loss: 0.0101 - val_accuracy: 0.9978\n",
            "Epoch 11/100\n",
            "1700/1700 [==============================] - 9s 5ms/step - loss: 0.0125 - accuracy: 0.9910 - val_loss: 0.0103 - val_accuracy: 0.9977\n",
            "Epoch 12/100\n",
            "1700/1700 [==============================] - 9s 6ms/step - loss: 0.0125 - accuracy: 0.9912 - val_loss: 0.0102 - val_accuracy: 0.9965\n",
            "Epoch 13/100\n",
            "1700/1700 [==============================] - 9s 6ms/step - loss: 0.0124 - accuracy: 0.9911 - val_loss: 0.0103 - val_accuracy: 0.9973\n",
            "Epoch 14/100\n",
            "1700/1700 [==============================] - 9s 6ms/step - loss: 0.0124 - accuracy: 0.9913 - val_loss: 0.0103 - val_accuracy: 0.9963\n",
            "Epoch 15/100\n",
            "1700/1700 [==============================] - 9s 6ms/step - loss: 0.0124 - accuracy: 0.9913 - val_loss: 0.0103 - val_accuracy: 0.9963\n",
            "Epoch 16/100\n",
            "1700/1700 [==============================] - 9s 6ms/step - loss: 0.0124 - accuracy: 0.9913 - val_loss: 0.0105 - val_accuracy: 0.9961\n",
            "Epoch 17/100\n",
            "1700/1700 [==============================] - 9s 6ms/step - loss: 0.0123 - accuracy: 0.9914 - val_loss: 0.0104 - val_accuracy: 0.9962\n",
            "Epoch 18/100\n",
            "1700/1700 [==============================] - 9s 6ms/step - loss: 0.0123 - accuracy: 0.9914 - val_loss: 0.0105 - val_accuracy: 0.9956\n",
            "Epoch 19/100\n",
            "1700/1700 [==============================] - 9s 6ms/step - loss: 0.0123 - accuracy: 0.9915 - val_loss: 0.0106 - val_accuracy: 0.9956\n",
            "Epoch 20/100\n",
            "1700/1700 [==============================] - 9s 6ms/step - loss: 0.0123 - accuracy: 0.9915 - val_loss: 0.0107 - val_accuracy: 0.9956\n",
            "Epoch 21/100\n",
            "1700/1700 [==============================] - 10s 6ms/step - loss: 0.0122 - accuracy: 0.9916 - val_loss: 0.0107 - val_accuracy: 0.9955\n",
            "Epoch 22/100\n",
            "1700/1700 [==============================] - 9s 6ms/step - loss: 0.0122 - accuracy: 0.9916 - val_loss: 0.0107 - val_accuracy: 0.9955\n",
            "Epoch 23/100\n",
            "1700/1700 [==============================] - 9s 6ms/step - loss: 0.0122 - accuracy: 0.9917 - val_loss: 0.0107 - val_accuracy: 0.9952\n",
            "Epoch 24/100\n",
            "1700/1700 [==============================] - 13s 8ms/step - loss: 0.0122 - accuracy: 0.9917 - val_loss: 0.0109 - val_accuracy: 0.9951\n",
            "Epoch 25/100\n",
            "1700/1700 [==============================] - 10s 6ms/step - loss: 0.0121 - accuracy: 0.9918 - val_loss: 0.0108 - val_accuracy: 0.9951\n",
            "Epoch 26/100\n",
            "1700/1700 [==============================] - 9s 6ms/step - loss: 0.0121 - accuracy: 0.9918 - val_loss: 0.0107 - val_accuracy: 0.9954\n",
            "Epoch 27/100\n",
            "1700/1700 [==============================] - 10s 6ms/step - loss: 0.0121 - accuracy: 0.9919 - val_loss: 0.0108 - val_accuracy: 0.9941\n",
            "Epoch 28/100\n",
            "1700/1700 [==============================] - 9s 5ms/step - loss: 0.0121 - accuracy: 0.9918 - val_loss: 0.0108 - val_accuracy: 0.9951\n",
            "Epoch 29/100\n",
            "1700/1700 [==============================] - 9s 6ms/step - loss: 0.0121 - accuracy: 0.9918 - val_loss: 0.0110 - val_accuracy: 0.9948\n",
            "Epoch 30/100\n",
            "1700/1700 [==============================] - 9s 6ms/step - loss: 0.0120 - accuracy: 0.9918 - val_loss: 0.0111 - val_accuracy: 0.9943\n",
            "Epoch 31/100\n",
            "1700/1700 [==============================] - 9s 5ms/step - loss: 0.0120 - accuracy: 0.9920 - val_loss: 0.0109 - val_accuracy: 0.9948\n",
            "Epoch 32/100\n",
            "1700/1700 [==============================] - 9s 5ms/step - loss: 0.0120 - accuracy: 0.9918 - val_loss: 0.0110 - val_accuracy: 0.9944\n",
            "Epoch 33/100\n",
            "1700/1700 [==============================] - 9s 5ms/step - loss: 0.0120 - accuracy: 0.9922 - val_loss: 0.0110 - val_accuracy: 0.9945\n",
            "Epoch 34/100\n",
            "1700/1700 [==============================] - 9s 6ms/step - loss: 0.0120 - accuracy: 0.9918 - val_loss: 0.0111 - val_accuracy: 0.9936\n",
            "Epoch 35/100\n",
            "1700/1700 [==============================] - 9s 6ms/step - loss: 0.0119 - accuracy: 0.9920 - val_loss: 0.0111 - val_accuracy: 0.9942\n",
            "Epoch 36/100\n",
            "1700/1700 [==============================] - 10s 6ms/step - loss: 0.0119 - accuracy: 0.9922 - val_loss: 0.0110 - val_accuracy: 0.9937\n",
            "Epoch 37/100\n",
            "1700/1700 [==============================] - 10s 6ms/step - loss: 0.0119 - accuracy: 0.9920 - val_loss: 0.0111 - val_accuracy: 0.9934\n",
            "Epoch 38/100\n",
            "1700/1700 [==============================] - 11s 6ms/step - loss: 0.0119 - accuracy: 0.9922 - val_loss: 0.0111 - val_accuracy: 0.9938\n",
            "Epoch 39/100\n",
            "1700/1700 [==============================] - 11s 6ms/step - loss: 0.0119 - accuracy: 0.9921 - val_loss: 0.0112 - val_accuracy: 0.9937\n",
            "Epoch 40/100\n",
            "1700/1700 [==============================] - 10s 6ms/step - loss: 0.0119 - accuracy: 0.9921 - val_loss: 0.0113 - val_accuracy: 0.9929\n",
            "Epoch 41/100\n",
            "1700/1700 [==============================] - 10s 6ms/step - loss: 0.0118 - accuracy: 0.9921 - val_loss: 0.0113 - val_accuracy: 0.9933\n",
            "Epoch 42/100\n",
            "1700/1700 [==============================] - 10s 6ms/step - loss: 0.0118 - accuracy: 0.9921 - val_loss: 0.0116 - val_accuracy: 0.9929\n",
            "Epoch 43/100\n",
            "1700/1700 [==============================] - 9s 6ms/step - loss: 0.0118 - accuracy: 0.9924 - val_loss: 0.0116 - val_accuracy: 0.9927\n",
            "Epoch 44/100\n",
            "1700/1700 [==============================] - 9s 6ms/step - loss: 0.0118 - accuracy: 0.9923 - val_loss: 0.0115 - val_accuracy: 0.9928\n",
            "Epoch 45/100\n",
            "1700/1700 [==============================] - 9s 6ms/step - loss: 0.0118 - accuracy: 0.9924 - val_loss: 0.0113 - val_accuracy: 0.9930\n",
            "Epoch 46/100\n",
            "1700/1700 [==============================] - 9s 5ms/step - loss: 0.0118 - accuracy: 0.9923 - val_loss: 0.0116 - val_accuracy: 0.9923\n",
            "Epoch 47/100\n",
            "1700/1700 [==============================] - 9s 6ms/step - loss: 0.0117 - accuracy: 0.9924 - val_loss: 0.0116 - val_accuracy: 0.9926\n",
            "Epoch 48/100\n",
            "1700/1700 [==============================] - 9s 6ms/step - loss: 0.0117 - accuracy: 0.9925 - val_loss: 0.0116 - val_accuracy: 0.9919\n",
            "Epoch 49/100\n",
            "1700/1700 [==============================] - 10s 6ms/step - loss: 0.0117 - accuracy: 0.9925 - val_loss: 0.0117 - val_accuracy: 0.9924\n",
            "Epoch 50/100\n",
            "1700/1700 [==============================] - 9s 5ms/step - loss: 0.0117 - accuracy: 0.9925 - val_loss: 0.0116 - val_accuracy: 0.9920\n",
            "Epoch 51/100\n",
            "1700/1700 [==============================] - 9s 6ms/step - loss: 0.0116 - accuracy: 0.9926 - val_loss: 0.0118 - val_accuracy: 0.9920\n",
            "Epoch 52/100\n",
            "1700/1700 [==============================] - 9s 6ms/step - loss: 0.0116 - accuracy: 0.9927 - val_loss: 0.0119 - val_accuracy: 0.9918\n",
            "Epoch 53/100\n",
            "1700/1700 [==============================] - 9s 5ms/step - loss: 0.0116 - accuracy: 0.9926 - val_loss: 0.0116 - val_accuracy: 0.9926\n",
            "Epoch 54/100\n",
            "1700/1700 [==============================] - 9s 5ms/step - loss: 0.0116 - accuracy: 0.9926 - val_loss: 0.0119 - val_accuracy: 0.9919\n",
            "Epoch 55/100\n",
            "1700/1700 [==============================] - 9s 5ms/step - loss: 0.0116 - accuracy: 0.9928 - val_loss: 0.0119 - val_accuracy: 0.9919\n",
            "Epoch 56/100\n",
            "1700/1700 [==============================] - 9s 5ms/step - loss: 0.0115 - accuracy: 0.9927 - val_loss: 0.0118 - val_accuracy: 0.9920\n",
            "Epoch 57/100\n",
            "1700/1700 [==============================] - 9s 5ms/step - loss: 0.0115 - accuracy: 0.9927 - val_loss: 0.0121 - val_accuracy: 0.9917\n",
            "Epoch 58/100\n",
            "1700/1700 [==============================] - 10s 6ms/step - loss: 0.0115 - accuracy: 0.9928 - val_loss: 0.0120 - val_accuracy: 0.9918\n",
            "Epoch 59/100\n",
            "1700/1700 [==============================] - 9s 6ms/step - loss: 0.0115 - accuracy: 0.9928 - val_loss: 0.0122 - val_accuracy: 0.9917\n",
            "Epoch 60/100\n",
            "1700/1700 [==============================] - 9s 6ms/step - loss: 0.0114 - accuracy: 0.9930 - val_loss: 0.0121 - val_accuracy: 0.9915\n",
            "Epoch 61/100\n",
            "1700/1700 [==============================] - 9s 5ms/step - loss: 0.0114 - accuracy: 0.9930 - val_loss: 0.0121 - val_accuracy: 0.9918\n",
            "Epoch 62/100\n",
            "1700/1700 [==============================] - 9s 5ms/step - loss: 0.0114 - accuracy: 0.9929 - val_loss: 0.0123 - val_accuracy: 0.9911\n",
            "Epoch 63/100\n",
            "1700/1700 [==============================] - 9s 5ms/step - loss: 0.0114 - accuracy: 0.9929 - val_loss: 0.0121 - val_accuracy: 0.9922\n",
            "Epoch 64/100\n",
            "1700/1700 [==============================] - 9s 5ms/step - loss: 0.0114 - accuracy: 0.9929 - val_loss: 0.0122 - val_accuracy: 0.9916\n",
            "Epoch 65/100\n",
            "1700/1700 [==============================] - 9s 5ms/step - loss: 0.0113 - accuracy: 0.9929 - val_loss: 0.0122 - val_accuracy: 0.9917\n",
            "Epoch 66/100\n",
            "1700/1700 [==============================] - 9s 5ms/step - loss: 0.0113 - accuracy: 0.9931 - val_loss: 0.0122 - val_accuracy: 0.9919\n",
            "Epoch 67/100\n",
            "1700/1700 [==============================] - 9s 5ms/step - loss: 0.0112 - accuracy: 0.9931 - val_loss: 0.0125 - val_accuracy: 0.9914\n",
            "Epoch 68/100\n",
            "1700/1700 [==============================] - 9s 5ms/step - loss: 0.0112 - accuracy: 0.9932 - val_loss: 0.0122 - val_accuracy: 0.9920\n",
            "Epoch 69/100\n",
            "1700/1700 [==============================] - 9s 5ms/step - loss: 0.0112 - accuracy: 0.9933 - val_loss: 0.0125 - val_accuracy: 0.9915\n",
            "Epoch 70/100\n",
            "1700/1700 [==============================] - 9s 5ms/step - loss: 0.0111 - accuracy: 0.9933 - val_loss: 0.0125 - val_accuracy: 0.9915\n",
            "Epoch 71/100\n",
            "1700/1700 [==============================] - 9s 5ms/step - loss: 0.0111 - accuracy: 0.9934 - val_loss: 0.0127 - val_accuracy: 0.9913\n",
            "Epoch 72/100\n",
            "1700/1700 [==============================] - 9s 5ms/step - loss: 0.0110 - accuracy: 0.9935 - val_loss: 0.0125 - val_accuracy: 0.9916\n",
            "Epoch 73/100\n",
            "1700/1700 [==============================] - 9s 5ms/step - loss: 0.0111 - accuracy: 0.9932 - val_loss: 0.0127 - val_accuracy: 0.9912\n",
            "Epoch 74/100\n",
            "1700/1700 [==============================] - 9s 5ms/step - loss: 0.0110 - accuracy: 0.9935 - val_loss: 0.0126 - val_accuracy: 0.9914\n",
            "Epoch 75/100\n",
            "1700/1700 [==============================] - 9s 5ms/step - loss: 0.0110 - accuracy: 0.9935 - val_loss: 0.0126 - val_accuracy: 0.9915\n",
            "Epoch 76/100\n",
            "1700/1700 [==============================] - 9s 5ms/step - loss: 0.0109 - accuracy: 0.9935 - val_loss: 0.0132 - val_accuracy: 0.9908\n",
            "Epoch 77/100\n",
            "1700/1700 [==============================] - 9s 5ms/step - loss: 0.0109 - accuracy: 0.9935 - val_loss: 0.0128 - val_accuracy: 0.9915\n",
            "Epoch 78/100\n",
            "1700/1700 [==============================] - 9s 5ms/step - loss: 0.0109 - accuracy: 0.9936 - val_loss: 0.0128 - val_accuracy: 0.9913\n",
            "Epoch 79/100\n",
            "1700/1700 [==============================] - 9s 5ms/step - loss: 0.0108 - accuracy: 0.9937 - val_loss: 0.0134 - val_accuracy: 0.9907\n",
            "Epoch 80/100\n",
            "1700/1700 [==============================] - 9s 5ms/step - loss: 0.0109 - accuracy: 0.9936 - val_loss: 0.0133 - val_accuracy: 0.9911\n",
            "Epoch 81/100\n",
            "1700/1700 [==============================] - 9s 5ms/step - loss: 0.0107 - accuracy: 0.9939 - val_loss: 0.0133 - val_accuracy: 0.9911\n",
            "Epoch 82/100\n",
            "1700/1700 [==============================] - 9s 5ms/step - loss: 0.0107 - accuracy: 0.9939 - val_loss: 0.0135 - val_accuracy: 0.9909\n",
            "Epoch 83/100\n",
            "1700/1700 [==============================] - 10s 6ms/step - loss: 0.0107 - accuracy: 0.9939 - val_loss: 0.0135 - val_accuracy: 0.9907\n",
            "Epoch 84/100\n",
            "1700/1700 [==============================] - 10s 6ms/step - loss: 0.0106 - accuracy: 0.9941 - val_loss: 0.0138 - val_accuracy: 0.9906\n",
            "Epoch 85/100\n",
            "1700/1700 [==============================] - 10s 6ms/step - loss: 0.0105 - accuracy: 0.9940 - val_loss: 0.0134 - val_accuracy: 0.9908\n",
            "Epoch 86/100\n",
            "1700/1700 [==============================] - 9s 5ms/step - loss: 0.0106 - accuracy: 0.9940 - val_loss: 0.0136 - val_accuracy: 0.9910\n",
            "Epoch 87/100\n",
            "1700/1700 [==============================] - 9s 6ms/step - loss: 0.0105 - accuracy: 0.9940 - val_loss: 0.0133 - val_accuracy: 0.9912\n",
            "Epoch 88/100\n",
            "1700/1700 [==============================] - 10s 6ms/step - loss: 0.0105 - accuracy: 0.9941 - val_loss: 0.0143 - val_accuracy: 0.9905\n",
            "Epoch 89/100\n",
            "1700/1700 [==============================] - 13s 8ms/step - loss: 0.0104 - accuracy: 0.9941 - val_loss: 0.0140 - val_accuracy: 0.9905\n",
            "Epoch 90/100\n",
            "1700/1700 [==============================] - 9s 6ms/step - loss: 0.0105 - accuracy: 0.9941 - val_loss: 0.0135 - val_accuracy: 0.9909\n",
            "Epoch 91/100\n",
            "1700/1700 [==============================] - 9s 5ms/step - loss: 0.0104 - accuracy: 0.9941 - val_loss: 0.0144 - val_accuracy: 0.9904\n",
            "Epoch 92/100\n",
            "1700/1700 [==============================] - 10s 6ms/step - loss: 0.0103 - accuracy: 0.9943 - val_loss: 0.0139 - val_accuracy: 0.9910\n",
            "Epoch 93/100\n",
            "1700/1700 [==============================] - 10s 6ms/step - loss: 0.0104 - accuracy: 0.9943 - val_loss: 0.0141 - val_accuracy: 0.9909\n",
            "Epoch 94/100\n",
            "1700/1700 [==============================] - 9s 5ms/step - loss: 0.0102 - accuracy: 0.9945 - val_loss: 0.0139 - val_accuracy: 0.9908\n",
            "Epoch 95/100\n",
            "1700/1700 [==============================] - 9s 5ms/step - loss: 0.0102 - accuracy: 0.9945 - val_loss: 0.0140 - val_accuracy: 0.9911\n",
            "Epoch 96/100\n",
            "1700/1700 [==============================] - 9s 5ms/step - loss: 0.0102 - accuracy: 0.9944 - val_loss: 0.0143 - val_accuracy: 0.9908\n",
            "Epoch 97/100\n",
            "1700/1700 [==============================] - 9s 5ms/step - loss: 0.0102 - accuracy: 0.9944 - val_loss: 0.0143 - val_accuracy: 0.9903\n",
            "Epoch 98/100\n",
            "1700/1700 [==============================] - 10s 6ms/step - loss: 0.0101 - accuracy: 0.9945 - val_loss: 0.0149 - val_accuracy: 0.9906\n",
            "Epoch 99/100\n",
            "1700/1700 [==============================] - 10s 6ms/step - loss: 0.0101 - accuracy: 0.9946 - val_loss: 0.0146 - val_accuracy: 0.9903\n",
            "Epoch 100/100\n",
            "1700/1700 [==============================] - 10s 6ms/step - loss: 0.0100 - accuracy: 0.9947 - val_loss: 0.0149 - val_accuracy: 0.9906\n"
          ],
          "name": "stdout"
        }
      ]
    },
    {
      "cell_type": "code",
      "metadata": {
        "id": "bNwQ-G_QtKDg",
        "colab_type": "code",
        "colab": {
          "base_uri": "https://localhost:8080/",
          "height": 1000
        },
        "outputId": "105dc1b1-6417-40f4-e18a-7216e41793ab"
      },
      "source": [
        "# fit network_eletronics domain\n",
        "history3 = model_bi_LSTM.fit(X_train_e, Y_train_e, validation_data=(X_valid_e, Y_valid_e),batch_size=128,epochs=100)"
      ],
      "execution_count": 104,
      "outputs": [
        {
          "output_type": "stream",
          "text": [
            "Train on 1700 samples, validate on 300 samples\n",
            "Epoch 1/100\n",
            "1700/1700 [==============================] - 10s 6ms/step - loss: 0.0120 - accuracy: 0.9919 - val_loss: 0.0142 - val_accuracy: 0.9862\n",
            "Epoch 2/100\n",
            "1700/1700 [==============================] - 10s 6ms/step - loss: 0.0116 - accuracy: 0.9927 - val_loss: 0.0143 - val_accuracy: 0.9847\n",
            "Epoch 3/100\n",
            "1700/1700 [==============================] - 10s 6ms/step - loss: 0.0114 - accuracy: 0.9929 - val_loss: 0.0141 - val_accuracy: 0.9842\n",
            "Epoch 4/100\n",
            "1700/1700 [==============================] - 10s 6ms/step - loss: 0.0114 - accuracy: 0.9931 - val_loss: 0.0141 - val_accuracy: 0.9847\n",
            "Epoch 5/100\n",
            "1700/1700 [==============================] - 10s 6ms/step - loss: 0.0114 - accuracy: 0.9929 - val_loss: 0.0144 - val_accuracy: 0.9840\n",
            "Epoch 6/100\n",
            "1700/1700 [==============================] - 10s 6ms/step - loss: 0.0113 - accuracy: 0.9931 - val_loss: 0.0144 - val_accuracy: 0.9843\n",
            "Epoch 7/100\n",
            "1700/1700 [==============================] - 10s 6ms/step - loss: 0.0113 - accuracy: 0.9931 - val_loss: 0.0142 - val_accuracy: 0.9842\n",
            "Epoch 8/100\n",
            "1700/1700 [==============================] - 10s 6ms/step - loss: 0.0113 - accuracy: 0.9931 - val_loss: 0.0145 - val_accuracy: 0.9841\n",
            "Epoch 9/100\n",
            "1700/1700 [==============================] - 10s 6ms/step - loss: 0.0112 - accuracy: 0.9931 - val_loss: 0.0147 - val_accuracy: 0.9837\n",
            "Epoch 10/100\n",
            "1700/1700 [==============================] - 10s 6ms/step - loss: 0.0112 - accuracy: 0.9931 - val_loss: 0.0146 - val_accuracy: 0.9840\n",
            "Epoch 11/100\n",
            "1700/1700 [==============================] - 10s 6ms/step - loss: 0.0112 - accuracy: 0.9931 - val_loss: 0.0146 - val_accuracy: 0.9841\n",
            "Epoch 12/100\n",
            "1700/1700 [==============================] - 10s 6ms/step - loss: 0.0112 - accuracy: 0.9931 - val_loss: 0.0146 - val_accuracy: 0.9845\n",
            "Epoch 13/100\n",
            "1700/1700 [==============================] - 10s 6ms/step - loss: 0.0112 - accuracy: 0.9931 - val_loss: 0.0148 - val_accuracy: 0.9840\n",
            "Epoch 14/100\n",
            "1700/1700 [==============================] - 9s 5ms/step - loss: 0.0112 - accuracy: 0.9931 - val_loss: 0.0148 - val_accuracy: 0.9841\n",
            "Epoch 15/100\n",
            "1700/1700 [==============================] - 9s 5ms/step - loss: 0.0112 - accuracy: 0.9931 - val_loss: 0.0144 - val_accuracy: 0.9850\n",
            "Epoch 16/100\n",
            "1700/1700 [==============================] - 9s 5ms/step - loss: 0.0112 - accuracy: 0.9931 - val_loss: 0.0147 - val_accuracy: 0.9847\n",
            "Epoch 17/100\n",
            "1700/1700 [==============================] - 9s 5ms/step - loss: 0.0112 - accuracy: 0.9931 - val_loss: 0.0147 - val_accuracy: 0.9845\n",
            "Epoch 18/100\n",
            "1700/1700 [==============================] - 9s 6ms/step - loss: 0.0112 - accuracy: 0.9931 - val_loss: 0.0146 - val_accuracy: 0.9849\n",
            "Epoch 19/100\n",
            "1700/1700 [==============================] - 9s 6ms/step - loss: 0.0112 - accuracy: 0.9931 - val_loss: 0.0148 - val_accuracy: 0.9845\n",
            "Epoch 20/100\n",
            "1700/1700 [==============================] - 9s 5ms/step - loss: 0.0112 - accuracy: 0.9932 - val_loss: 0.0150 - val_accuracy: 0.9843\n",
            "Epoch 21/100\n",
            "1700/1700 [==============================] - 9s 5ms/step - loss: 0.0111 - accuracy: 0.9931 - val_loss: 0.0145 - val_accuracy: 0.9851\n",
            "Epoch 22/100\n",
            "1700/1700 [==============================] - 9s 5ms/step - loss: 0.0111 - accuracy: 0.9931 - val_loss: 0.0145 - val_accuracy: 0.9852\n",
            "Epoch 23/100\n",
            "1700/1700 [==============================] - 9s 5ms/step - loss: 0.0111 - accuracy: 0.9932 - val_loss: 0.0143 - val_accuracy: 0.9854\n",
            "Epoch 24/100\n",
            "1700/1700 [==============================] - 9s 5ms/step - loss: 0.0111 - accuracy: 0.9932 - val_loss: 0.0147 - val_accuracy: 0.9848\n",
            "Epoch 25/100\n",
            "1700/1700 [==============================] - 9s 5ms/step - loss: 0.0111 - accuracy: 0.9931 - val_loss: 0.0147 - val_accuracy: 0.9848\n",
            "Epoch 26/100\n",
            "1700/1700 [==============================] - 9s 5ms/step - loss: 0.0111 - accuracy: 0.9932 - val_loss: 0.0147 - val_accuracy: 0.9848\n",
            "Epoch 27/100\n",
            "1700/1700 [==============================] - 9s 5ms/step - loss: 0.0111 - accuracy: 0.9932 - val_loss: 0.0149 - val_accuracy: 0.9847\n",
            "Epoch 28/100\n",
            "1700/1700 [==============================] - 9s 5ms/step - loss: 0.0111 - accuracy: 0.9931 - val_loss: 0.0146 - val_accuracy: 0.9854\n",
            "Epoch 29/100\n",
            "1700/1700 [==============================] - 9s 5ms/step - loss: 0.0111 - accuracy: 0.9932 - val_loss: 0.0149 - val_accuracy: 0.9849\n",
            "Epoch 30/100\n",
            "1700/1700 [==============================] - 9s 5ms/step - loss: 0.0111 - accuracy: 0.9932 - val_loss: 0.0150 - val_accuracy: 0.9847\n",
            "Epoch 31/100\n",
            "1700/1700 [==============================] - 9s 5ms/step - loss: 0.0111 - accuracy: 0.9932 - val_loss: 0.0147 - val_accuracy: 0.9852\n",
            "Epoch 32/100\n",
            "1700/1700 [==============================] - 9s 6ms/step - loss: 0.0111 - accuracy: 0.9932 - val_loss: 0.0147 - val_accuracy: 0.9852\n",
            "Epoch 33/100\n",
            "1700/1700 [==============================] - 9s 6ms/step - loss: 0.0111 - accuracy: 0.9932 - val_loss: 0.0148 - val_accuracy: 0.9850\n",
            "Epoch 34/100\n",
            "1700/1700 [==============================] - 9s 5ms/step - loss: 0.0111 - accuracy: 0.9932 - val_loss: 0.0147 - val_accuracy: 0.9853\n",
            "Epoch 35/100\n",
            "1700/1700 [==============================] - 9s 5ms/step - loss: 0.0111 - accuracy: 0.9932 - val_loss: 0.0147 - val_accuracy: 0.9850\n",
            "Epoch 36/100\n",
            "1700/1700 [==============================] - 9s 6ms/step - loss: 0.0111 - accuracy: 0.9932 - val_loss: 0.0148 - val_accuracy: 0.9851\n",
            "Epoch 37/100\n",
            "1700/1700 [==============================] - 10s 6ms/step - loss: 0.0111 - accuracy: 0.9933 - val_loss: 0.0148 - val_accuracy: 0.9852\n",
            "Epoch 38/100\n",
            "1700/1700 [==============================] - 9s 5ms/step - loss: 0.0110 - accuracy: 0.9932 - val_loss: 0.0150 - val_accuracy: 0.9848\n",
            "Epoch 39/100\n",
            "1700/1700 [==============================] - 9s 5ms/step - loss: 0.0110 - accuracy: 0.9933 - val_loss: 0.0148 - val_accuracy: 0.9855\n",
            "Epoch 40/100\n",
            "1700/1700 [==============================] - 9s 5ms/step - loss: 0.0111 - accuracy: 0.9932 - val_loss: 0.0145 - val_accuracy: 0.9861\n",
            "Epoch 41/100\n",
            "1700/1700 [==============================] - 9s 5ms/step - loss: 0.0110 - accuracy: 0.9933 - val_loss: 0.0148 - val_accuracy: 0.9858\n",
            "Epoch 42/100\n",
            "1700/1700 [==============================] - 9s 5ms/step - loss: 0.0110 - accuracy: 0.9933 - val_loss: 0.0149 - val_accuracy: 0.9855\n",
            "Epoch 43/100\n",
            "1700/1700 [==============================] - 9s 6ms/step - loss: 0.0110 - accuracy: 0.9933 - val_loss: 0.0146 - val_accuracy: 0.9858\n",
            "Epoch 44/100\n",
            "1700/1700 [==============================] - 10s 6ms/step - loss: 0.0110 - accuracy: 0.9933 - val_loss: 0.0147 - val_accuracy: 0.9858\n",
            "Epoch 45/100\n",
            "1700/1700 [==============================] - 10s 6ms/step - loss: 0.0110 - accuracy: 0.9933 - val_loss: 0.0148 - val_accuracy: 0.9855\n",
            "Epoch 46/100\n",
            "1700/1700 [==============================] - 10s 6ms/step - loss: 0.0110 - accuracy: 0.9933 - val_loss: 0.0150 - val_accuracy: 0.9853\n",
            "Epoch 47/100\n",
            "1700/1700 [==============================] - 10s 6ms/step - loss: 0.0110 - accuracy: 0.9933 - val_loss: 0.0148 - val_accuracy: 0.9853\n",
            "Epoch 48/100\n",
            "1700/1700 [==============================] - 10s 6ms/step - loss: 0.0110 - accuracy: 0.9933 - val_loss: 0.0149 - val_accuracy: 0.9857\n",
            "Epoch 49/100\n",
            "1700/1700 [==============================] - 10s 6ms/step - loss: 0.0110 - accuracy: 0.9933 - val_loss: 0.0150 - val_accuracy: 0.9855\n",
            "Epoch 50/100\n",
            "1700/1700 [==============================] - 10s 6ms/step - loss: 0.0110 - accuracy: 0.9934 - val_loss: 0.0149 - val_accuracy: 0.9861\n",
            "Epoch 51/100\n",
            "1700/1700 [==============================] - 9s 6ms/step - loss: 0.0110 - accuracy: 0.9934 - val_loss: 0.0151 - val_accuracy: 0.9855\n",
            "Epoch 52/100\n",
            "1700/1700 [==============================] - 10s 6ms/step - loss: 0.0110 - accuracy: 0.9934 - val_loss: 0.0150 - val_accuracy: 0.9858\n",
            "Epoch 53/100\n",
            "1700/1700 [==============================] - 13s 8ms/step - loss: 0.0110 - accuracy: 0.9934 - val_loss: 0.0149 - val_accuracy: 0.9863\n",
            "Epoch 54/100\n",
            "1700/1700 [==============================] - 10s 6ms/step - loss: 0.0110 - accuracy: 0.9934 - val_loss: 0.0148 - val_accuracy: 0.9865\n",
            "Epoch 55/100\n",
            "1700/1700 [==============================] - 10s 6ms/step - loss: 0.0110 - accuracy: 0.9935 - val_loss: 0.0152 - val_accuracy: 0.9862\n",
            "Epoch 56/100\n",
            "1700/1700 [==============================] - 10s 6ms/step - loss: 0.0109 - accuracy: 0.9935 - val_loss: 0.0153 - val_accuracy: 0.9860\n",
            "Epoch 57/100\n",
            "1700/1700 [==============================] - 10s 6ms/step - loss: 0.0109 - accuracy: 0.9935 - val_loss: 0.0153 - val_accuracy: 0.9868\n",
            "Epoch 58/100\n",
            "1700/1700 [==============================] - 10s 6ms/step - loss: 0.0109 - accuracy: 0.9935 - val_loss: 0.0151 - val_accuracy: 0.9865\n",
            "Epoch 59/100\n",
            "1700/1700 [==============================] - 9s 6ms/step - loss: 0.0109 - accuracy: 0.9935 - val_loss: 0.0151 - val_accuracy: 0.9864\n",
            "Epoch 60/100\n",
            "1700/1700 [==============================] - 10s 6ms/step - loss: 0.0109 - accuracy: 0.9935 - val_loss: 0.0154 - val_accuracy: 0.9868\n",
            "Epoch 61/100\n",
            "1700/1700 [==============================] - 10s 6ms/step - loss: 0.0109 - accuracy: 0.9935 - val_loss: 0.0152 - val_accuracy: 0.9865\n",
            "Epoch 62/100\n",
            "1700/1700 [==============================] - 10s 6ms/step - loss: 0.0109 - accuracy: 0.9935 - val_loss: 0.0156 - val_accuracy: 0.9863\n",
            "Epoch 63/100\n",
            "1700/1700 [==============================] - 10s 6ms/step - loss: 0.0108 - accuracy: 0.9937 - val_loss: 0.0155 - val_accuracy: 0.9869\n",
            "Epoch 64/100\n",
            "1700/1700 [==============================] - 10s 6ms/step - loss: 0.0108 - accuracy: 0.9935 - val_loss: 0.0158 - val_accuracy: 0.9864\n",
            "Epoch 65/100\n",
            "1700/1700 [==============================] - 10s 6ms/step - loss: 0.0108 - accuracy: 0.9936 - val_loss: 0.0156 - val_accuracy: 0.9868\n",
            "Epoch 66/100\n",
            "1700/1700 [==============================] - 10s 6ms/step - loss: 0.0108 - accuracy: 0.9937 - val_loss: 0.0156 - val_accuracy: 0.9866\n",
            "Epoch 67/100\n",
            "1700/1700 [==============================] - 10s 6ms/step - loss: 0.0108 - accuracy: 0.9937 - val_loss: 0.0153 - val_accuracy: 0.9872\n",
            "Epoch 68/100\n",
            "1700/1700 [==============================] - 10s 6ms/step - loss: 0.0108 - accuracy: 0.9938 - val_loss: 0.0153 - val_accuracy: 0.9876\n",
            "Epoch 69/100\n",
            "1700/1700 [==============================] - 10s 6ms/step - loss: 0.0108 - accuracy: 0.9936 - val_loss: 0.0154 - val_accuracy: 0.9869\n",
            "Epoch 70/100\n",
            "1700/1700 [==============================] - 10s 6ms/step - loss: 0.0108 - accuracy: 0.9938 - val_loss: 0.0155 - val_accuracy: 0.9871\n",
            "Epoch 71/100\n",
            "1700/1700 [==============================] - 10s 6ms/step - loss: 0.0108 - accuracy: 0.9936 - val_loss: 0.0155 - val_accuracy: 0.9862\n",
            "Epoch 72/100\n",
            "1700/1700 [==============================] - 10s 6ms/step - loss: 0.0109 - accuracy: 0.9935 - val_loss: 0.0151 - val_accuracy: 0.9862\n",
            "Epoch 73/100\n",
            "1700/1700 [==============================] - 10s 6ms/step - loss: 0.0107 - accuracy: 0.9938 - val_loss: 0.0154 - val_accuracy: 0.9876\n",
            "Epoch 74/100\n",
            "1700/1700 [==============================] - 10s 6ms/step - loss: 0.0107 - accuracy: 0.9938 - val_loss: 0.0157 - val_accuracy: 0.9867\n",
            "Epoch 75/100\n",
            "1700/1700 [==============================] - 10s 6ms/step - loss: 0.0107 - accuracy: 0.9938 - val_loss: 0.0155 - val_accuracy: 0.9867\n",
            "Epoch 76/100\n",
            "1700/1700 [==============================] - 10s 6ms/step - loss: 0.0107 - accuracy: 0.9939 - val_loss: 0.0155 - val_accuracy: 0.9872\n",
            "Epoch 77/100\n",
            "1700/1700 [==============================] - 10s 6ms/step - loss: 0.0106 - accuracy: 0.9938 - val_loss: 0.0155 - val_accuracy: 0.9867\n",
            "Epoch 78/100\n",
            "1700/1700 [==============================] - 10s 6ms/step - loss: 0.0106 - accuracy: 0.9939 - val_loss: 0.0156 - val_accuracy: 0.9877\n",
            "Epoch 79/100\n",
            "1700/1700 [==============================] - 10s 6ms/step - loss: 0.0106 - accuracy: 0.9938 - val_loss: 0.0154 - val_accuracy: 0.9870\n",
            "Epoch 80/100\n",
            "1700/1700 [==============================] - 10s 6ms/step - loss: 0.0106 - accuracy: 0.9939 - val_loss: 0.0155 - val_accuracy: 0.9869\n",
            "Epoch 81/100\n",
            "1700/1700 [==============================] - 10s 6ms/step - loss: 0.0106 - accuracy: 0.9940 - val_loss: 0.0159 - val_accuracy: 0.9877\n",
            "Epoch 82/100\n",
            "1700/1700 [==============================] - 10s 6ms/step - loss: 0.0105 - accuracy: 0.9940 - val_loss: 0.0157 - val_accuracy: 0.9877\n",
            "Epoch 83/100\n",
            "1700/1700 [==============================] - 10s 6ms/step - loss: 0.0105 - accuracy: 0.9942 - val_loss: 0.0155 - val_accuracy: 0.9872\n",
            "Epoch 84/100\n",
            "1700/1700 [==============================] - 10s 6ms/step - loss: 0.0105 - accuracy: 0.9941 - val_loss: 0.0160 - val_accuracy: 0.9881\n",
            "Epoch 85/100\n",
            "1700/1700 [==============================] - 10s 6ms/step - loss: 0.0106 - accuracy: 0.9940 - val_loss: 0.0155 - val_accuracy: 0.9868\n",
            "Epoch 86/100\n",
            "1700/1700 [==============================] - 10s 6ms/step - loss: 0.0105 - accuracy: 0.9941 - val_loss: 0.0161 - val_accuracy: 0.9875\n",
            "Epoch 87/100\n",
            "1700/1700 [==============================] - 10s 6ms/step - loss: 0.0105 - accuracy: 0.9940 - val_loss: 0.0166 - val_accuracy: 0.9878\n",
            "Epoch 88/100\n",
            "1700/1700 [==============================] - 10s 6ms/step - loss: 0.0107 - accuracy: 0.9938 - val_loss: 0.0151 - val_accuracy: 0.9864\n",
            "Epoch 89/100\n",
            "1700/1700 [==============================] - 10s 6ms/step - loss: 0.0105 - accuracy: 0.9940 - val_loss: 0.0161 - val_accuracy: 0.9882\n",
            "Epoch 90/100\n",
            "1700/1700 [==============================] - 10s 6ms/step - loss: 0.0104 - accuracy: 0.9942 - val_loss: 0.0162 - val_accuracy: 0.9869\n",
            "Epoch 91/100\n",
            "1700/1700 [==============================] - 10s 6ms/step - loss: 0.0104 - accuracy: 0.9942 - val_loss: 0.0162 - val_accuracy: 0.9873\n",
            "Epoch 92/100\n",
            "1700/1700 [==============================] - 9s 6ms/step - loss: 0.0103 - accuracy: 0.9943 - val_loss: 0.0158 - val_accuracy: 0.9883\n",
            "Epoch 93/100\n",
            "1700/1700 [==============================] - 10s 6ms/step - loss: 0.0105 - accuracy: 0.9940 - val_loss: 0.0157 - val_accuracy: 0.9869\n",
            "Epoch 94/100\n",
            "1700/1700 [==============================] - 10s 6ms/step - loss: 0.0104 - accuracy: 0.9942 - val_loss: 0.0160 - val_accuracy: 0.9870\n",
            "Epoch 95/100\n",
            "1700/1700 [==============================] - 9s 6ms/step - loss: 0.0105 - accuracy: 0.9940 - val_loss: 0.0157 - val_accuracy: 0.9874\n",
            "Epoch 96/100\n",
            "1700/1700 [==============================] - 10s 6ms/step - loss: 0.0104 - accuracy: 0.9942 - val_loss: 0.0160 - val_accuracy: 0.9878\n",
            "Epoch 97/100\n",
            "1700/1700 [==============================] - 10s 6ms/step - loss: 0.0102 - accuracy: 0.9944 - val_loss: 0.0156 - val_accuracy: 0.9883\n",
            "Epoch 98/100\n",
            "1700/1700 [==============================] - 10s 6ms/step - loss: 0.0104 - accuracy: 0.9942 - val_loss: 0.0160 - val_accuracy: 0.9877\n",
            "Epoch 99/100\n",
            "1700/1700 [==============================] - 10s 6ms/step - loss: 0.0101 - accuracy: 0.9945 - val_loss: 0.0159 - val_accuracy: 0.9882\n",
            "Epoch 100/100\n",
            "1700/1700 [==============================] - 10s 6ms/step - loss: 0.0101 - accuracy: 0.9946 - val_loss: 0.0162 - val_accuracy: 0.9883\n"
          ],
          "name": "stdout"
        }
      ]
    },
    {
      "cell_type": "code",
      "metadata": {
        "id": "tBY8vqcLtXjM",
        "colab_type": "code",
        "colab": {
          "base_uri": "https://localhost:8080/",
          "height": 1000
        },
        "outputId": "58d95dd6-bbbd-429a-8709-707fbea2b8cf"
      },
      "source": [
        "# fit network_kitchens domain\n",
        "history4 = model_bi_LSTM.fit(X_train_k, Y_train_k, validation_data=(X_valid_k, Y_valid_k),batch_size=128,epochs=100)"
      ],
      "execution_count": 105,
      "outputs": [
        {
          "output_type": "stream",
          "text": [
            "Train on 1700 samples, validate on 300 samples\n",
            "Epoch 1/100\n",
            "1700/1700 [==============================] - 10s 6ms/step - loss: 0.0117 - accuracy: 0.9926 - val_loss: 0.0153 - val_accuracy: 0.9853\n",
            "Epoch 2/100\n",
            "1700/1700 [==============================] - 10s 6ms/step - loss: 0.0115 - accuracy: 0.9930 - val_loss: 0.0151 - val_accuracy: 0.9844\n",
            "Epoch 3/100\n",
            "1700/1700 [==============================] - 10s 6ms/step - loss: 0.0114 - accuracy: 0.9931 - val_loss: 0.0143 - val_accuracy: 0.9857\n",
            "Epoch 4/100\n",
            "1700/1700 [==============================] - 10s 6ms/step - loss: 0.0114 - accuracy: 0.9931 - val_loss: 0.0145 - val_accuracy: 0.9850\n",
            "Epoch 5/100\n",
            "1700/1700 [==============================] - 10s 6ms/step - loss: 0.0113 - accuracy: 0.9931 - val_loss: 0.0149 - val_accuracy: 0.9847\n",
            "Epoch 6/100\n",
            "1700/1700 [==============================] - 10s 6ms/step - loss: 0.0113 - accuracy: 0.9932 - val_loss: 0.0148 - val_accuracy: 0.9845\n",
            "Epoch 7/100\n",
            "1700/1700 [==============================] - 10s 6ms/step - loss: 0.0112 - accuracy: 0.9933 - val_loss: 0.0146 - val_accuracy: 0.9847\n",
            "Epoch 8/100\n",
            "1700/1700 [==============================] - 10s 6ms/step - loss: 0.0112 - accuracy: 0.9933 - val_loss: 0.0147 - val_accuracy: 0.9847\n",
            "Epoch 9/100\n",
            "1700/1700 [==============================] - 10s 6ms/step - loss: 0.0112 - accuracy: 0.9933 - val_loss: 0.0148 - val_accuracy: 0.9847\n",
            "Epoch 10/100\n",
            "1700/1700 [==============================] - 10s 6ms/step - loss: 0.0112 - accuracy: 0.9933 - val_loss: 0.0149 - val_accuracy: 0.9846\n",
            "Epoch 11/100\n",
            "1700/1700 [==============================] - 10s 6ms/step - loss: 0.0112 - accuracy: 0.9933 - val_loss: 0.0149 - val_accuracy: 0.9847\n",
            "Epoch 12/100\n",
            "1700/1700 [==============================] - 10s 6ms/step - loss: 0.0112 - accuracy: 0.9933 - val_loss: 0.0148 - val_accuracy: 0.9847\n",
            "Epoch 13/100\n",
            "1700/1700 [==============================] - 10s 6ms/step - loss: 0.0112 - accuracy: 0.9933 - val_loss: 0.0150 - val_accuracy: 0.9848\n",
            "Epoch 14/100\n",
            "1700/1700 [==============================] - 10s 6ms/step - loss: 0.0112 - accuracy: 0.9933 - val_loss: 0.0146 - val_accuracy: 0.9848\n",
            "Epoch 15/100\n",
            "1700/1700 [==============================] - 11s 6ms/step - loss: 0.0111 - accuracy: 0.9933 - val_loss: 0.0150 - val_accuracy: 0.9849\n",
            "Epoch 16/100\n",
            "1700/1700 [==============================] - 13s 7ms/step - loss: 0.0111 - accuracy: 0.9934 - val_loss: 0.0149 - val_accuracy: 0.9848\n",
            "Epoch 17/100\n",
            "1700/1700 [==============================] - 10s 6ms/step - loss: 0.0111 - accuracy: 0.9934 - val_loss: 0.0150 - val_accuracy: 0.9848\n",
            "Epoch 18/100\n",
            "1700/1700 [==============================] - 10s 6ms/step - loss: 0.0111 - accuracy: 0.9934 - val_loss: 0.0149 - val_accuracy: 0.9849\n",
            "Epoch 19/100\n",
            "1700/1700 [==============================] - 10s 6ms/step - loss: 0.0111 - accuracy: 0.9933 - val_loss: 0.0150 - val_accuracy: 0.9849\n",
            "Epoch 20/100\n",
            "1700/1700 [==============================] - 10s 6ms/step - loss: 0.0111 - accuracy: 0.9934 - val_loss: 0.0149 - val_accuracy: 0.9848\n",
            "Epoch 21/100\n",
            "1700/1700 [==============================] - 10s 6ms/step - loss: 0.0111 - accuracy: 0.9934 - val_loss: 0.0148 - val_accuracy: 0.9851\n",
            "Epoch 22/100\n",
            "1700/1700 [==============================] - 10s 6ms/step - loss: 0.0111 - accuracy: 0.9934 - val_loss: 0.0149 - val_accuracy: 0.9849\n",
            "Epoch 23/100\n",
            "1700/1700 [==============================] - 10s 6ms/step - loss: 0.0110 - accuracy: 0.9934 - val_loss: 0.0151 - val_accuracy: 0.9850\n",
            "Epoch 24/100\n",
            "1700/1700 [==============================] - 10s 6ms/step - loss: 0.0110 - accuracy: 0.9934 - val_loss: 0.0145 - val_accuracy: 0.9858\n",
            "Epoch 25/100\n",
            "1700/1700 [==============================] - 10s 6ms/step - loss: 0.0111 - accuracy: 0.9934 - val_loss: 0.0149 - val_accuracy: 0.9850\n",
            "Epoch 26/100\n",
            "1700/1700 [==============================] - 10s 6ms/step - loss: 0.0110 - accuracy: 0.9934 - val_loss: 0.0150 - val_accuracy: 0.9851\n",
            "Epoch 27/100\n",
            "1700/1700 [==============================] - 10s 6ms/step - loss: 0.0110 - accuracy: 0.9934 - val_loss: 0.0148 - val_accuracy: 0.9850\n",
            "Epoch 28/100\n",
            "1700/1700 [==============================] - 10s 6ms/step - loss: 0.0110 - accuracy: 0.9934 - val_loss: 0.0149 - val_accuracy: 0.9857\n",
            "Epoch 29/100\n",
            "1700/1700 [==============================] - 10s 6ms/step - loss: 0.0110 - accuracy: 0.9935 - val_loss: 0.0147 - val_accuracy: 0.9854\n",
            "Epoch 30/100\n",
            "1700/1700 [==============================] - 10s 6ms/step - loss: 0.0109 - accuracy: 0.9935 - val_loss: 0.0148 - val_accuracy: 0.9856\n",
            "Epoch 31/100\n",
            "1700/1700 [==============================] - 10s 6ms/step - loss: 0.0109 - accuracy: 0.9934 - val_loss: 0.0147 - val_accuracy: 0.9856\n",
            "Epoch 32/100\n",
            "1700/1700 [==============================] - 10s 6ms/step - loss: 0.0109 - accuracy: 0.9935 - val_loss: 0.0150 - val_accuracy: 0.9854\n",
            "Epoch 33/100\n",
            "1700/1700 [==============================] - 10s 6ms/step - loss: 0.0109 - accuracy: 0.9936 - val_loss: 0.0150 - val_accuracy: 0.9855\n",
            "Epoch 34/100\n",
            "1700/1700 [==============================] - 10s 6ms/step - loss: 0.0108 - accuracy: 0.9936 - val_loss: 0.0152 - val_accuracy: 0.9857\n",
            "Epoch 35/100\n",
            "1700/1700 [==============================] - 10s 6ms/step - loss: 0.0109 - accuracy: 0.9936 - val_loss: 0.0152 - val_accuracy: 0.9856\n",
            "Epoch 36/100\n",
            "1700/1700 [==============================] - 10s 6ms/step - loss: 0.0108 - accuracy: 0.9938 - val_loss: 0.0151 - val_accuracy: 0.9859\n",
            "Epoch 37/100\n",
            "1700/1700 [==============================] - 10s 6ms/step - loss: 0.0108 - accuracy: 0.9938 - val_loss: 0.0152 - val_accuracy: 0.9856\n",
            "Epoch 38/100\n",
            "1700/1700 [==============================] - 10s 6ms/step - loss: 0.0107 - accuracy: 0.9937 - val_loss: 0.0154 - val_accuracy: 0.9860\n",
            "Epoch 39/100\n",
            "1700/1700 [==============================] - 10s 6ms/step - loss: 0.0107 - accuracy: 0.9938 - val_loss: 0.0149 - val_accuracy: 0.9866\n",
            "Epoch 40/100\n",
            "1700/1700 [==============================] - 10s 6ms/step - loss: 0.0107 - accuracy: 0.9938 - val_loss: 0.0152 - val_accuracy: 0.9866\n",
            "Epoch 41/100\n",
            "1700/1700 [==============================] - 10s 6ms/step - loss: 0.0107 - accuracy: 0.9939 - val_loss: 0.0154 - val_accuracy: 0.9860\n",
            "Epoch 42/100\n",
            "1700/1700 [==============================] - 10s 6ms/step - loss: 0.0106 - accuracy: 0.9940 - val_loss: 0.0151 - val_accuracy: 0.9866\n",
            "Epoch 43/100\n",
            "1700/1700 [==============================] - 10s 6ms/step - loss: 0.0106 - accuracy: 0.9941 - val_loss: 0.0157 - val_accuracy: 0.9865\n",
            "Epoch 44/100\n",
            "1700/1700 [==============================] - 10s 6ms/step - loss: 0.0106 - accuracy: 0.9940 - val_loss: 0.0154 - val_accuracy: 0.9866\n",
            "Epoch 45/100\n",
            "1700/1700 [==============================] - 10s 6ms/step - loss: 0.0105 - accuracy: 0.9940 - val_loss: 0.0152 - val_accuracy: 0.9865\n",
            "Epoch 46/100\n",
            "1700/1700 [==============================] - 10s 6ms/step - loss: 0.0107 - accuracy: 0.9939 - val_loss: 0.0157 - val_accuracy: 0.9856\n",
            "Epoch 47/100\n",
            "1700/1700 [==============================] - 10s 6ms/step - loss: 0.0106 - accuracy: 0.9940 - val_loss: 0.0158 - val_accuracy: 0.9867\n",
            "Epoch 48/100\n",
            "1700/1700 [==============================] - 10s 6ms/step - loss: 0.0105 - accuracy: 0.9942 - val_loss: 0.0155 - val_accuracy: 0.9872\n",
            "Epoch 49/100\n",
            "1700/1700 [==============================] - 10s 6ms/step - loss: 0.0105 - accuracy: 0.9941 - val_loss: 0.0153 - val_accuracy: 0.9869\n",
            "Epoch 50/100\n",
            "1700/1700 [==============================] - 10s 6ms/step - loss: 0.0103 - accuracy: 0.9944 - val_loss: 0.0161 - val_accuracy: 0.9867\n",
            "Epoch 51/100\n",
            "1700/1700 [==============================] - 10s 6ms/step - loss: 0.0103 - accuracy: 0.9943 - val_loss: 0.0163 - val_accuracy: 0.9866\n",
            "Epoch 52/100\n",
            "1700/1700 [==============================] - 10s 6ms/step - loss: 0.0102 - accuracy: 0.9944 - val_loss: 0.0158 - val_accuracy: 0.9870\n",
            "Epoch 53/100\n",
            "1700/1700 [==============================] - 10s 6ms/step - loss: 0.0101 - accuracy: 0.9945 - val_loss: 0.0161 - val_accuracy: 0.9868\n",
            "Epoch 54/100\n",
            "1700/1700 [==============================] - 10s 6ms/step - loss: 0.0102 - accuracy: 0.9944 - val_loss: 0.0154 - val_accuracy: 0.9870\n",
            "Epoch 55/100\n",
            "1700/1700 [==============================] - 10s 6ms/step - loss: 0.0102 - accuracy: 0.9945 - val_loss: 0.0155 - val_accuracy: 0.9872\n",
            "Epoch 56/100\n",
            "1700/1700 [==============================] - 10s 6ms/step - loss: 0.0103 - accuracy: 0.9945 - val_loss: 0.0166 - val_accuracy: 0.9868\n",
            "Epoch 57/100\n",
            "1700/1700 [==============================] - 10s 6ms/step - loss: 0.0101 - accuracy: 0.9944 - val_loss: 0.0158 - val_accuracy: 0.9871\n",
            "Epoch 58/100\n",
            "1700/1700 [==============================] - 10s 6ms/step - loss: 0.0101 - accuracy: 0.9945 - val_loss: 0.0165 - val_accuracy: 0.9866\n",
            "Epoch 59/100\n",
            "1700/1700 [==============================] - 10s 6ms/step - loss: 0.0101 - accuracy: 0.9943 - val_loss: 0.0161 - val_accuracy: 0.9878\n",
            "Epoch 60/100\n",
            "1700/1700 [==============================] - 10s 6ms/step - loss: 0.0102 - accuracy: 0.9944 - val_loss: 0.0169 - val_accuracy: 0.9872\n",
            "Epoch 61/100\n",
            "1700/1700 [==============================] - 10s 6ms/step - loss: 0.0100 - accuracy: 0.9947 - val_loss: 0.0158 - val_accuracy: 0.9872\n",
            "Epoch 62/100\n",
            "1700/1700 [==============================] - 10s 6ms/step - loss: 0.0100 - accuracy: 0.9948 - val_loss: 0.0166 - val_accuracy: 0.9875\n",
            "Epoch 63/100\n",
            "1700/1700 [==============================] - 10s 6ms/step - loss: 0.0097 - accuracy: 0.9949 - val_loss: 0.0164 - val_accuracy: 0.9874\n",
            "Epoch 64/100\n",
            "1700/1700 [==============================] - 10s 6ms/step - loss: 0.0095 - accuracy: 0.9952 - val_loss: 0.0163 - val_accuracy: 0.9879\n",
            "Epoch 65/100\n",
            "1700/1700 [==============================] - 10s 6ms/step - loss: 0.0096 - accuracy: 0.9950 - val_loss: 0.0159 - val_accuracy: 0.9878\n",
            "Epoch 66/100\n",
            "1700/1700 [==============================] - 10s 6ms/step - loss: 0.0094 - accuracy: 0.9952 - val_loss: 0.0169 - val_accuracy: 0.9881\n",
            "Epoch 67/100\n",
            "1700/1700 [==============================] - 10s 6ms/step - loss: 0.0094 - accuracy: 0.9953 - val_loss: 0.0167 - val_accuracy: 0.9881\n",
            "Epoch 68/100\n",
            "1700/1700 [==============================] - 10s 6ms/step - loss: 0.0093 - accuracy: 0.9952 - val_loss: 0.0159 - val_accuracy: 0.9885\n",
            "Epoch 69/100\n",
            "1700/1700 [==============================] - 10s 6ms/step - loss: 0.0095 - accuracy: 0.9950 - val_loss: 0.0161 - val_accuracy: 0.9879\n",
            "Epoch 70/100\n",
            "1700/1700 [==============================] - 10s 6ms/step - loss: 0.0095 - accuracy: 0.9950 - val_loss: 0.0168 - val_accuracy: 0.9882\n",
            "Epoch 71/100\n",
            "1700/1700 [==============================] - 10s 6ms/step - loss: 0.0091 - accuracy: 0.9953 - val_loss: 0.0172 - val_accuracy: 0.9882\n",
            "Epoch 72/100\n",
            "1700/1700 [==============================] - 10s 6ms/step - loss: 0.0091 - accuracy: 0.9954 - val_loss: 0.0174 - val_accuracy: 0.9877\n",
            "Epoch 73/100\n",
            "1700/1700 [==============================] - 10s 6ms/step - loss: 0.0089 - accuracy: 0.9954 - val_loss: 0.0176 - val_accuracy: 0.9881\n",
            "Epoch 74/100\n",
            "1700/1700 [==============================] - 10s 6ms/step - loss: 0.0089 - accuracy: 0.9954 - val_loss: 0.0174 - val_accuracy: 0.9880\n",
            "Epoch 75/100\n",
            "1700/1700 [==============================] - 10s 6ms/step - loss: 0.0090 - accuracy: 0.9955 - val_loss: 0.0174 - val_accuracy: 0.9883\n",
            "Epoch 76/100\n",
            "1700/1700 [==============================] - 10s 6ms/step - loss: 0.0086 - accuracy: 0.9956 - val_loss: 0.0173 - val_accuracy: 0.9882\n",
            "Epoch 77/100\n",
            "1700/1700 [==============================] - 10s 6ms/step - loss: 0.0088 - accuracy: 0.9955 - val_loss: 0.0171 - val_accuracy: 0.9885\n",
            "Epoch 78/100\n",
            "1700/1700 [==============================] - 13s 8ms/step - loss: 0.0088 - accuracy: 0.9955 - val_loss: 0.0180 - val_accuracy: 0.9886\n",
            "Epoch 79/100\n",
            "1700/1700 [==============================] - 10s 6ms/step - loss: 0.0087 - accuracy: 0.9956 - val_loss: 0.0175 - val_accuracy: 0.9887\n",
            "Epoch 80/100\n",
            "1700/1700 [==============================] - 10s 6ms/step - loss: 0.0084 - accuracy: 0.9958 - val_loss: 0.0181 - val_accuracy: 0.9885\n",
            "Epoch 81/100\n",
            "1700/1700 [==============================] - 10s 6ms/step - loss: 0.0081 - accuracy: 0.9960 - val_loss: 0.0181 - val_accuracy: 0.9886\n",
            "Epoch 82/100\n",
            "1700/1700 [==============================] - 10s 6ms/step - loss: 0.0080 - accuracy: 0.9960 - val_loss: 0.0176 - val_accuracy: 0.9884\n",
            "Epoch 83/100\n",
            "1700/1700 [==============================] - 10s 6ms/step - loss: 0.0079 - accuracy: 0.9962 - val_loss: 0.0180 - val_accuracy: 0.9886\n",
            "Epoch 84/100\n",
            "1700/1700 [==============================] - 10s 6ms/step - loss: 0.0079 - accuracy: 0.9961 - val_loss: 0.0177 - val_accuracy: 0.9888\n",
            "Epoch 85/100\n",
            "1700/1700 [==============================] - 10s 6ms/step - loss: 0.0075 - accuracy: 0.9964 - val_loss: 0.0188 - val_accuracy: 0.9891\n",
            "Epoch 86/100\n",
            "1700/1700 [==============================] - 10s 6ms/step - loss: 0.0079 - accuracy: 0.9960 - val_loss: 0.0191 - val_accuracy: 0.9888\n",
            "Epoch 87/100\n",
            "1700/1700 [==============================] - 10s 6ms/step - loss: 0.0079 - accuracy: 0.9961 - val_loss: 0.0193 - val_accuracy: 0.9888\n",
            "Epoch 88/100\n",
            "1700/1700 [==============================] - 10s 6ms/step - loss: 0.0078 - accuracy: 0.9962 - val_loss: 0.0198 - val_accuracy: 0.9888\n",
            "Epoch 89/100\n",
            "1700/1700 [==============================] - 10s 6ms/step - loss: 0.0073 - accuracy: 0.9966 - val_loss: 0.0187 - val_accuracy: 0.9893\n",
            "Epoch 90/100\n",
            "1700/1700 [==============================] - 10s 6ms/step - loss: 0.0071 - accuracy: 0.9966 - val_loss: 0.0203 - val_accuracy: 0.9892\n",
            "Epoch 91/100\n",
            "1700/1700 [==============================] - 10s 6ms/step - loss: 0.0071 - accuracy: 0.9966 - val_loss: 0.0186 - val_accuracy: 0.9893\n",
            "Epoch 92/100\n",
            "1700/1700 [==============================] - 10s 6ms/step - loss: 0.0071 - accuracy: 0.9966 - val_loss: 0.0201 - val_accuracy: 0.9894\n",
            "Epoch 93/100\n",
            "1700/1700 [==============================] - 10s 6ms/step - loss: 0.0066 - accuracy: 0.9970 - val_loss: 0.0204 - val_accuracy: 0.9890\n",
            "Epoch 94/100\n",
            "1700/1700 [==============================] - 10s 6ms/step - loss: 0.0065 - accuracy: 0.9970 - val_loss: 0.0211 - val_accuracy: 0.9895\n",
            "Epoch 95/100\n",
            "1700/1700 [==============================] - 10s 6ms/step - loss: 0.0065 - accuracy: 0.9970 - val_loss: 0.0204 - val_accuracy: 0.9890\n",
            "Epoch 96/100\n",
            "1700/1700 [==============================] - 10s 6ms/step - loss: 0.0065 - accuracy: 0.9970 - val_loss: 0.0217 - val_accuracy: 0.9892\n",
            "Epoch 97/100\n",
            "1700/1700 [==============================] - 10s 6ms/step - loss: 0.0061 - accuracy: 0.9973 - val_loss: 0.0220 - val_accuracy: 0.9894\n",
            "Epoch 98/100\n",
            "1700/1700 [==============================] - 10s 6ms/step - loss: 0.0059 - accuracy: 0.9974 - val_loss: 0.0225 - val_accuracy: 0.9895\n",
            "Epoch 99/100\n",
            "1700/1700 [==============================] - 10s 6ms/step - loss: 0.0064 - accuracy: 0.9971 - val_loss: 0.0208 - val_accuracy: 0.9894\n",
            "Epoch 100/100\n",
            "1700/1700 [==============================] - 10s 6ms/step - loss: 0.0058 - accuracy: 0.9975 - val_loss: 0.0218 - val_accuracy: 0.9899\n"
          ],
          "name": "stdout"
        }
      ]
    },
    {
      "cell_type": "code",
      "metadata": {
        "id": "PoyUh-IExJHC",
        "colab_type": "code",
        "colab": {}
      },
      "source": [
        "def plot_performance(history=None, ylim_pad=[0, 0]):\n",
        "    xlabel = 'Epoch'\n",
        "    legends = ['Training', 'Validation']\n",
        "\n",
        "    plt.figure(figsize=(20, 5))\n",
        "\n",
        "    y1 = history.history['accuracy']\n",
        "    y2 = history.history['val_accuracy']\n",
        "\n",
        "    min_y = min(min(y1), min(y2))-ylim_pad[0]\n",
        "    max_y = max(max(y1), max(y2))+ylim_pad[0]\n",
        "\n",
        "\n",
        "    plt.subplot(121)\n",
        "\n",
        "    plt.plot(y1)\n",
        "    plt.plot(y2)\n",
        "\n",
        "    plt.title('Model Accuracy', fontsize=17)\n",
        "    plt.xlabel(xlabel, fontsize=15)\n",
        "    plt.ylabel('Accuracy', fontsize=15)\n",
        "    plt.ylim(min_y, max_y)\n",
        "    plt.legend(legends, loc='upper left')\n",
        "    plt.grid()\n",
        "\n",
        "    y1 = history.history['loss']\n",
        "    y2 = history.history['val_loss']\n",
        "\n",
        "    min_y = min(min(y1), min(y2))-ylim_pad[1]\n",
        "    max_y = max(max(y1), max(y2))+ylim_pad[1]\n",
        "\n",
        "\n",
        "    plt.subplot(122)\n",
        "\n",
        "    plt.plot(y1)\n",
        "    plt.plot(y2)\n",
        "\n",
        "    plt.title('Model Loss', fontsize=17)\n",
        "    plt.xlabel(xlabel, fontsize=15)\n",
        "    plt.ylabel('Loss', fontsize=15)\n",
        "    plt.ylim(min_y, max_y)\n",
        "    plt.legend(legends, loc='upper left')\n",
        "    plt.grid()\n",
        "\n",
        "    plt.show()"
      ],
      "execution_count": 110,
      "outputs": []
    },
    {
      "cell_type": "code",
      "metadata": {
        "id": "51sAoCBoxW3M",
        "colab_type": "code",
        "colab": {
          "base_uri": "https://localhost:8080/",
          "height": 339
        },
        "outputId": "1b7d97b0-19eb-41e5-b314-09518bde0cac"
      },
      "source": [
        "plot_performance(history=history1)"
      ],
      "execution_count": 111,
      "outputs": [
        {
          "output_type": "display_data",
          "data": {
            "image/png": "[encoded data removed]",
            "text/plain": [
              "<Figure size 1440x360 with 2 Axes>"
            ]
          },
          "metadata": {
            "tags": [],
            "needs_background": "light"
          }
        }
      ]
    },
    {
      "cell_type": "code",
      "metadata": {
        "id": "K3K91cyrxdb_",
        "colab_type": "code",
        "colab": {
          "base_uri": "https://localhost:8080/",
          "height": 337
        },
        "outputId": "6b2ca6e8-bcdd-4bf8-9b51-e683cb21a7d0"
      },
      "source": [
        "plot_performance(history=history2)"
      ],
      "execution_count": 113,
      "outputs": [
        {
          "output_type": "display_data",
          "data": {
            "image/png": "[encoded data removed]",
            "text/plain": [
              "<Figure size 1440x360 with 2 Axes>"
            ]
          },
          "metadata": {
            "tags": [],
            "needs_background": "light"
          }
        }
      ]
    },
    {
      "cell_type": "code",
      "metadata": {
        "id": "GEkqwXyBxeoz",
        "colab_type": "code",
        "colab": {
          "base_uri": "https://localhost:8080/",
          "height": 337
        },
        "outputId": "5d93cfb7-4f52-43cd-84c1-ca926ac4d046"
      },
      "source": [
        "plot_performance(history=history3)"
      ],
      "execution_count": 115,
      "outputs": [
        {
          "output_type": "display_data",
          "data": {
            "image/png": "[encoded data removed]",
            "text/plain": [
              "<Figure size 1440x360 with 2 Axes>"
            ]
          },
          "metadata": {
            "tags": [],
            "needs_background": "light"
          }
        }
      ]
    },
    {
      "cell_type": "code",
      "metadata": {
        "id": "epDeI7Xoxf5F",
        "colab_type": "code",
        "colab": {
          "base_uri": "https://localhost:8080/",
          "height": 337
        },
        "outputId": "20030dcc-bd35-4219-a469-4d0074c9ea39"
      },
      "source": [
        "plot_performance(history=history4)"
      ],
      "execution_count": 117,
      "outputs": [
        {
          "output_type": "display_data",
          "data": {
            "image/png": "[encoded data removed]",
            "text/plain": [
              "<Figure size 1440x360 with 2 Axes>"
            ]
          },
          "metadata": {
            "tags": [],
            "needs_background": "light"
          }
        }
      ]
    },
    {
      "cell_type": "code",
      "metadata": {
        "id": "LBx4KB7hxkw_",
        "colab_type": "code",
        "colab": {}
      },
      "source": [
        ""
      ],
      "execution_count": null,
      "outputs": []
    }
  ]
}